{
 "cells": [
  {
   "cell_type": "markdown",
   "id": "1e396802",
   "metadata": {},
   "source": [
    "# **Build The vanilla RAG**"
   ]
  },
  {
   "cell_type": "code",
   "execution_count": 5,
   "id": "b7ae570f",
   "metadata": {},
   "outputs": [
    {
     "data": {
      "text/plain": [
       "True"
      ]
     },
     "execution_count": 5,
     "metadata": {},
     "output_type": "execute_result"
    }
   ],
   "source": [
    "from langchain.document_loaders import TextLoader\n",
    "from langchain.schema import Document\n",
    "import glob, os\n",
    "from dotenv import load_dotenv\n",
    "load_dotenv()"
   ]
  },
  {
   "cell_type": "markdown",
   "id": "d222d95d",
   "metadata": {},
   "source": [
    "## **Load all text data**"
   ]
  },
  {
   "cell_type": "code",
   "execution_count": 9,
   "id": "75ffa509",
   "metadata": {},
   "outputs": [
    {
     "data": {
      "text/plain": [
       "21"
      ]
     },
     "execution_count": 9,
     "metadata": {},
     "output_type": "execute_result"
    }
   ],
   "source": [
    "phone_docs = []\n",
    "for file_path in glob.glob(\"../data/*.txt\"):\n",
    "    loader = TextLoader(file_path)\n",
    "    doc = loader.load()[0]\n",
    "    phone_name = os.path.basename(file_path).replace(\".txt\", \"\")\n",
    "    doc.metadata = {\n",
    "        \"phone_name\": phone_name,\n",
    "        \"phone_brand\": \"samsung\"\n",
    "    }\n",
    "    phone_docs.append(doc)\n",
    "\n",
    "len(phone_docs)\n"
   ]
  },
  {
   "cell_type": "code",
   "execution_count": 10,
   "id": "d91da0eb",
   "metadata": {},
   "outputs": [
    {
     "data": {
      "text/plain": [
       "Document(metadata={'phone_name': 'samsung_galaxy_s25_ultra', 'phone_brand': 'samsung'}, page_content='--- Name ---\\nSamsung Galaxy S25 Ultra\\n\\n--- Network ---\\nTechnology: GSM / CDMA / HSPA / EVDO / LTE / 5G\\n2G bands: GSM 850 / 900 / 1800 / 1900\\n: 1, 2, 5, 7, 25, 28, 41, 66, 71, 77, 78, 257, 258, 260, 261 SA/NSA/Sub6/mmWave - USA unlocked\\n3G bands: HSDPA 850 / 900 / 1700(AWS) / 1900 / 2100\\n4G bands: 1, 2, 3, 4, 5, 7, 8, 12, 13, 17, 18, 19, 20, 25, 26, 28, 32, 38, 39, 40, 41, 66 - International\\n5G bands: 1, 2, 3, 5, 7, 8, 12, 20, 25, 26, 28, 38, 40, 41, 66, 75, 77, 78 SA/NSA/Sub6 - International\\nSpeed: HSPA, LTE (up to 7CA), 5G\\n\\n--- Launch ---\\nAnnounced: 2025, January 22\\nStatus: Available. Released 2025, February 03\\n\\n--- Body ---\\nDimensions: 162.8 x 77.6 x 8.2 mm (6.41 x 3.06 x 0.32 in)\\nWeight: 218 g (7.69 oz)\\nBuild: Glass front (Corning Gorilla Armor 2), glass back (Gorilla Glass Victus 2), titanium frame (grade 5)\\nSIM: Nano-SIM + Nano-SIM + eSIM + eSIM (max 2 at a time) - INT Nano-SIM + eSIM + eSIM (max 2 at a time) - USA Nano-SIM + Nano-SIM - CN\\n: IP68 dust tight and water resistant (immersible up to 1.5m for 30 min)\\nStylus\\n\\n--- Display ---\\nType: Dynamic LTPO AMOLED 2X, 120Hz, 480Hz PWM, HDR10+, 2600 nits (peak)\\nSize: 6.9 inches, 116.9 cm2 (~92.5% screen-to-body ratio)\\nResolution: 1440 x 3120 pixels, 19.5:9 ratio (~498 ppi density)\\nProtection: Corning Gorilla Armor 2\\n: DX anti-reflective coating\\n\\n--- Platform ---\\nOS: Android 15, up to 7 major Android upgrades, One UI 7\\nChipset: Qualcomm SM8750-AB Snapdragon 8 Elite (3 nm)\\nCPU: Octa-core (2x4.47 GHz Oryon V2 Phoenix L + 6x3.53 GHz Oryon V2 Phoenix M)\\nGPU: Adreno 830\\n\\n--- Memory ---\\nCard slot: No\\nInternal: 256GB 12GB RAM, 512GB 12GB RAM, 1TB 12GB RAM, 1TB 16GB RAM\\n: UFS 4.0\\n\\n--- Main Camera ---\\nQuad: 200 MP, f/1.7, 24mm (wide), 1/1.3\", 0.6µm, multi-directional PDAF, OIS\\n10 MP, f/2.4, 67mm (telephoto), 1/3.52\", 1.12µm, PDAF, OIS, 3x optical zoom\\n50 MP, f/3.4, 111mm (periscope telephoto), 1/2.52\", 0.7µm, PDAF, OIS, 5x optical zoom\\n50 MP, f/1.9, 120˚ (ultrawide), 1/2.5\", 0.7µm, dual pixel PDAF, Super Steady video\\nFeatures: Laser AF, Best Face, LED flash, auto-HDR, panorama\\nVideo: 8K@24/30fps, 4K@30/60/120fps, 1080p@30/60/120/240fps, 10-bit HDR, HDR10+, stereo sound rec., gyro-EIS\\n\\n--- Selfie camera ---\\nSingle: 12 MP, f/2.2, 26mm (wide), 1/3.2\", 1.12µm, dual pixel PDAF\\nFeatures: HDR, HDR10+\\nVideo: 4K@30/60fps, 1080p@30fps\\n\\n--- Sound ---\\nLoudspeaker: Yes, with stereo speakers\\n3.5mm jack: No\\n: 32-bit/384kHz audio\\nTuned by AKG\\n\\n--- Comms ---\\nWLAN: Wi-Fi 802.11 a/b/g/n/ac/6e/7, tri-band, Wi-Fi Direct\\nBluetooth: 5.4, A2DP, LE\\nPositioning: GPS, GLONASS, BDS, GALILEO, QZSS\\nNFC: Yes\\nRadio: No\\nUSB: USB Type-C 3.2, DisplayPort 1.2, OTG\\n\\n--- Features ---\\nSensors: Fingerprint (under display, ultrasonic), accelerometer, gyro, proximity, compass, barometer\\n: Samsung DeX, Samsung Wireless DeX (desktop experience support)\\nUltra Wideband (UWB) support\\nCircle to Search\\n\\n--- Battery ---\\nType: Li-Ion 5000 mAh\\nCharging: 45W wired, PD3.0, 65% in 30 min\\n15W wireless (Qi2 Ready)\\n4.5W reverse wireless\\n\\n--- Misc ---\\nColors: Titanium Silver Blue, Titanium Black, Titanium White Silver, Titanium Gray, Titanium Jade Green, Titanium Jet Black, Titanium Pink Gold\\nModels: SM-S938B, SM-S938B/DS, SM-S938U, SM-S938U1, SM-S938W, SM-S938N, SM-S9380, SM-S938E, SM-S938E/DS\\nSAR: 1.26 W/kg (head)     0.64 W/kg (body)\\nSAR EU: 1.25 W/kg (head)     1.42 W/kg (body)\\nPrice: €\\u2009927.00 / $\\u2009858.95 / £\\u2009859.00 / ₹\\u2009117,999\\n\\n--- Tests ---\\nPerformance: AnTuTu: 2207809 (v10)\\nGeekBench: 9846 (v6)\\n3DMark: 6687 (Wild Life Extreme)\\nDisplay: 1417 nits max brightness (measured)\\nLoudspeaker: -24.6 LUFS (Very good)\\nBattery (new): Active use score 14:49h\\n')"
      ]
     },
     "execution_count": 10,
     "metadata": {},
     "output_type": "execute_result"
    }
   ],
   "source": [
    "phone_docs[-1]"
   ]
  },
  {
   "cell_type": "markdown",
   "id": "5c4e2772",
   "metadata": {},
   "source": [
    "## **Load the HuggingFace Sentence Embedding Model**"
   ]
  },
  {
   "cell_type": "code",
   "execution_count": 11,
   "id": "a6d3022e",
   "metadata": {},
   "outputs": [
    {
     "name": "stderr",
     "output_type": "stream",
     "text": [
      "C:\\Users\\Lenovo\\AppData\\Roaming\\Python\\Python312\\site-packages\\tqdm\\auto.py:21: TqdmWarning: IProgress not found. Please update jupyter and ipywidgets. See https://ipywidgets.readthedocs.io/en/stable/user_install.html\n",
      "  from .autonotebook import tqdm as notebook_tqdm\n"
     ]
    }
   ],
   "source": [
    "from langchain_groq import ChatGroq\n",
    "\n",
    "os.environ[\"HF_TOKEN\"] = os.getenv(\"HF_TOKEN\")\n",
    "os.environ[\"GROQ_API_KEY\"] = os.getenv(\"GROQ_API_KEY\")\n",
    "\n",
    "from langchain_huggingface import HuggingFaceEmbeddings\n",
    "\n",
    "embeddings = HuggingFaceEmbeddings(model_name=\"sentence-transformers/all-mpnet-base-v2\")\n",
    "llm = ChatGroq(model=\"meta-llama/llama-4-scout-17b-16e-instruct\")"
   ]
  },
  {
   "cell_type": "code",
   "execution_count": 46,
   "id": "f20a9131",
   "metadata": {},
   "outputs": [
    {
     "data": {
      "text/plain": [
       "AIMessage(content=\"It looks like you're testing something! Is everything working as expected?\", additional_kwargs={}, response_metadata={'token_usage': {'completion_tokens': 14, 'prompt_tokens': 12, 'total_tokens': 26, 'completion_time': 0.028156289, 'prompt_time': 0.002190824, 'queue_time': 0.212537525, 'total_time': 0.030347113}, 'model_name': 'meta-llama/llama-4-scout-17b-16e-instruct', 'system_fingerprint': 'fp_79da0e0073', 'finish_reason': 'stop', 'logprobs': None}, id='run--50c35908-a215-4dbf-bf1c-a016314f55f2-0', usage_metadata={'input_tokens': 12, 'output_tokens': 14, 'total_tokens': 26})"
      ]
     },
     "execution_count": 46,
     "metadata": {},
     "output_type": "execute_result"
    }
   ],
   "source": [
    "llm.invoke(\"test line\")"
   ]
  },
  {
   "cell_type": "markdown",
   "id": "52e8cb59",
   "metadata": {},
   "source": [
    "## Checking embedding Damnation"
   ]
  },
  {
   "cell_type": "code",
   "execution_count": 12,
   "id": "9c32a6df",
   "metadata": {},
   "outputs": [
    {
     "data": {
      "text/plain": [
       "768"
      ]
     },
     "execution_count": 12,
     "metadata": {},
     "output_type": "execute_result"
    }
   ],
   "source": [
    "len(embeddings.embed_query(\"Test\"))"
   ]
  },
  {
   "cell_type": "markdown",
   "id": "891bb64c",
   "metadata": {},
   "source": [
    "## **FlatIndexing and Cloud Vector db `Pinecone`**\n",
    "- Flat-index for exact matching"
   ]
  },
  {
   "cell_type": "code",
   "execution_count": 13,
   "id": "25e7dd6b",
   "metadata": {},
   "outputs": [],
   "source": [
    "from pinecone import Pinecone\n",
    "os.environ[\"PINECONE_API_KEY\"] = os.getenv(\"PINECONE_API_KEY\")\n",
    "\n",
    "pinecone_api_key = os.getenv(\"PINECONE_API_KEY\")"
   ]
  },
  {
   "cell_type": "code",
   "execution_count": 14,
   "id": "312cab19",
   "metadata": {},
   "outputs": [],
   "source": [
    "pc = Pinecone(api_key=pinecone_api_key)"
   ]
  },
  {
   "cell_type": "code",
   "execution_count": 15,
   "id": "12303c7e",
   "metadata": {},
   "outputs": [],
   "source": [
    "from pinecone import ServerlessSpec ## you are not going to mange the server. and its managed by the cloud provider.\n",
    "## create index\n",
    "index_name = \"samsung-db\"\n",
    "\n",
    "if not pc.has_index(index_name):\n",
    "    pc.create_index(\n",
    "    name=index_name,\n",
    "    dimension=768,\n",
    "    metric=\"dotproduct\",\n",
    "    spec=ServerlessSpec(\n",
    "        cloud=\"aws\",\n",
    "        region=\"us-east-1\"\n",
    "    )\n",
    ")"
   ]
  },
  {
   "cell_type": "markdown",
   "id": "c6e7190a",
   "metadata": {},
   "source": [
    "## **Load the db**"
   ]
  },
  {
   "cell_type": "code",
   "execution_count": 16,
   "id": "7360f2f9",
   "metadata": {},
   "outputs": [
    {
     "data": {
      "text/plain": [
       "<pinecone.db_data.index.Index at 0x167955d5010>"
      ]
     },
     "execution_count": 16,
     "metadata": {},
     "output_type": "execute_result"
    }
   ],
   "source": [
    "index = pc.Index(index_name)\n",
    "index"
   ]
  },
  {
   "cell_type": "code",
   "execution_count": 17,
   "id": "5880c700",
   "metadata": {},
   "outputs": [
    {
     "data": {
      "text/plain": [
       "<langchain_pinecone.vectorstores.PineconeVectorStore at 0x167956bebd0>"
      ]
     },
     "execution_count": 17,
     "metadata": {},
     "output_type": "execute_result"
    }
   ],
   "source": [
    "from langchain_pinecone import PineconeVectorStore\n",
    "\n",
    "vector_store = PineconeVectorStore(index=index, embedding=embeddings)\n",
    "vector_store"
   ]
  },
  {
   "cell_type": "code",
   "execution_count": 18,
   "id": "212b8840",
   "metadata": {},
   "outputs": [
    {
     "data": {
      "text/plain": [
       "['75af2e7c-d382-4cd7-af9e-d1fe3163bd9c',\n",
       " '598f1b7a-4391-409d-a1b7-440221ec907e',\n",
       " '3aa358fe-2c79-481e-b08e-0b098ce290d9',\n",
       " '3fd3d815-3e3d-4396-a56f-d0ff06dbfc4d',\n",
       " 'dcc92797-a357-4554-ba6a-29ef9817ce42',\n",
       " '672ffe82-aa89-4fc0-951a-854219340f28',\n",
       " '4ce458b7-6514-46bd-963a-3ff8cfb8ac5f',\n",
       " 'b18f494e-ff22-4fb4-afee-a7e9d58c620f',\n",
       " '15ff64a7-40b6-4605-80ef-68811c73aaad',\n",
       " '6cf7492b-bea7-4c2e-a8bb-7db89cd03dd7',\n",
       " '8d46dfd6-41cf-463c-a69d-992acd37645f',\n",
       " 'f553a5c7-6a2e-4bf9-91ed-bd877d109ce7',\n",
       " 'd28b9117-6dde-41b3-9d40-400eb1a67bc0',\n",
       " '2396761f-32ed-4dc1-ae32-5d951c3499f1',\n",
       " '1c408348-c5bf-4727-a98a-ea2bb108bbd8',\n",
       " 'd6bde077-628e-4f3d-a84a-d478e4e67ec7',\n",
       " '485aace1-9799-43d0-95df-01067a01c8fd',\n",
       " '9c63bf7f-c54f-4087-8f0c-49926e76ed67',\n",
       " '6e63d6ed-fec2-436e-911e-a4355e2775df',\n",
       " 'f90da9ca-6636-4dfe-bc0a-929bb5c6d7fe',\n",
       " '29bf7be5-e4f2-4df0-8cf3-566aee86b040']"
      ]
     },
     "execution_count": 18,
     "metadata": {},
     "output_type": "execute_result"
    }
   ],
   "source": [
    "vector_store.add_documents(documents=phone_docs)"
   ]
  },
  {
   "cell_type": "code",
   "execution_count": 24,
   "id": "a835e677",
   "metadata": {},
   "outputs": [
    {
     "data": {
      "text/plain": [
       "(Document(id='9c63bf7f-c54f-4087-8f0c-49926e76ed67', metadata={'phone_brand': 'samsung', 'phone_name': 'samsung_galaxy_s23_ultra'}, page_content='--- Name ---\\nSamsung Galaxy S23 Ultra\\n\\n--- Network ---\\nTechnology: GSM / CDMA / HSPA / EVDO / LTE / 5G\\n2G bands: GSM 850 / 900 / 1800 / 1900\\n: 1, 7, 28, 41, 66, 71, 78, 258, 260, 261 SA/NSA/Sub6/mmWave - USA\\n3G bands: HSDPA 850 / 900 / 1700(AWS) / 1900 / 2100\\n4G bands: 1, 2, 3, 4, 5, 7, 8, 12, 13, 17, 18, 19, 20, 25, 26, 28, 32, 38, 39, 40, 41, 66 - International\\n5G bands: 1, 2, 3, 5, 7, 8, 12, 20, 25, 28, 38, 40, 41, 66, 75, 77, 78 SA/NSA/Sub6 - International\\nSpeed: HSPA, LTE (up to 7CA), 5G\\n\\n--- Launch ---\\nAnnounced: 2023, February 01\\nStatus: Available. Released 2023, February 17\\n\\n--- Body ---\\nDimensions: 163.4 x 78.1 x 8.9 mm (6.43 x 3.07 x 0.35 in)\\nWeight: 234 g (8.25 oz)\\nBuild: Glass front (Gorilla Glass Victus 2), glass back (Gorilla Glass Victus 2), aluminum frame\\nSIM: Nano-SIM + eSIMNano-SIM + Nano-SIM + eSIM (max 2 at a time)\\n: IP68 dust tight and water resistant (immersible up to 1.5m for 30 min)\\nArmor aluminum frame\\nStylus (Bluetooth integration, accelerometer, gyro)\\n\\n--- Display ---\\nType: Dynamic AMOLED 2X, 120Hz, HDR10+, 1200 nits (HBM), 1750 nits (peak)\\nSize: 6.8 inches, 114.7 cm2 (~89.9% screen-to-body ratio)\\nResolution: 1440 x 3088 pixels, 19.3:9 ratio (~500 ppi density)\\nProtection: Corning Gorilla Glass Victus 2\\n\\n--- Platform ---\\nOS: Android 13, up to 4 major Android upgrades, One UI 6.1.1\\nChipset: Qualcomm SM8550-AC Snapdragon 8 Gen 2 (4 nm)\\nCPU: Octa-core (1x3.36 GHz Cortex-X3 & 2x2.8 GHz Cortex-A715 & 2x2.8 GHz Cortex-A710 & 3x2.0 GHz Cortex-A510)\\nGPU: Adreno 740\\n\\n--- Memory ---\\nCard slot: No\\nInternal: 256GB 8GB RAM, 256GB 12GB RAM, 512GB 12GB RAM, 1TB 12GB RAM\\n: UFS 4.0\\n\\n--- Main Camera ---\\nQuad: 200 MP, f/1.7, 24mm (wide), 1/1.3\", 0.6µm, multi-directional PDAF, OIS\\n10 MP, f/2.4, 70mm (telephoto), 1/3.52\", 1.12µm, PDAF, OIS, 3x optical zoom\\n10 MP, f/4.9, 230mm (periscope telephoto), 1/3.52\", 1.12µm, PDAF, OIS, 10x optical zoom\\n12 MP, f/2.2, 13mm, 120˚ (ultrawide), 1/2.55\", 1.4µm, dual pixel PDAF, Super Steady video\\nFeatures: Laser AF, LED flash, auto-HDR, panorama\\nVideo: 8K@24/30fps, 4K@30/60fps, 1080p@30/60/120/240fps, HDR10+, stereo sound rec., gyro-EIS\\n\\n--- Selfie camera ---\\nSingle: 12 MP, f/2.2, 26mm (wide), 1/3.2\", 1.12µm, dual pixel PDAF\\nFeatures: HDR, HDR10+\\nVideo: 4K@30/60fps, 1080p@30fps\\n\\n--- Sound ---\\nLoudspeaker: Yes, with stereo speakers\\n3.5mm jack: No\\n: 32-bit/384kHz audio\\nTuned by AKG\\n\\n--- Comms ---\\nWLAN: Wi-Fi 802.11 a/b/g/n/ac/6e, tri-band, Wi-Fi Direct\\nBluetooth: 5.3, A2DP, LE\\nPositioning: GPS, GALILEO, GLONASS, BDS, QZSS\\nNFC: Yes\\nRadio: No\\nUSB: USB Type-C 3.2, OTG\\n\\n--- Features ---\\nSensors: Fingerprint (under display, ultrasonic), accelerometer, gyro, proximity, compass, barometer\\n: Samsung DeX, Samsung Wireless DeX (desktop experience support)\\nUltra Wideband (UWB) support\\nCircle to Search\\n\\n--- Battery ---\\nType: Li-Ion 5000 mAh\\nCharging: 45W wired, PD3.0, 65% in 30 min\\n15W wireless (Qi)\\n4.5W reverse wireless\\n\\n--- Misc ---\\nColors: Phantom Black, Green, Cream, Lavender, Graphite, Sky Blue, Lime, Red, BMW M Edition\\nModels: SM-S918B, SM-S918B/DS, SM-S918U, SM-S918U1, SM-S918W, SM-S918N, SM-S9180, SM-S918E, SM-S918E/DS\\nSAR: 1.12 W/kg (head)     0.92 W/kg (body)\\nSAR EU: 0.96 W/kg (head)     1.40 W/kg (body)\\nPrice: $\\u2009479.95 / C$\\u2009566.99 / £\\u2009359.99 / €\\u2009462.79 / ₹\\u200977,949\\n\\n--- Tests ---\\nPerformance: AnTuTu: 1241531 (v9)\\nGeekBench: 4927 (v5.1)\\n3DMark: 3790 (Wild Life Extreme)\\nDisplay: 1274 nits max brightness (measured)\\nCamera: Photo / Video\\nLoudspeaker: -25.6 LUFS (Very good)\\nBattery (new): Active use score 13:24h\\nBattery (old): Endurance rating 126h\\n'),\n",
       " 0.635408819)"
      ]
     },
     "execution_count": 24,
     "metadata": {},
     "output_type": "execute_result"
    }
   ],
   "source": [
    "response = vector_store.similarity_search_with_score(query=\"What are the camera specs of the Samsung Galaxy S23 ultra\")\n",
    "response[0]"
   ]
  },
  {
   "cell_type": "code",
   "execution_count": 66,
   "id": "7ea606df",
   "metadata": {},
   "outputs": [],
   "source": [
    "retriever = vector_store.as_retriever(\n",
    "    search_type = \"similarity\",\n",
    "    search_kwargs={\n",
    "        \"k\": 3\n",
    "    }\n",
    ")"
   ]
  },
  {
   "cell_type": "code",
   "execution_count": 67,
   "id": "f3b524b0",
   "metadata": {},
   "outputs": [
    {
     "data": {
      "text/plain": [
       "[Document(id='9c63bf7f-c54f-4087-8f0c-49926e76ed67', metadata={'phone_brand': 'samsung', 'phone_name': 'samsung_galaxy_s23_ultra'}, page_content='--- Name ---\\nSamsung Galaxy S23 Ultra\\n\\n--- Network ---\\nTechnology: GSM / CDMA / HSPA / EVDO / LTE / 5G\\n2G bands: GSM 850 / 900 / 1800 / 1900\\n: 1, 7, 28, 41, 66, 71, 78, 258, 260, 261 SA/NSA/Sub6/mmWave - USA\\n3G bands: HSDPA 850 / 900 / 1700(AWS) / 1900 / 2100\\n4G bands: 1, 2, 3, 4, 5, 7, 8, 12, 13, 17, 18, 19, 20, 25, 26, 28, 32, 38, 39, 40, 41, 66 - International\\n5G bands: 1, 2, 3, 5, 7, 8, 12, 20, 25, 28, 38, 40, 41, 66, 75, 77, 78 SA/NSA/Sub6 - International\\nSpeed: HSPA, LTE (up to 7CA), 5G\\n\\n--- Launch ---\\nAnnounced: 2023, February 01\\nStatus: Available. Released 2023, February 17\\n\\n--- Body ---\\nDimensions: 163.4 x 78.1 x 8.9 mm (6.43 x 3.07 x 0.35 in)\\nWeight: 234 g (8.25 oz)\\nBuild: Glass front (Gorilla Glass Victus 2), glass back (Gorilla Glass Victus 2), aluminum frame\\nSIM: Nano-SIM + eSIMNano-SIM + Nano-SIM + eSIM (max 2 at a time)\\n: IP68 dust tight and water resistant (immersible up to 1.5m for 30 min)\\nArmor aluminum frame\\nStylus (Bluetooth integration, accelerometer, gyro)\\n\\n--- Display ---\\nType: Dynamic AMOLED 2X, 120Hz, HDR10+, 1200 nits (HBM), 1750 nits (peak)\\nSize: 6.8 inches, 114.7 cm2 (~89.9% screen-to-body ratio)\\nResolution: 1440 x 3088 pixels, 19.3:9 ratio (~500 ppi density)\\nProtection: Corning Gorilla Glass Victus 2\\n\\n--- Platform ---\\nOS: Android 13, up to 4 major Android upgrades, One UI 6.1.1\\nChipset: Qualcomm SM8550-AC Snapdragon 8 Gen 2 (4 nm)\\nCPU: Octa-core (1x3.36 GHz Cortex-X3 & 2x2.8 GHz Cortex-A715 & 2x2.8 GHz Cortex-A710 & 3x2.0 GHz Cortex-A510)\\nGPU: Adreno 740\\n\\n--- Memory ---\\nCard slot: No\\nInternal: 256GB 8GB RAM, 256GB 12GB RAM, 512GB 12GB RAM, 1TB 12GB RAM\\n: UFS 4.0\\n\\n--- Main Camera ---\\nQuad: 200 MP, f/1.7, 24mm (wide), 1/1.3\", 0.6µm, multi-directional PDAF, OIS\\n10 MP, f/2.4, 70mm (telephoto), 1/3.52\", 1.12µm, PDAF, OIS, 3x optical zoom\\n10 MP, f/4.9, 230mm (periscope telephoto), 1/3.52\", 1.12µm, PDAF, OIS, 10x optical zoom\\n12 MP, f/2.2, 13mm, 120˚ (ultrawide), 1/2.55\", 1.4µm, dual pixel PDAF, Super Steady video\\nFeatures: Laser AF, LED flash, auto-HDR, panorama\\nVideo: 8K@24/30fps, 4K@30/60fps, 1080p@30/60/120/240fps, HDR10+, stereo sound rec., gyro-EIS\\n\\n--- Selfie camera ---\\nSingle: 12 MP, f/2.2, 26mm (wide), 1/3.2\", 1.12µm, dual pixel PDAF\\nFeatures: HDR, HDR10+\\nVideo: 4K@30/60fps, 1080p@30fps\\n\\n--- Sound ---\\nLoudspeaker: Yes, with stereo speakers\\n3.5mm jack: No\\n: 32-bit/384kHz audio\\nTuned by AKG\\n\\n--- Comms ---\\nWLAN: Wi-Fi 802.11 a/b/g/n/ac/6e, tri-band, Wi-Fi Direct\\nBluetooth: 5.3, A2DP, LE\\nPositioning: GPS, GALILEO, GLONASS, BDS, QZSS\\nNFC: Yes\\nRadio: No\\nUSB: USB Type-C 3.2, OTG\\n\\n--- Features ---\\nSensors: Fingerprint (under display, ultrasonic), accelerometer, gyro, proximity, compass, barometer\\n: Samsung DeX, Samsung Wireless DeX (desktop experience support)\\nUltra Wideband (UWB) support\\nCircle to Search\\n\\n--- Battery ---\\nType: Li-Ion 5000 mAh\\nCharging: 45W wired, PD3.0, 65% in 30 min\\n15W wireless (Qi)\\n4.5W reverse wireless\\n\\n--- Misc ---\\nColors: Phantom Black, Green, Cream, Lavender, Graphite, Sky Blue, Lime, Red, BMW M Edition\\nModels: SM-S918B, SM-S918B/DS, SM-S918U, SM-S918U1, SM-S918W, SM-S918N, SM-S9180, SM-S918E, SM-S918E/DS\\nSAR: 1.12 W/kg (head)     0.92 W/kg (body)\\nSAR EU: 0.96 W/kg (head)     1.40 W/kg (body)\\nPrice: $\\u2009479.95 / C$\\u2009566.99 / £\\u2009359.99 / €\\u2009462.79 / ₹\\u200977,949\\n\\n--- Tests ---\\nPerformance: AnTuTu: 1241531 (v9)\\nGeekBench: 4927 (v5.1)\\n3DMark: 3790 (Wild Life Extreme)\\nDisplay: 1274 nits max brightness (measured)\\nCamera: Photo / Video\\nLoudspeaker: -25.6 LUFS (Very good)\\nBattery (new): Active use score 13:24h\\nBattery (old): Endurance rating 126h\\n'),\n",
       " Document(id='485aace1-9799-43d0-95df-01067a01c8fd', metadata={'phone_brand': 'samsung', 'phone_name': 'samsung_galaxy_s23'}, page_content='--- Name ---\\nSamsung Galaxy S23\\n\\n--- Network ---\\nTechnology: GSM / CDMA / HSPA / EVDO / LTE / 5G\\n2G bands: GSM 850 / 900 / 1800 / 1900\\n: 1, 7, 25, 28, 41, 66, 71, 78, 258, 260, 261 SA/NSA/Sub6/mmWave - USA\\n3G bands: HSDPA 850 / 900 / 1700(AWS) / 1900 / 2100\\n4G bands: 1, 2, 3, 4, 5, 7, 8, 12, 13, 17, 18, 19, 20, 25, 26, 28, 32, 38, 39, 40, 41, 66 - International\\n5G bands: 1, 2, 3, 5, 7, 8, 12, 20, 25, 28, 38, 40, 41, 66, 75, 77, 78 SA/NSA/Sub6 - International\\nSpeed: HSPA, LTE (up to 7CA), 5G\\n\\n--- Launch ---\\nAnnounced: 2023, February 01\\nStatus: Available. Released 2023, February 17\\n\\n--- Body ---\\nDimensions: 146.3 x 70.9 x 7.6 mm (5.76 x 2.79 x 0.30 in)\\nWeight: 168 g (5.93 oz)\\nBuild: Glass front (Gorilla Glass Victus 2), glass back (Gorilla Glass Victus 2), aluminum frame\\nSIM: Nano-SIM + eSIMNano-SIM + Nano-SIM + eSIM (max 2 at a time)\\n: IP68 dust tight and water resistant (immersible up to 1.5m for 30 min)\\nArmor aluminum frame\\n\\n--- Display ---\\nType: Dynamic AMOLED 2X, 120Hz, HDR10+, 1200 nits (HBM), 1750 nits (peak)\\nSize: 6.1 inches, 90.1 cm2 (~86.8% screen-to-body ratio)\\nResolution: 1080 x 2340 pixels, 19.5:9 ratio (~425 ppi density)\\nProtection: Corning Gorilla Glass Victus 2\\n\\n--- Platform ---\\nOS: Android 13, up to 4 major Android upgrades, One UI 6.1.1\\nChipset: Qualcomm SM8550-AC Snapdragon 8 Gen 2 (4 nm)\\nCPU: Octa-core (1x3.36 GHz Cortex-X3 & 2x2.8 GHz Cortex-A715 & 2x2.8 GHz Cortex-A710 & 3x2.0 GHz Cortex-A510)\\nGPU: Adreno 740\\n\\n--- Memory ---\\nCard slot: No\\nInternal: 128GB 8GB RAM, 256GB 8GB RAM, 512GB 8GB RAM\\n: UFS 3.1 - 128GB only\\nUFS 4.0\\n\\n--- Main Camera ---\\nTriple: 50 MP, f/1.8, 24mm (wide), 1/1.56\", 1.0µm, dual pixel PDAF, OIS\\n10 MP, f/2.4, 70mm (telephoto), 1/3.94\", 1.0µm, PDAF, OIS, 3x optical zoom\\n12 MP, f/2.2, 13mm, 120˚ (ultrawide), 1/2.55\" 1.4µm, Super Steady video\\nFeatures: LED flash, auto-HDR, panorama\\nVideo: 8K@24/30fps, 4K@30/60fps, 1080p@30/60/120/240fps, HDR10+, stereo sound rec., gyro-EIS\\n\\n--- Selfie camera ---\\nSingle: 12 MP, f/2.2, 26mm (wide), 1/3.2\", 1.12µm, dual pixel PDAF\\nFeatures: HDR, HDR10+\\nVideo: 4K@30/60fps, 1080p@30fps\\n\\n--- Sound ---\\nLoudspeaker: Yes, with stereo speakers\\n3.5mm jack: No\\n: 32-bit/384kHz audio\\nTuned by AKG\\n\\n--- Comms ---\\nWLAN: Wi-Fi 802.11 a/b/g/n/ac/6e, tri-band, Wi-Fi Direct\\nBluetooth: 5.3, A2DP, LE\\nPositioning: GPS, GLONASS, BDS, GALILEO\\nNFC: Yes\\nRadio: No\\nUSB: USB Type-C 3.2, OTG\\n\\n--- Features ---\\nSensors: Fingerprint (under display, ultrasonic), accelerometer, gyro, proximity, compass, barometer\\n: Samsung DeX, Samsung Wireless DeX (desktop experience support)\\nCircle to Search\\n\\n--- Battery ---\\nType: Li-Ion 3900 mAh\\nCharging: 25W wired, PD3.0, 50% in 30 min\\n15W wireless (Qi)\\n4.5W reverse wireless\\n\\n--- Misc ---\\nColors: Phantom Black, Cream, Green, Lavender, Graphite, Lime\\nModels: SM-S911B, SM-S911B/DS, SM-S911U, SM-S911U1, SM-S911W, SM-S911N, SM-S9110, SM-S911E, SM-S911E/DS\\nSAR: 0.95 W/kg (head)     0.88 W/kg (body)\\nSAR EU: 0.96 W/kg (head)     1.30 W/kg (body)\\nPrice: $\\u2009244.95 / C$\\u2009409.74 / £\\u2009239.99 / €\\u2009342.00 / ₹\\u200947,500\\n\\n--- Tests ---\\nPerformance: AnTuTu: 1231075 (v9)\\nGeekBench: 4950 (v5.1)\\nGFXBench: 110fps (ES 3.1 onscreen)\\nDisplay: 1198 nits max brightness (measured)\\nCamera: Photo / Video\\nLoudspeaker: -27.0 LUFS (Good)\\nBattery (new): Active use score 11:27h\\nBattery (old): Endurance rating 101h\\n'),\n",
       " Document(id='6cf7492b-bea7-4c2e-a8bb-7db89cd03dd7', metadata={'phone_brand': 'samsung', 'phone_name': 'samsung_galaxy_f06_5g'}, page_content='--- Name ---\\nSamsung Galaxy F06 5G\\n\\n--- Network ---\\nTechnology: GSM / HSPA / LTE / 5G\\n2G bands: GSM 850 / 900 / 1800 / 1900\\n3G bands: HSDPA 850 / 900 / 2100\\n4G bands: LTE\\n5G bands: SA/NSA\\nSpeed: HSPA, LTE, 5G\\n\\n--- Launch ---\\nAnnounced: 2025, February 12\\nStatus: Available. Released February 20\\n\\n--- Body ---\\nDimensions: 167.4 x 77.4 x 8 mm (6.59 x 3.05 x 0.31 in)\\nWeight: 191 g (6.74 oz)\\nBuild: Glass front, plastic back, plastic frame\\nSIM: Nano-SIM + Nano-SIM\\n\\n--- Display ---\\nType: PLS LCD, 800 nits (HBM)\\nSize: 6.7 inches, 108.4 cm2 (~83.6% screen-to-body ratio)\\nResolution: 720 x 1600 pixels, 20:9 ratio (~262 ppi density)\\n\\n--- Platform ---\\nOS: Android 15, up to 4 major Android upgrades, One UI Core 7.0\\nChipset: Mediatek Dimensity 6300 (6 nm)\\nCPU: Octa-core (2x2.4 GHz Cortex-A76 & 6x2.0 GHz Cortex-A55)\\nGPU: Mali-G57 MC2\\n\\n--- Memory ---\\nCard slot: microSDXC (uses shared SIM slot)\\nInternal: 64GB 4GB RAM, 128GB 4GB RAM, 128GB 6GB RAM\\n\\n--- Main Camera ---\\nDual: 50 MP, f/1.8, (wide), PDAF\\n2 MP, f/2.4, (depth)\\nFeatures: LED flash\\nVideo: 1080p@30/60fps\\n\\n--- Selfie camera ---\\nSingle: 8 MP, f/2.0, (wide), 1/4.0\", 1.12µm\\nVideo: Yes\\n\\n--- Sound ---\\nLoudspeaker: Yes\\n3.5mm jack: Yes\\n\\n--- Comms ---\\nWLAN: Wi-Fi 802.11 a/b/g/n/ac, dual-band, Wi-Fi Direct\\nBluetooth: 5.3, A2DP, LE\\nPositioning: GPS, GLONASS, GALILEO, BDS\\nNFC: No\\nRadio: Unspecified\\nUSB: USB Type-C 2.0, OTG\\n\\n--- Features ---\\nSensors: Fingerprint (side-mounted), accelerometer, proximity, compass\\n\\n--- Battery ---\\nType: Li-Ion 5000 mAh\\nCharging: 25W wired\\n\\n--- Misc ---\\nColors: Bahama Blue, Lit Violet\\nModels: SM-E066B, SM-E066B/DS\\nSAR: 1.05 W/kg (head)\\nSAR EU: 1.30 W/kg (head)     1.30 W/kg (body)\\nPrice: ₹\\u20098,489\\n')]"
      ]
     },
     "execution_count": 67,
     "metadata": {},
     "output_type": "execute_result"
    }
   ],
   "source": [
    "response = retriever.invoke(\"What are the camera specs of the Samsung Galaxy S23 Ultra?\")\n",
    "response"
   ]
  },
  {
   "cell_type": "markdown",
   "id": "5567414d",
   "metadata": {},
   "source": [
    "## Define Rag Prompt"
   ]
  },
  {
   "cell_type": "code",
   "execution_count": 68,
   "id": "f028117c",
   "metadata": {},
   "outputs": [],
   "source": [
    "from langchain_core.prompts import PromptTemplate\n",
    "\n",
    "prompt = PromptTemplate(\n",
    "    template=\"\"\"\n",
    "You are a helpful AI assistant and an expert at answering Samsung phone-related questions.\n",
    "Your job is to provide **clear and direct answers** using the correct document.\n",
    "\n",
    "do not mention this type of response:\n",
    "\n",
    "example:\n",
    "\n",
    "    The user is asking about the camera specs of the Samsung Galaxy S23 Ultra.\n",
    "\n",
    "    After checking the metadata of the retrieved documents, I found an exact match: `samsung_galaxy_s23_ultra`.\n",
    "Answer clear and direct way like normally answer the user question according the context.\n",
    "\n",
    "- You will receive two documents as context.\n",
    "- Only use the document where the metadata `phone_name` exactly matches the phone model in the user's question.\n",
    "- If no document matches, say: \"Sorry, I do not know the answer because the correct phone model was not found in the retrieved context.\"\n",
    "- Do not explain how you found the information. Just provide the final answer clearly and concisely.\n",
    "\n",
    "⚠ Example of phone name matching:  \n",
    "If the user question mentions **\"Samsung Galaxy S23 Ultra\"**  \n",
    "and a document metadata has **phone_name: samsung_galaxy_s23_ultra**  \n",
    "→ this is an exact match.\n",
    "\n",
    "---\n",
    "\n",
    "User question:  \n",
    "{question}\n",
    "\n",
    "---\n",
    "\n",
    "Retrieved documents:  \n",
    "{context}\n",
    "\"\"\",\n",
    "    input_variables=[\"question\", \"context\"]\n",
    ")\n"
   ]
  },
  {
   "cell_type": "code",
   "execution_count": null,
   "id": "5bcbb28a",
   "metadata": {},
   "outputs": [],
   "source": [
    "from langchain_core.runnables import RunnablePassthrough\n",
    "\n",
    "def format_docs(retriever_docs):\n",
    "    context_text = \"\"\n",
    "    for doc in retriever_docs:\n",
    "        phone_name = doc.metadata.get(\"phone_name\", \"unknown\")\n",
    "        context_text += f\"Phone name (metadata): {phone_name}\\n\"\n",
    "        context_text += f\"{doc.page_content}\\n\\n\"\n",
    "    # print(context_text)\n",
    "    return context_text.strip()\n"
   ]
  },
  {
   "cell_type": "code",
   "execution_count": 70,
   "id": "678a80f4",
   "metadata": {},
   "outputs": [
    {
     "data": {
      "image/png": "[encoded data removed]",
      "text/plain": [
       "<IPython.core.display.Image object>"
      ]
     },
     "metadata": {},
     "output_type": "display_data"
    }
   ],
   "source": [
    "\n",
    "from langchain_core.output_parsers import StrOutputParser\n",
    "from langchain_core.runnables import RunnablePassthrough\n",
    "\n",
    "from IPython.display import display, Image\n",
    "rag_chain = (\n",
    "    {\n",
    "        \"context\": retriever | format_docs,\n",
    "        \"question\": RunnablePassthrough()\n",
    "    }\n",
    "    | prompt\n",
    "    | llm\n",
    "    | StrOutputParser()\n",
    ")\n",
    "\n",
    "\n",
    "display(Image(rag_chain.get_graph().draw_mermaid_png()))"
   ]
  },
  {
   "cell_type": "code",
   "execution_count": 71,
   "id": "190abece",
   "metadata": {},
   "outputs": [
    {
     "name": "stdout",
     "output_type": "stream",
     "text": [
      "The Samsung Galaxy A55 and Galaxy A26 have a 5000 mAh battery with 25W wired charging. However, the Galaxy A55 has a slightly better battery life with an active use score of 13:27h compared to the Galaxy A26's 10:44h. \n",
      "\n",
      "However, I couldn't find information about the battery life of other Samsung phones. If you are looking for a specific model, please let me know.\n"
     ]
    }
   ],
   "source": [
    "question = \"Which Samsung phone has the best battery life?\"\n",
    "response = rag_chain.invoke(question)\n",
    "print(response)"
   ]
  },
  {
   "cell_type": "code",
   "execution_count": 72,
   "id": "e53a143d",
   "metadata": {},
   "outputs": [
    {
     "name": "stdout",
     "output_type": "stream",
     "text": [
      "To determine which Samsung phone has the best battery life, we need to look at the battery specifications and usage scores of the provided models: Samsung Galaxy A55, Samsung Galaxy F16, and Samsung Galaxy A26.\n",
      "\n",
      "- Samsung Galaxy A55: The battery type is Li-Ion 5000 mAh, and the active use score is 13:27h.\n",
      "- Samsung Galaxy F16: The battery type is 5000 mAh, but the active use score isn't provided.\n",
      "- Samsung Galaxy A26: The battery type is 5000 mAh, and the active use score is 10:44h.\n",
      "\n",
      "Based on the active use scores, the Samsung Galaxy A55 has the best battery life at 13:27h, followed by the Galaxy A26 at 10:44h. The Samsung Galaxy F16's battery life isn't specified in the provided data.\n",
      "\n",
      "The Samsung Galaxy A55 has the best battery life among these models.\n"
     ]
    }
   ],
   "source": [
    "question = \"How does the Galaxy S23 compare to the S24 ultra in terms of performance?\"\n",
    "\n",
    "question = \"Which Samsung phone has the best battery life?\"\n",
    "response = rag_chain.invoke(question)\n",
    "print(response)"
   ]
  },
  {
   "cell_type": "code",
   "execution_count": null,
   "id": "3be4bb24",
   "metadata": {},
   "outputs": [],
   "source": []
  }
 ],
 "metadata": {
  "kernelspec": {
   "display_name": "Python 3",
   "language": "python",
   "name": "python3"
  },
  "language_info": {
   "codemirror_mode": {
    "name": "ipython",
    "version": 3
   },
   "file_extension": ".py",
   "mimetype": "text/x-python",
   "name": "python",
   "nbconvert_exporter": "python",
   "pygments_lexer": "ipython3",
   "version": "3.12.0"
  }
 },
 "nbformat": 4,
 "nbformat_minor": 5
}
