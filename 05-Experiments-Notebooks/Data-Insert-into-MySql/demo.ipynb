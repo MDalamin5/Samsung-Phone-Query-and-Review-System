{
 "cells": [
  {
   "cell_type": "markdown",
   "id": "e8097a25",
   "metadata": {},
   "source": [
    "## ***Data Storing Into The MySQL DB***"
   ]
  },
  {
   "cell_type": "code",
   "execution_count": 1,
   "id": "fcc8b8a4",
   "metadata": {},
   "outputs": [],
   "source": [
    "import mysql.connector\n",
    "conn = mysql.connector.connect(\n",
    "    host='localhost',\n",
    "    user='root',\n",
    "    password='',\n",
    "    database='device_specs_db'\n",
    ")"
   ]
  },
  {
   "cell_type": "code",
   "execution_count": 2,
   "id": "9fda9315",
   "metadata": {},
   "outputs": [],
   "source": [
    "from sqlalchemy import create_engine\n",
    "\n",
    "engine = create_engine('mysql+pymysql://root:@localhost/device_specs_db')"
   ]
  },
  {
   "cell_type": "code",
   "execution_count": 3,
   "id": "14ea926a",
   "metadata": {},
   "outputs": [
    {
     "name": "stdout",
     "output_type": "stream",
     "text": [
      "Data successfully loaded into MySQL!\n"
     ]
    }
   ],
   "source": [
    "import pandas as pd\n",
    "\n",
    "# Read CSV\n",
    "df = pd.read_csv(\"updated_phone_specs.csv\")  # Adjust path as needed\n",
    "\n",
    "# Save to MySQL table named 'my_table' (replace as you wish)\n",
    "df.to_sql(\n",
    "    name='samsung_phone',\n",
    "    con=engine,\n",
    "    if_exists='replace',  # or 'append' if you want to add without deleting\n",
    "    index=False\n",
    ")\n",
    "\n",
    "print(\"Data successfully loaded into MySQL!\")"
   ]
  }
 ],
 "metadata": {
  "kernelspec": {
   "display_name": "Python 3",
   "language": "python",
   "name": "python3"
  },
  "language_info": {
   "codemirror_mode": {
    "name": "ipython",
    "version": 3
   },
   "file_extension": ".py",
   "mimetype": "text/x-python",
   "name": "python",
   "nbconvert_exporter": "python",
   "pygments_lexer": "ipython3",
   "version": "3.12.0"
  }
 },
 "nbformat": 4,
 "nbformat_minor": 5
}
