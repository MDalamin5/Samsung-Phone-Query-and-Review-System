{
 "cells": [
  {
   "cell_type": "markdown",
   "id": "e8097a25",
   "metadata": {},
   "source": [
    "## ***Data Storing Into The MySQL DB***"
   ]
  },
  {
   "cell_type": "code",
   "execution_count": 1,
   "id": "fcc8b8a4",
   "metadata": {},
   "outputs": [],
   "source": [
    "import mysql.connector\n",
    "conn = mysql.connector.connect(\n",
    "    host='localhost',\n",
    "    user='root',\n",
    "    password='',\n",
    "    database='device_specs_db'\n",
    ")"
   ]
  },
  {
   "cell_type": "code",
   "execution_count": 2,
   "id": "9fda9315",
   "metadata": {},
   "outputs": [],
   "source": [
    "from sqlalchemy import create_engine\n",
    "\n",
    "engine = create_engine('mysql+pymysql://root:@localhost/device_specs_db')"
   ]
  },
  {
   "cell_type": "code",
   "execution_count": 3,
   "id": "14ea926a",
   "metadata": {},
   "outputs": [
    {
     "name": "stdout",
     "output_type": "stream",
     "text": [
      "Data successfully loaded into MySQL!\n"
     ]
    }
   ],
   "source": [
    "import pandas as pd\n",
    "\n",
    "# Read CSV\n",
    "df = pd.read_csv(\"updated_phone_specs.csv\")  # Adjust path as needed\n",
    "\n",
    "# Save to MySQL table named 'my_table' (replace as you wish)\n",
    "df.to_sql(\n",
    "    name='samsung_phone',\n",
    "    con=engine,\n",
    "    if_exists='replace',  # or 'append' if you want to add without deleting\n",
    "    index=False\n",
    ")\n",
    "\n",
    "print(\"Data successfully loaded into MySQL!\")"
   ]
  },
  {
   "cell_type": "code",
   "execution_count": 3,
   "id": "725d5d80",
   "metadata": {},
   "outputs": [
    {
     "name": "stdout",
     "output_type": "stream",
     "text": [
      "              phone_name     network_technology             network_2g_bands  \\\n",
      "0  Samsung Galaxy A06 5G  GSM / HSPA / LTE / 5G  GSM 850 / 900 / 1800 / 1900   \n",
      "\n",
      "                            network_3g_bands  \\\n",
      "0  HSDPA 850 / 900 / 1700(AWS) / 1900 / 2100   \n",
      "\n",
      "                                    network_4g_bands  \\\n",
      "0  1, 2, 3, 4, 5, 7, 8, 12, 17, 20, 26, 28, 38, 4...   \n",
      "\n",
      "                                    network_5g_bands  network_speed  \\\n",
      "0  1, 3, 5, 7, 8, 26, 28, 40, 41, 66, 77, 78 SA/N...  HSPA, LTE, 5G   \n",
      "\n",
      "    launch_announced                          launch_status  \\\n",
      "0  2025, February 19  Available. Released 2025, February 19   \n",
      "\n",
      "                               body_dimensions  ... comms_bluetooth  \\\n",
      "0  167.3 x 77.3 x 8 mm (6.59 x 3.04 x 0.31 in)  ...   5.3, A2DP, LE   \n",
      "\n",
      "            comms_positioning comms_nfc  comms_radio       comms_usb  \\\n",
      "0  GPS, GLONASS, GALILEO, BDS        No  Unspecified  USB Type-C 2.0   \n",
      "\n",
      "                                    features_sensors battery_type  \\\n",
      "0  Fingerprint (side-mounted), accelerometer, gyr...     5000 mAh   \n",
      "\n",
      "  battery_charging               misc_colors            misc_models  \n",
      "0        25W wired  Black, Gray, Light Green  SM-A066B, SM-A066B/DS  \n",
      "\n",
      "[1 rows x 39 columns]\n"
     ]
    }
   ],
   "source": [
    "from sqlalchemy import text\n",
    "import pandas as pd\n",
    "\n",
    "phone_name = \"Samsung Galaxy A06 5G\"\n",
    "query = text(\"SELECT * FROM samsung_phone WHERE phone_name = :phone_name\")\n",
    "df = pd.read_sql(query, con=engine, params={\"phone_name\": phone_name})\n",
    "\n",
    "print(df.head())"
   ]
  },
  {
   "cell_type": "code",
   "execution_count": 5,
   "id": "1e073909",
   "metadata": {},
   "outputs": [
    {
     "name": "stdout",
     "output_type": "stream",
     "text": [
      "              phone_name     network_technology             network_2g_bands  \\\n",
      "0  Samsung Galaxy A06 5G  GSM / HSPA / LTE / 5G  GSM 850 / 900 / 1800 / 1900   \n",
      "\n",
      "                            network_3g_bands  \\\n",
      "0  HSDPA 850 / 900 / 1700(AWS) / 1900 / 2100   \n",
      "\n",
      "                                    network_4g_bands  \\\n",
      "0  1, 2, 3, 4, 5, 7, 8, 12, 17, 20, 26, 28, 38, 4...   \n",
      "\n",
      "                                    network_5g_bands  network_speed  \\\n",
      "0  1, 3, 5, 7, 8, 26, 28, 40, 41, 66, 77, 78 SA/N...  HSPA, LTE, 5G   \n",
      "\n",
      "    launch_announced                          launch_status  \\\n",
      "0  2025, February 19  Available. Released 2025, February 19   \n",
      "\n",
      "                               body_dimensions  ... comms_bluetooth  \\\n",
      "0  167.3 x 77.3 x 8 mm (6.59 x 3.04 x 0.31 in)  ...   5.3, A2DP, LE   \n",
      "\n",
      "            comms_positioning comms_nfc  comms_radio       comms_usb  \\\n",
      "0  GPS, GLONASS, GALILEO, BDS        No  Unspecified  USB Type-C 2.0   \n",
      "\n",
      "                                    features_sensors battery_type  \\\n",
      "0  Fingerprint (side-mounted), accelerometer, gyr...     5000 mAh   \n",
      "\n",
      "  battery_charging               misc_colors            misc_models  \n",
      "0        25W wired  Black, Gray, Light Green  SM-A066B, SM-A066B/DS  \n",
      "\n",
      "[1 rows x 39 columns]\n"
     ]
    }
   ],
   "source": [
    "from sqlalchemy import text\n",
    "import pandas as pd\n",
    "\n",
    "phone_name = \"Samsung Galaxy A06 5G\"\n",
    "query = text(\"SELECT * FROM samsung_phone WHERE phone_name = :phone_name\")\n",
    "df = pd.read_sql(query, con=engine, params={\"phone_name\": phone_name})\n",
    "\n",
    "print(df.head())"
   ]
  },
  {
   "cell_type": "code",
   "execution_count": null,
   "id": "896d54dd",
   "metadata": {},
   "outputs": [],
   "source": []
  }
 ],
 "metadata": {
  "kernelspec": {
   "display_name": "Python 3",
   "language": "python",
   "name": "python3"
  },
  "language_info": {
   "codemirror_mode": {
    "name": "ipython",
    "version": 3
   },
   "file_extension": ".py",
   "mimetype": "text/x-python",
   "name": "python",
   "nbconvert_exporter": "python",
   "pygments_lexer": "ipython3",
   "version": "3.12.0"
  }
 },
 "nbformat": 4,
 "nbformat_minor": 5
}
