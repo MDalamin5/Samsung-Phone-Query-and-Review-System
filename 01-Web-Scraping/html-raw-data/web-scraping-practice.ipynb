{
 "cells": [
  {
   "cell_type": "code",
   "execution_count": 2,
   "id": "85022361",
   "metadata": {},
   "outputs": [],
   "source": [
    "import requests\n",
    "from bs4 import BeautifulSoup\n",
    "\n",
    "# # Step 2.1: Updated headers\n",
    "# headers = {\n",
    "#     'User-Agent': 'Mozilla/5.0 (Windows NT 10.0; Win64; x64) AppleWebKit/537.36 (KHTML, like Gecko) Chrome/115.0.0.0 Safari/537.36'\n",
    "# }\n",
    "\n",
    "# url = \"https://www.gsmarena.com/samsung_galaxy_s25_edge-13506.php\"\n",
    "\n",
    "# data = requests.get(url=url)\n",
    "# data.text"
   ]
  },
  {
   "cell_type": "markdown",
   "id": "9f63f208",
   "metadata": {},
   "source": [
    "curl ''https://realtime.oxylabs.io/v1/queries'' --user 'USERNAME:PASSWORD' -H 'Content-Type: application/json' -d '{\"source\": \"amazon_product\", \"query\": \"B07FZ8S74R\", \"geo_location\": \"90210\", \"parse\": true}' "
   ]
  },
  {
   "cell_type": "code",
   "execution_count": 4,
   "id": "a49ecea3",
   "metadata": {},
   "outputs": [],
   "source": [
    "import os\n",
    "import requests\n",
    "from dotenv import load_dotenv\n",
    "load_dotenv()\n",
    "\n",
    "api_key = os.getenv(\"SCRAPING_BEE_API\")"
   ]
  },
  {
   "cell_type": "code",
   "execution_count": 5,
   "id": "cbc0f779",
   "metadata": {},
   "outputs": [],
   "source": [
    "def fetchAndSaveToFile(url, path):\n",
    "    api_url = f\"https://app.scrapingbee.com/api/v1/?api_key={api_key}&url={url}\"\n",
    "    response = requests.get(api_url)\n",
    "    with open(path, \"w\") as f:\n",
    "        f.write(response.text)\n"
   ]
  },
  {
   "cell_type": "code",
   "execution_count": null,
   "id": "80f9ebc9",
   "metadata": {},
   "outputs": [],
   "source": [
    "fetchAndSaveToFile(\"https://www.gsmarena.com/samsung_galaxy_f16-13721.php\", \"data/samsung_galaxy_f16.html\")"
   ]
  },
  {
   "cell_type": "code",
   "execution_count": 7,
   "id": "675dc83b",
   "metadata": {},
   "outputs": [],
   "source": [
    "fetchAndSaveToFile(\"https://www.gsmarena.com/samsung_galaxy_a56-13603.php\", \"data/samsung_galaxy_a56.html\")"
   ]
  },
  {
   "cell_type": "code",
   "execution_count": 8,
   "id": "dc830779",
   "metadata": {},
   "outputs": [],
   "source": [
    "fetchAndSaveToFile(\"https://www.gsmarena.com/samsung_galaxy_a36-13497.php\", \"data/samsung_galaxy_a36\")"
   ]
  },
  {
   "cell_type": "code",
   "execution_count": 9,
   "id": "27afba1e",
   "metadata": {},
   "outputs": [],
   "source": [
    "fetchAndSaveToFile(\"https://www.gsmarena.com/samsung_galaxy_a26-13679.php\", \"data/samsung_galaxy_a26.html\")"
   ]
  },
  {
   "cell_type": "code",
   "execution_count": 10,
   "id": "e912637c",
   "metadata": {},
   "outputs": [],
   "source": [
    "fetchAndSaveToFile(\"https://www.gsmarena.com/samsung_galaxy_m16-13680.php\", \"samsung_galaxy_m16.html\")"
   ]
  },
  {
   "cell_type": "code",
   "execution_count": 11,
   "id": "56e27ffd",
   "metadata": {},
   "outputs": [],
   "source": [
    "fetchAndSaveToFile(\"https://www.gsmarena.com/samsung_galaxy_m06-13681.php\", \"samsung_galaxy_m06.html\")"
   ]
  },
  {
   "cell_type": "code",
   "execution_count": 12,
   "id": "788b25bc",
   "metadata": {},
   "outputs": [],
   "source": [
    "fetchAndSaveToFile(\"https://www.gsmarena.com/samsung_galaxy_a06_5g-13662.php\", \"samsung_galaxy_a06_5g.html\")"
   ]
  },
  {
   "cell_type": "code",
   "execution_count": 13,
   "id": "233833ee",
   "metadata": {},
   "outputs": [],
   "source": [
    "fetchAndSaveToFile(\"https://www.gsmarena.com/samsung_galaxy_f06_5g-13663.php\", \"samsung_galaxy_f06_5g.html\")"
   ]
  },
  {
   "cell_type": "code",
   "execution_count": 14,
   "id": "8fdf45cb",
   "metadata": {},
   "outputs": [],
   "source": [
    "fetchAndSaveToFile(\"https://www.gsmarena.com/samsung_galaxy_s25_ultra-13322.php\", \"samsung_galaxy_s25_ultra\")"
   ]
  },
  {
   "cell_type": "code",
   "execution_count": 15,
   "id": "b79c5289",
   "metadata": {},
   "outputs": [],
   "source": [
    "fetchAndSaveToFile(\"https://www.gsmarena.com/samsung_galaxy_s25-13610.php\", \"samsung_galaxy_s25.html\")"
   ]
  },
  {
   "cell_type": "code",
   "execution_count": 16,
   "id": "d258e3ab",
   "metadata": {},
   "outputs": [],
   "source": [
    "fetchAndSaveToFile(\"https://www.gsmarena.com/samsung_galaxy_a16-13383.php\", \"samsung_galaxy_a16.html\")"
   ]
  },
  {
   "cell_type": "code",
   "execution_count": 17,
   "id": "25c1980e",
   "metadata": {},
   "outputs": [],
   "source": [
    "fetchAndSaveToFile(\"https://www.gsmarena.com/samsung_galaxy_a16_5g-13346.php\", \"samsung_galaxy_a16_5g.html\")"
   ]
  },
  {
   "cell_type": "code",
   "execution_count": 18,
   "id": "a7bb6cd8",
   "metadata": {},
   "outputs": [],
   "source": [
    "fetchAndSaveToFile(\"https://www.gsmarena.com/samsung_galaxy_s23_ultra-12024.php\", \"samsung_galaxy_s23_ultra.html\")"
   ]
  },
  {
   "cell_type": "code",
   "execution_count": 19,
   "id": "c66a27da",
   "metadata": {},
   "outputs": [],
   "source": [
    "fetchAndSaveToFile(\"https://www.gsmarena.com/samsung_galaxy_s23-12082.php\", \"samsung_galaxy_s23.html\")"
   ]
  },
  {
   "cell_type": "code",
   "execution_count": 20,
   "id": "b09eb961",
   "metadata": {},
   "outputs": [],
   "source": [
    "fetchAndSaveToFile(\"https://www.gsmarena.com/samsung_galaxy_c55-12945.php\", \"samsung_galaxy_c55-12945\")"
   ]
  },
  {
   "cell_type": "code",
   "execution_count": 21,
   "id": "5ed48243",
   "metadata": {},
   "outputs": [],
   "source": [
    "fetchAndSaveToFile(\"https://www.gsmarena.com/samsung_galaxy_m55-12896.php\", \"samsung_galaxy_m55\")"
   ]
  },
  {
   "cell_type": "code",
   "execution_count": 22,
   "id": "8d6f049a",
   "metadata": {},
   "outputs": [],
   "source": [
    "fetchAndSaveToFile(\"https://www.gsmarena.com/samsung_galaxy_a55-12824.php\", \"samsung_galaxy_a55.html\")"
   ]
  },
  {
   "cell_type": "code",
   "execution_count": 23,
   "id": "971bbce7",
   "metadata": {},
   "outputs": [],
   "source": [
    "fetchAndSaveToFile(\"https://www.gsmarena.com/samsung_galaxy_f15-12831.php\", \"samsung_galaxy_f15.html\")"
   ]
  },
  {
   "cell_type": "code",
   "execution_count": 24,
   "id": "73ddf03f",
   "metadata": {},
   "outputs": [],
   "source": [
    "fetchAndSaveToFile(\"https://www.gsmarena.com/samsung_galaxy_m15-12833.php\", \"samsung_galaxy_m15.html\")"
   ]
  },
  {
   "cell_type": "code",
   "execution_count": 25,
   "id": "9ab5f87b",
   "metadata": {},
   "outputs": [],
   "source": [
    "fetchAndSaveToFile(\"https://www.gsmarena.com/samsung_galaxy_a35-12705.php\", \"samsung_galaxy_a35.html\")"
   ]
  },
  {
   "cell_type": "code",
   "execution_count": 26,
   "id": "3c952bb6",
   "metadata": {},
   "outputs": [],
   "source": [
    "fetchAndSaveToFile(\"https://www.gsmarena.com/samsung_galaxy_s24-12773.php\", \"samsung_galaxy_s24.html\")"
   ]
  }
 ],
 "metadata": {
  "kernelspec": {
   "display_name": "Python 3",
   "language": "python",
   "name": "python3"
  },
  "language_info": {
   "codemirror_mode": {
    "name": "ipython",
    "version": 3
   },
   "file_extension": ".py",
   "mimetype": "text/x-python",
   "name": "python",
   "nbconvert_exporter": "python",
   "pygments_lexer": "ipython3",
   "version": "3.12.0"
  }
 },
 "nbformat": 4,
 "nbformat_minor": 5
}
