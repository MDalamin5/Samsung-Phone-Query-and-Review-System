{
 "cells": [
  {
   "cell_type": "markdown",
   "id": "4f57f6f1",
   "metadata": {},
   "source": [
    "## **QnA from `vector-db`**"
   ]
  },
  {
   "cell_type": "code",
   "execution_count": 1,
   "id": "c4d19b86",
   "metadata": {},
   "outputs": [],
   "source": [
    "from langchain.document_loaders import PDFPlumberLoader\n",
    "\n",
    "loader = PDFPlumberLoader(\"financial-data/Consolidated_Financial_Statements.pdf\")\n",
    "data = loader.load()"
   ]
  },
  {
   "cell_type": "code",
   "execution_count": 2,
   "id": "1f53a094",
   "metadata": {},
   "outputs": [
    {
     "data": {
      "text/plain": [
       "4"
      ]
     },
     "execution_count": 2,
     "metadata": {},
     "output_type": "execute_result"
    }
   ],
   "source": [
    "len(data)"
   ]
  },
  {
   "cell_type": "code",
   "execution_count": 3,
   "id": "4fe90416",
   "metadata": {},
   "outputs": [
    {
     "name": "stdout",
     "output_type": "stream",
     "text": [
      "Apple Inc.\n",
      "CONDENSED CONSOLIDATED STATEMENTS OF OPERATIONS (Unaudited)\n",
      "(In millions, except number of shares, which are reflected in thousands, and per-share amounts)\n",
      "Three Months Ended Twelve Months Ended\n",
      "September 28, September 30, September 28, September 30,\n",
      "2024 2023 2024 2023\n",
      "Net sales:\n",
      "Products $ 69,958 $ 67,184 $ 294,866 $ 298,085\n",
      "Services 24,972 22,314 96 ,169 85,200\n",
      "Total net sales (1) 94,930 89,498 391,035 383,285\n",
      "Cost of sales:\n",
      "Products 44,566 42,586 185,233 189,282\n",
      "Services 6,485 6,485 25,119 24,855\n",
      "Total cost of sales 51,051 49,071 210,352 214,137\n",
      "Gross margin 43,879 40,427 180,683 169,148\n",
      "Operating expenses:\n",
      "Research and development 7,765 7,307 31,370 29,915\n",
      "Selling, general and administrative 6,523 6,151 26,097 24,932\n",
      "Total operating expenses 14,288 13,458 57,467 54,847\n",
      "Operating income 29,591 26,969 123,216 114,301\n",
      "Other income/(expense), net 19 29 269 (565)\n",
      "Income before provision for income taxes 29,610 26,998 123,485 113,736\n",
      "Provision for income taxes 14,874 4,042 29,749 16,741\n",
      "Net income $ 14,736 $ 22,956 $ 93,736 $ 96,995\n",
      "Earnings per share:\n",
      "Basic $ 0.97 $ 1.47 $ 6.11 $ 6.16\n",
      "Diluted $ 0.97 $ 1.46 $ 6.08 $ 6.13\n",
      "Shares used in computing earnings per share:\n",
      "Basic 15,171,990 15,599,434 15,343,783 15,744,231\n",
      "Diluted 15,242,853 15,672,400 15,408,095 15,812,547\n",
      "(1) Net sales by reportable segment:\n",
      "Americas $ 41,664 $ 40,115 $ 167,045 $ 162,560\n",
      "Europe 24,924 22,463 101,328 94,294\n",
      "Greater China 15,033 15,084 66,952 72,559\n",
      "Japan 5,926 5,505 25,052 24,257\n",
      "Rest of Asia Pacific 7,383 6,331 30,658 29,615\n",
      "Total net sales $ 94,930 $ 89,498 $ 391,035 $ 383,285\n",
      "(1) Net sales by category:\n",
      "iPhone $ 46,222 $ 43,805 $ 201,183 $ 200,583\n",
      "Mac 7,744 7,614 29,984 29,357\n",
      "iPad 6,950 6,443 26,694 28,300\n",
      "Wearables, Home and Accessories 9,042 9,322 37,005 39,845\n",
      "Services 24,972 22,314 96,169 85,200\n",
      "Total net sales $ 94,930 $ 89,498 $ 391,035 $ 383,285\n",
      "\n"
     ]
    }
   ],
   "source": [
    "print(data[0].page_content)"
   ]
  },
  {
   "cell_type": "markdown",
   "id": "b259472f",
   "metadata": {},
   "source": [
    "## **Chunking Documents**"
   ]
  },
  {
   "cell_type": "code",
   "execution_count": 4,
   "id": "1a07ebc0",
   "metadata": {},
   "outputs": [],
   "source": [
    "from langchain_text_splitters import RecursiveCharacterTextSplitter\n",
    "\n",
    "splitter = RecursiveCharacterTextSplitter(\n",
    "    chunk_size = 1000,\n",
    "    chunk_overlap = 300\n",
    ")"
   ]
  },
  {
   "cell_type": "code",
   "execution_count": 5,
   "id": "b71f1ac5",
   "metadata": {},
   "outputs": [
    {
     "data": {
      "text/plain": [
       "12"
      ]
     },
     "execution_count": 5,
     "metadata": {},
     "output_type": "execute_result"
    }
   ],
   "source": [
    "all_chunks = splitter.split_documents(documents=data)\n",
    "len(all_chunks)"
   ]
  },
  {
   "cell_type": "code",
   "execution_count": 6,
   "id": "deea3171",
   "metadata": {},
   "outputs": [
    {
     "name": "stdout",
     "output_type": "stream",
     "text": [
      "Apple Inc.\n",
      "CONDENSED CONSOLIDATED STATEMENTS OF OPERATIONS (Unaudited)\n",
      "(In millions, except number of shares, which are reflected in thousands, and per-share amounts)\n",
      "Three Months Ended Twelve Months Ended\n",
      "September 28, September 30, September 28, September 30,\n",
      "2024 2023 2024 2023\n",
      "Net sales:\n",
      "Products $ 69,958 $ 67,184 $ 294,866 $ 298,085\n",
      "Services 24,972 22,314 96 ,169 85,200\n",
      "Total net sales (1) 94,930 89,498 391,035 383,285\n",
      "Cost of sales:\n",
      "Products 44,566 42,586 185,233 189,282\n",
      "Services 6,485 6,485 25,119 24,855\n",
      "Total cost of sales 51,051 49,071 210,352 214,137\n",
      "Gross margin 43,879 40,427 180,683 169,148\n",
      "Operating expenses:\n",
      "Research and development 7,765 7,307 31,370 29,915\n",
      "Selling, general and administrative 6,523 6,151 26,097 24,932\n",
      "Total operating expenses 14,288 13,458 57,467 54,847\n",
      "Operating income 29,591 26,969 123,216 114,301\n",
      "Other income/(expense), net 19 29 269 (565)\n",
      "Income before provision for income taxes 29,610 26,998 123,485 113,736\n"
     ]
    }
   ],
   "source": [
    "print(all_chunks[0].page_content)"
   ]
  },
  {
   "cell_type": "code",
   "execution_count": 7,
   "id": "aa6473b9",
   "metadata": {},
   "outputs": [
    {
     "name": "stdout",
     "output_type": "stream",
     "text": [
      "Selling, general and administrative 6,523 6,151 26,097 24,932\n",
      "Total operating expenses 14,288 13,458 57,467 54,847\n",
      "Operating income 29,591 26,969 123,216 114,301\n",
      "Other income/(expense), net 19 29 269 (565)\n",
      "Income before provision for income taxes 29,610 26,998 123,485 113,736\n",
      "Provision for income taxes 14,874 4,042 29,749 16,741\n",
      "Net income $ 14,736 $ 22,956 $ 93,736 $ 96,995\n",
      "Earnings per share:\n",
      "Basic $ 0.97 $ 1.47 $ 6.11 $ 6.16\n",
      "Diluted $ 0.97 $ 1.46 $ 6.08 $ 6.13\n",
      "Shares used in computing earnings per share:\n",
      "Basic 15,171,990 15,599,434 15,343,783 15,744,231\n",
      "Diluted 15,242,853 15,672,400 15,408,095 15,812,547\n",
      "(1) Net sales by reportable segment:\n",
      "Americas $ 41,664 $ 40,115 $ 167,045 $ 162,560\n",
      "Europe 24,924 22,463 101,328 94,294\n",
      "Greater China 15,033 15,084 66,952 72,559\n",
      "Japan 5,926 5,505 25,052 24,257\n",
      "Rest of Asia Pacific 7,383 6,331 30,658 29,615\n",
      "Total net sales $ 94,930 $ 89,498 $ 391,035 $ 383,285\n",
      "(1) Net sales by category:\n",
      "iPhone $ 46,222 $ 43,805 $ 201,183 $ 200,583\n"
     ]
    }
   ],
   "source": [
    "print(all_chunks[1].page_content)"
   ]
  },
  {
   "cell_type": "markdown",
   "id": "65e4d512",
   "metadata": {},
   "source": [
    "### All Chunks are properly Overlap."
   ]
  },
  {
   "cell_type": "markdown",
   "id": "9ff418f1",
   "metadata": {},
   "source": [
    "# ***Download the HuggingFace Embedding Model***"
   ]
  },
  {
   "cell_type": "code",
   "execution_count": 8,
   "id": "ab904219",
   "metadata": {},
   "outputs": [],
   "source": [
    "import warnings\n",
    "warnings.filterwarnings('ignore')"
   ]
  },
  {
   "cell_type": "code",
   "execution_count": 9,
   "id": "0e961242",
   "metadata": {},
   "outputs": [],
   "source": [
    "from langchain_groq import ChatGroq\n",
    "from dotenv import load_dotenv\n",
    "import os\n",
    "from langchain_huggingface import HuggingFaceEmbeddings\n",
    "load_dotenv()\n",
    "\n",
    "\n",
    "os.environ[\"HF_TOKEN\"] = os.getenv(\"HF_TOKEN\")\n",
    "os.environ[\"GROQ_API_KEY\"] = os.getenv(\"GROQ_API_KEY\")\n",
    "\n",
    "\n",
    "embeddings = HuggingFaceEmbeddings(model_name=\"sentence-transformers/all-mpnet-base-v2\")\n",
    "llm = ChatGroq(model=\"meta-llama/llama-4-scout-17b-16e-instruct\")"
   ]
  },
  {
   "cell_type": "markdown",
   "id": "d8f8ea0f",
   "metadata": {},
   "source": [
    "## **Accessing `Ollama-Local` Model**"
   ]
  },
  {
   "cell_type": "code",
   "execution_count": 10,
   "id": "15a84e57",
   "metadata": {},
   "outputs": [
    {
     "data": {
      "text/plain": [
       "AIMessage(content=\"Hi there! I'm doing well, thank you for asking. As an AI, I don't really *feel* in the same way humans do, but I’m operating smoothly and ready to help with whatever you need. \\n\\nHow about you? How’s your day going so far?\", additional_kwargs={}, response_metadata={'model': 'gemma3:1b', 'created_at': '2025-07-10T15:49:10.4619517Z', 'message': {'role': 'assistant', 'content': ''}, 'done_reason': 'stop', 'done': True, 'total_duration': 3418733200, 'load_duration': 2385809000, 'prompt_eval_count': 16, 'prompt_eval_duration': 438153900, 'eval_count': 64, 'eval_duration': 573325100}, id='run--fde4bbf5-ab4e-4206-b1f6-60cf5d0bc0b2-0')"
      ]
     },
     "execution_count": 10,
     "metadata": {},
     "output_type": "execute_result"
    }
   ],
   "source": [
    "from langchain_community.chat_models import ChatOllama\n",
    "\n",
    "local_model = ChatOllama(model=\"gemma3:1b\")\n",
    "local_model.invoke(\"hi, sir how are you?\")"
   ]
  },
  {
   "cell_type": "markdown",
   "id": "a82c5b2e",
   "metadata": {},
   "source": [
    "## **Use `Pinecone` Cloud db**"
   ]
  },
  {
   "cell_type": "code",
   "execution_count": 11,
   "id": "8c76c7a2",
   "metadata": {},
   "outputs": [],
   "source": [
    "from pinecone import Pinecone\n",
    "os.environ[\"PINECONE_API_KEY\"] = os.getenv(\"PINECONE_API_KEY\")\n",
    "\n",
    "pinecone_api_key = os.getenv(\"PINECONE_API_KEY\")\n",
    "\n",
    "pc = Pinecone(api_key=pinecone_api_key)"
   ]
  },
  {
   "cell_type": "code",
   "execution_count": 12,
   "id": "a1f2187f",
   "metadata": {},
   "outputs": [],
   "source": [
    "from pinecone import ServerlessSpec ## you are not going to mange the server. and its managed by the cloud provider.\n",
    "## create index\n",
    "index_name = \"owgpt-apple-inc-db\"\n",
    "\n",
    "if not pc.has_index(index_name):\n",
    "    pc.create_index(\n",
    "    name=index_name,\n",
    "    dimension=768,\n",
    "    metric=\"dotproduct\",\n",
    "    spec=ServerlessSpec(\n",
    "        cloud=\"aws\",\n",
    "        region=\"us-east-1\"\n",
    "    )\n",
    ")"
   ]
  },
  {
   "cell_type": "markdown",
   "id": "eb88d2b1",
   "metadata": {},
   "source": [
    "## **Load the db**"
   ]
  },
  {
   "cell_type": "code",
   "execution_count": 13,
   "id": "67816c2f",
   "metadata": {},
   "outputs": [
    {
     "data": {
      "text/plain": [
       "<langchain_pinecone.vectorstores.PineconeVectorStore at 0x24818dbaab0>"
      ]
     },
     "execution_count": 13,
     "metadata": {},
     "output_type": "execute_result"
    }
   ],
   "source": [
    "from langchain_pinecone import PineconeVectorStore\n",
    "\n",
    "index = pc.Index(index_name)\n",
    "\n",
    "\n",
    "\n",
    "vector_store = PineconeVectorStore(index=index, embedding=embeddings)\n",
    "vector_store"
   ]
  },
  {
   "cell_type": "code",
   "execution_count": 14,
   "id": "10034dd8",
   "metadata": {},
   "outputs": [
    {
     "data": {
      "text/plain": [
       "['11a217d5-1ecf-45a5-beeb-83ec0553df9f',\n",
       " '09b68175-7ff0-49d5-abb1-46d5c727594c',\n",
       " 'a746a8de-ea76-4977-a671-0345a213f2af',\n",
       " '92f3241a-80cb-44e8-ba2a-1e0f27a0af2e',\n",
       " '007f9598-dca2-4202-83e4-6cb2ddab0da1',\n",
       " '3d86e14e-73e3-4b05-b234-f16125a759e9',\n",
       " 'ae151382-b570-4283-940d-c7bfb6ea5f2a',\n",
       " 'edc9c221-ce07-4529-9201-a6f755a8b286',\n",
       " 'f3e3ad6a-aae1-4ffd-93ef-23f2548f15d4',\n",
       " '74ee7fd3-e629-4e71-af14-745ea2a79712',\n",
       " 'd995bab6-57cb-4c67-a5eb-ff40ea9c9b66',\n",
       " '51774a7e-f116-4afa-b42c-1b88aff303a4']"
      ]
     },
     "execution_count": 14,
     "metadata": {},
     "output_type": "execute_result"
    }
   ],
   "source": [
    "vector_store.add_documents(documents=all_chunks)"
   ]
  },
  {
   "cell_type": "code",
   "execution_count": 15,
   "id": "43d39576",
   "metadata": {},
   "outputs": [
    {
     "data": {
      "text/plain": [
       "(Document(id='39f7db72-691f-461c-808a-17e93877f2f3', metadata={'CreationDate': \"D:20241031155329Z00'00'\", 'Creator': 'Word', 'ModDate': \"D:20241031155329Z00'00'\", 'Producer': 'macOS Version 15.0 (Build 24A335) Quartz PDFContext', 'Title': '24-10-31 Apple reports fourth quarter results', 'file_path': 'financial-data/Consolidated_Financial_Statements.pdf', 'page': 0.0, 'source': 'financial-data/Consolidated_Financial_Statements.pdf', 'total_pages': 4.0}, page_content='Apple Inc.\\nCONDENSED CONSOLIDATED STATEMENTS OF OPERATIONS (Unaudited)\\n(In millions, except number of shares, which are reflected in thousands, and per-share amounts)\\nThree Months Ended Twelve Months Ended\\nSeptember 28, September 30, September 28, September 30,\\n2024 2023 2024 2023\\nNet sales:\\nProducts $ 69,958 $ 67,184 $ 294,866 $ 298,085\\nServices 24,972 22,314 96 ,169 85,200\\nTotal net sales (1) 94,930 89,498 391,035 383,285\\nCost of sales:\\nProducts 44,566 42,586 185,233 189,282\\nServices 6,485 6,485 25,119 24,855\\nTotal cost of sales 51,051 49,071 210,352 214,137\\nGross margin 43,879 40,427 180,683 169,148\\nOperating expenses:\\nResearch and development 7,765 7,307 31,370 29,915\\nSelling, general and administrative 6,523 6,151 26,097 24,932\\nTotal operating expenses 14,288 13,458 57,467 54,847\\nOperating income 29,591 26,969 123,216 114,301\\nOther income/(expense), net 19 29 269 (565)\\nIncome before provision for income taxes 29,610 26,998 123,485 113,736'),\n",
       " 0.567272425)"
      ]
     },
     "execution_count": 15,
     "metadata": {},
     "output_type": "execute_result"
    }
   ],
   "source": [
    "query = \"What is the net sales in september 28, 2024\"\n",
    "\n",
    "response = vector_store.similarity_search_with_score(query=query)\n",
    "response[0]"
   ]
  },
  {
   "cell_type": "markdown",
   "id": "77e9d418",
   "metadata": {},
   "source": [
    "## **Create Retriever**"
   ]
  },
  {
   "cell_type": "code",
   "execution_count": 16,
   "id": "d275a4e4",
   "metadata": {},
   "outputs": [],
   "source": [
    "retriever = vector_store.as_retriever(\n",
    "    search_type = \"similarity\",\n",
    "    search_kwargs={\n",
    "        \"k\": 3\n",
    "    }\n",
    ")"
   ]
  },
  {
   "cell_type": "code",
   "execution_count": 17,
   "id": "49ae7664",
   "metadata": {},
   "outputs": [
    {
     "data": {
      "text/plain": [
       "[Document(id='39f7db72-691f-461c-808a-17e93877f2f3', metadata={'CreationDate': \"D:20241031155329Z00'00'\", 'Creator': 'Word', 'ModDate': \"D:20241031155329Z00'00'\", 'Producer': 'macOS Version 15.0 (Build 24A335) Quartz PDFContext', 'Title': '24-10-31 Apple reports fourth quarter results', 'file_path': 'financial-data/Consolidated_Financial_Statements.pdf', 'page': 0.0, 'source': 'financial-data/Consolidated_Financial_Statements.pdf', 'total_pages': 4.0}, page_content='Apple Inc.\\nCONDENSED CONSOLIDATED STATEMENTS OF OPERATIONS (Unaudited)\\n(In millions, except number of shares, which are reflected in thousands, and per-share amounts)\\nThree Months Ended Twelve Months Ended\\nSeptember 28, September 30, September 28, September 30,\\n2024 2023 2024 2023\\nNet sales:\\nProducts $ 69,958 $ 67,184 $ 294,866 $ 298,085\\nServices 24,972 22,314 96 ,169 85,200\\nTotal net sales (1) 94,930 89,498 391,035 383,285\\nCost of sales:\\nProducts 44,566 42,586 185,233 189,282\\nServices 6,485 6,485 25,119 24,855\\nTotal cost of sales 51,051 49,071 210,352 214,137\\nGross margin 43,879 40,427 180,683 169,148\\nOperating expenses:\\nResearch and development 7,765 7,307 31,370 29,915\\nSelling, general and administrative 6,523 6,151 26,097 24,932\\nTotal operating expenses 14,288 13,458 57,467 54,847\\nOperating income 29,591 26,969 123,216 114,301\\nOther income/(expense), net 19 29 269 (565)\\nIncome before provision for income taxes 29,610 26,998 123,485 113,736'),\n",
       " Document(id='d1d39a98-0b3d-408e-8d25-e4c1c05ebdee', metadata={'CreationDate': \"D:20241031155329Z00'00'\", 'Creator': 'Word', 'ModDate': \"D:20241031155329Z00'00'\", 'Producer': 'macOS Version 15.0 (Build 24A335) Quartz PDFContext', 'Title': '24-10-31 Apple reports fourth quarter results', 'file_path': 'financial-data/Consolidated_Financial_Statements.pdf', 'page': 1.0, 'source': 'financial-data/Consolidated_Financial_Statements.pdf', 'total_pages': 4.0}, page_content='Apple Inc.\\nCONDENSED CONSOLIDATED BALANCE SHEETS (Unaudited)\\n(In millions, except number of shares, which are reflected in thousands, and par value)\\nSeptember 28, September 30,\\n2024 2023\\nASSETS:\\nCurrent assets:\\nCash and cash equivalents $ 29,943 $ 29,965\\nMarketable securities 35,228 31,590\\nAccounts receivable, net 33,410 29,508\\nVendor non-trade receivables 32,833 31,477\\nInventories 7,286 6,331\\nOther current assets 14,287 14,695\\nTotal current assets 152,987 143,566\\nNon-current assets:\\nMarketable securities 91,479 100,544\\nProperty, plant and equipment, net 45,680 43,715\\nOther non-current assets 74,834 64,758\\nTotal non-current assets 211,993 209,017\\nTotal assets $ 364,980 $ 352,583\\nLIABILITIES AND SHAREHOLDERS’ EQUITY:\\nCurrent liabilities:\\nAccounts payable $ 68,960 $ 62,611\\nOther current liabilities 78,304 58,829\\nDeferred revenue 8,249 8,061\\nCommercial paper 9,967 5,985\\nTerm debt 10,912 9,822\\nTotal current liabilities 176,392 145,308\\nNon-current liabilities:\\nTerm debt 85,750 95,281'),\n",
       " Document(id='37d78c53-ca3e-4837-a149-2368c1f82c6a', metadata={'CreationDate': \"D:20241031155329Z00'00'\", 'Creator': 'Word', 'ModDate': \"D:20241031155329Z00'00'\", 'Producer': 'macOS Version 15.0 (Build 24A335) Quartz PDFContext', 'Title': '24-10-31 Apple reports fourth quarter results', 'file_path': 'financial-data/Consolidated_Financial_Statements.pdf', 'page': 2.0, 'source': 'financial-data/Consolidated_Financial_Statements.pdf', 'total_pages': 4.0}, page_content='Apple Inc.\\nCONDENSED CONSOLIDATED STATEMENTS OF CASH FLOWS (Unaudited)\\n(In millions)\\nTwelve Months Ended\\nSeptember 28, September 30,\\n2024 2023\\nCash, cash equivalents, and restricted cash and cash equivalents, beginning balances $ 30,737 $ 24,977\\nOperating activities:\\nNet income 93,736 96,995\\nAdjustments to reconcile net income to cash generated by operating activities:\\nDepreciation and amortization 11,445 11,519\\nShare-based compensation expense 11,688 10,833\\nOther (2,266) (2,227)\\nChanges in operating assets and liabilities:\\nAccounts receivable, net (3,788) (1,688)\\nVendor non-trade receivables (1,356) 1,271\\nInventories (1,046) (1,618)\\nOther current and non-current assets (11,731) (5,684)\\nAccounts payable 6,020 (1,889)\\nOther current and non-current liabilities 15,552 3,031\\nCash generated by operating activities 118,254 110,543\\nInvesting activities:\\nPurchases of marketable securities (48,656) (29,513)\\nProceeds from maturities of marketable securities 51,211 39,686')]"
      ]
     },
     "execution_count": 17,
     "metadata": {},
     "output_type": "execute_result"
    }
   ],
   "source": [
    "response = retriever.invoke(\"What was Apple's total net sales for the year 2024?\")\n",
    "response"
   ]
  },
  {
   "cell_type": "markdown",
   "id": "33c231f0",
   "metadata": {},
   "source": [
    "## **Define the `RAG` Prompt**"
   ]
  },
  {
   "cell_type": "code",
   "execution_count": 18,
   "id": "dab7edd9",
   "metadata": {},
   "outputs": [],
   "source": [
    "from langchain_core.prompts import PromptTemplate\n",
    "\n",
    "rag_prompt = PromptTemplate(\n",
    "    template=\"\"\"\n",
    "You are a financial analyst AI assistant with deep understanding of corporate financial statements.\n",
    "\n",
    "Your task is to:\n",
    "- Answer the user's question using **only the given context**.\n",
    "- Respond with **clear, factual, and concise** answers based on the data provided.\n",
    "- Do **not guess or fabricate information**.\n",
    "- If the answer is not explicitly found in the context, respond with:\n",
    "**\"Sorry, the document does not contain information relevant to your question.\"**\n",
    "\n",
    "📌 **User Question:**  \n",
    "{question}\n",
    "\n",
    "📄 **Document Context (from a financial PDF):**  \n",
    "{context}\n",
    "\n",
    "✍️ **Your Answer:**  \n",
    "\"\"\",\n",
    "    input_variables=[\"question\", \"context\"]\n",
    ")\n"
   ]
  },
  {
   "cell_type": "markdown",
   "id": "89c27104",
   "metadata": {},
   "source": [
    "## **Formatted the context data**"
   ]
  },
  {
   "cell_type": "code",
   "execution_count": 19,
   "id": "4f29a0c9",
   "metadata": {},
   "outputs": [],
   "source": [
    "def format_docs(retriever_docs):\n",
    "    context_text = \"\\n\\n\".join(doc.page_content for doc in retriever_docs)\n",
    "    return context_text"
   ]
  },
  {
   "cell_type": "code",
   "execution_count": 28,
   "id": "04b2eaea",
   "metadata": {},
   "outputs": [
    {
     "data": {
      "image/png": "[encoded data removed]",
      "text/plain": [
       "<IPython.core.display.Image object>"
      ]
     },
     "metadata": {},
     "output_type": "display_data"
    }
   ],
   "source": [
    "\n",
    "from langchain_core.output_parsers import StrOutputParser\n",
    "from langchain_core.runnables import RunnablePassthrough\n",
    "\n",
    "from IPython.display import display, Image\n",
    "rag_chain = (\n",
    "    {\n",
    "        \"context\": retriever | format_docs,\n",
    "        \"question\": RunnablePassthrough()\n",
    "    }\n",
    "    | rag_prompt\n",
    "    | llm\n",
    "    | StrOutputParser()\n",
    ")\n",
    "\n",
    "\n",
    "display(Image(rag_chain.get_graph().draw_mermaid_png()))"
   ]
  },
  {
   "cell_type": "code",
   "execution_count": 29,
   "id": "e75bee95",
   "metadata": {},
   "outputs": [
    {
     "name": "stdout",
     "output_type": "stream",
     "text": [
      "Apple's total net sales for the year 2024 was $391,035 million.\n"
     ]
    }
   ],
   "source": [
    "question = \"What was Apple's total net sales for the year 2024?\"\n",
    "response = rag_chain.invoke(question)\n",
    "print(response)"
   ]
  },
  {
   "cell_type": "code",
   "execution_count": 30,
   "id": "5abb5b0e",
   "metadata": {},
   "outputs": [
    {
     "name": "stdout",
     "output_type": "stream",
     "text": [
      "Apple's services revenue for 2023 was $85,200 million, and for 2024, it was $96,169 million. \n",
      "\n",
      "Comparing the two years, Apple's services revenue increased by $10,969 million ($96,169 - $85,200) from 2023 to 2024.\n"
     ]
    }
   ],
   "source": [
    "question = \"Compare Apple's services revenue between 2023 and 2024.\"\n",
    "\n",
    "response = rag_chain.invoke(question)\n",
    "print(response)"
   ]
  },
  {
   "cell_type": "code",
   "execution_count": null,
   "id": "8c3f9ef3",
   "metadata": {},
   "outputs": [],
   "source": []
  }
 ],
 "metadata": {
  "kernelspec": {
   "display_name": "Python 3",
   "language": "python",
   "name": "python3"
  },
  "language_info": {
   "codemirror_mode": {
    "name": "ipython",
    "version": 3
   },
   "file_extension": ".py",
   "mimetype": "text/x-python",
   "name": "python",
   "nbconvert_exporter": "python",
   "pygments_lexer": "ipython3",
   "version": "3.12.0"
  }
 },
 "nbformat": 4,
 "nbformat_minor": 5
}
