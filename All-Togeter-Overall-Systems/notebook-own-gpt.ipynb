{
 "cells": [
  {
   "cell_type": "markdown",
   "id": "986f28a0",
   "metadata": {},
   "source": [
    "## **RAG based QnA**"
   ]
  },
  {
   "cell_type": "code",
   "execution_count": 1,
   "id": "308db978",
   "metadata": {},
   "outputs": [],
   "source": [
    "import warnings\n",
    "warnings.filterwarnings(\"ignore\")"
   ]
  },
  {
   "cell_type": "code",
   "execution_count": 33,
   "id": "2dfe62fe",
   "metadata": {},
   "outputs": [],
   "source": [
    "from langchain_groq import ChatGroq\n",
    "import os\n",
    "from dotenv import load_dotenv\n",
    "load_dotenv()\n",
    "\n",
    "os.environ[\"HF_TOKEN\"] = os.getenv(\"HF_TOKEN\")\n",
    "os.environ[\"GROQ_API_KEY\"] = os.getenv(\"GROQ_API_KEY\")\n",
    "\n",
    "from langchain_huggingface import HuggingFaceEmbeddings"
   ]
  },
  {
   "cell_type": "markdown",
   "id": "0060f674",
   "metadata": {},
   "source": [
    "## **Load the LLM and Embedding Model**"
   ]
  },
  {
   "cell_type": "code",
   "execution_count": 34,
   "id": "7c3cfcbe",
   "metadata": {},
   "outputs": [
    {
     "data": {
      "text/plain": [
       "AIMessage(content='<think>\\nOkay, the user sent \"test line\". That\\'s pretty short. I need to figure out what they\\'re looking for. Maybe they\\'re just testing the system to see if it\\'s working. Or perhaps they want me to respond in a specific way. Let me check the history. There\\'s no previous interaction, so this is the first message.\\n\\nI should consider different possibilities. If it\\'s a test, a simple acknowledgment would be appropriate. But maybe they want more. They might be checking if the bot is active or if there\\'s a response delay. Alternatively, they could be trying to trigger a certain type of response. \\n\\nI should also think about the guidelines. I need to make sure my response is helpful and follows the rules. Since the user didn\\'t ask a question or give a task, I should invite them to clarify their needs. Maybe offer assistance. Let me draft a few options.\\n\\n1. \"Hello! It seems like you\\'re testing the system. How can I assist you today?\"\\n2. \"Hi there! Just a test line? Feel free to ask anything I can help with.\"\\n3. \"Testing 1-2-3! Let me know if you need any help.\"\\n\\nHmm, the first one is friendly and offers help. The second is more casual. The third is a bit playful. I think the first one is the best because it acknowledges their test and opens the door for assistance. I should go with that. Make sure the response is welcoming and encourages them to ask for help if needed.\\n</think>\\n\\nHello! It seems like you\\'re testing the system. How can I assist you today? Feel free to ask anything I can help with! 😊', additional_kwargs={}, response_metadata={'token_usage': {'completion_tokens': 345, 'prompt_tokens': 10, 'total_tokens': 355, 'completion_time': 0.806309664, 'prompt_time': 0.000700439, 'queue_time': 0.054455091000000004, 'total_time': 0.807010103}, 'model_name': 'qwen/qwen3-32b', 'system_fingerprint': 'fp_8487b76fd3', 'finish_reason': 'stop', 'logprobs': None}, id='run--1ee2e23c-e8bc-4465-9837-f6bb490a44c3-0', usage_metadata={'input_tokens': 10, 'output_tokens': 345, 'total_tokens': 355})"
      ]
     },
     "execution_count": 34,
     "metadata": {},
     "output_type": "execute_result"
    }
   ],
   "source": [
    "embeddings = HuggingFaceEmbeddings(model_name=\"sentence-transformers/all-mpnet-base-v2\")\n",
    "# llm = ChatGroq(model=\"meta-llama/llama-4-scout-17b-16e-instruct\")\n",
    "llm = ChatGroq(model=os.getenv(\"QWEN_MODEL\"))\n",
    "llm.invoke(\"test line\")"
   ]
  },
  {
   "cell_type": "markdown",
   "id": "947c2eb0",
   "metadata": {},
   "source": [
    "## **Load the PineCone Cloud Vector DB**"
   ]
  },
  {
   "cell_type": "code",
   "execution_count": 4,
   "id": "e59063d3",
   "metadata": {},
   "outputs": [
    {
     "data": {
      "text/plain": [
       "<langchain_pinecone.vectorstores.PineconeVectorStore at 0x1c072ac5190>"
      ]
     },
     "execution_count": 4,
     "metadata": {},
     "output_type": "execute_result"
    }
   ],
   "source": [
    "from pinecone import Pinecone\n",
    "from langchain_pinecone import PineconeVectorStore\n",
    "\n",
    "os.environ[\"PINECONE_API_KEY\"] = os.getenv(\"PINECONE_API_KEY\")\n",
    "\n",
    "pinecone_api_key = os.getenv(\"PINECONE_API_KEY\")\n",
    "pc = Pinecone(api_key=pinecone_api_key)\n",
    "\n",
    "index_name = \"samsung-db\"\n",
    "index = pc.Index(index_name)\n",
    "\n",
    "vector_store = PineconeVectorStore(index=index, embedding=embeddings)\n",
    "vector_store"
   ]
  },
  {
   "cell_type": "markdown",
   "id": "13c5c944",
   "metadata": {},
   "source": [
    "## **Vector store as Retriever**"
   ]
  },
  {
   "cell_type": "code",
   "execution_count": 5,
   "id": "92dd9019",
   "metadata": {},
   "outputs": [],
   "source": [
    "retriever = vector_store.as_retriever(\n",
    "    search_type = \"similarity\",\n",
    "    search_kwargs={\n",
    "        \"k\": 3\n",
    "    }\n",
    ")"
   ]
  },
  {
   "cell_type": "markdown",
   "id": "2635169b",
   "metadata": {},
   "source": [
    "## **RAG Prompt**"
   ]
  },
  {
   "cell_type": "code",
   "execution_count": 6,
   "id": "f6dd2761",
   "metadata": {},
   "outputs": [],
   "source": [
    "from langchain_core.prompts import PromptTemplate\n",
    "\n",
    "prompt = PromptTemplate(\n",
    "    template=\"\"\"\n",
    "You are a helpful AI assistant and an expert at answering Samsung phone-related questions.\n",
    "Your job is to provide **clear and direct answers** using the correct document.\n",
    "\n",
    "do not mention this type of response:\n",
    "\n",
    "example:\n",
    "\n",
    "    The user is asking about the camera specs of the Samsung Galaxy S23 Ultra.\n",
    "\n",
    "    After checking the metadata of the retrieved documents, I found an exact match: `samsung_galaxy_s23_ultra`.\n",
    "Answer clear and direct way like normally answer the user question according the context.\n",
    "\n",
    "- You will receive two documents as context.\n",
    "- Only use the document where the metadata `phone_name` exactly matches the phone model in the user's question.\n",
    "- If no document matches, say: \"Sorry, I do not know the answer because the correct phone model was not found in the retrieved context.\"\n",
    "- Do not explain how you found the information. Just provide the final answer clearly and concisely.\n",
    "\n",
    "⚠ Example of phone name matching:  \n",
    "If the user question mentions **\"Samsung Galaxy S23 Ultra\"**  \n",
    "and a document metadata has **phone_name: samsung_galaxy_s23_ultra**  \n",
    "→ this is an exact match.\n",
    "\n",
    "---\n",
    "\n",
    "User question:  \n",
    "{question}\n",
    "\n",
    "---\n",
    "\n",
    "Retrieved documents:  \n",
    "{context}\n",
    "\"\"\",\n",
    "    input_variables=[\"question\", \"context\"]\n",
    ")"
   ]
  },
  {
   "cell_type": "code",
   "execution_count": 7,
   "id": "3ec1ff5b",
   "metadata": {},
   "outputs": [],
   "source": [
    "from langchain_core.runnables import RunnablePassthrough\n",
    "\n",
    "def format_docs(retriever_docs):\n",
    "    context_text = \"\"\n",
    "    for doc in retriever_docs:\n",
    "        phone_name = doc.metadata.get(\"phone_name\", \"unknown\")\n",
    "        context_text += f\"Phone name (metadata): {phone_name}\\n\"\n",
    "        context_text += f\"{doc.page_content}\\n\\n\"\n",
    "    # print(context_text)\n",
    "    return context_text.strip()"
   ]
  },
  {
   "cell_type": "markdown",
   "id": "b721995b",
   "metadata": {},
   "source": [
    "## **Chain Building**"
   ]
  },
  {
   "cell_type": "code",
   "execution_count": 8,
   "id": "995f9314",
   "metadata": {},
   "outputs": [
    {
     "data": {
      "image/png": "[encoded data removed]",
      "text/plain": [
       "<IPython.core.display.Image object>"
      ]
     },
     "metadata": {},
     "output_type": "display_data"
    }
   ],
   "source": [
    "from langchain_core.output_parsers import StrOutputParser\n",
    "from langchain_core.runnables import RunnablePassthrough\n",
    "\n",
    "from IPython.display import display, Image, Markdown\n",
    "rag_chain = (\n",
    "    {\n",
    "        \"context\": retriever | format_docs,\n",
    "        \"question\": RunnablePassthrough()\n",
    "    }\n",
    "    | prompt\n",
    "    | llm\n",
    "    | StrOutputParser()\n",
    ")\n",
    "\n",
    "\n",
    "display(Image(rag_chain.get_graph().draw_mermaid_png()))"
   ]
  },
  {
   "cell_type": "markdown",
   "id": "802f58de",
   "metadata": {},
   "source": [
    "## QnA Testing"
   ]
  },
  {
   "cell_type": "code",
   "execution_count": 11,
   "id": "04bb627a",
   "metadata": {},
   "outputs": [
    {
     "name": "stdout",
     "output_type": "stream",
     "text": [
      "The screen size of the Galaxy S23 is 6.1 inches.\n"
     ]
    }
   ],
   "source": [
    "question = \"What is the screen size of the Galaxy S23?\"\n",
    "response = rag_chain.invoke(question)\n",
    "print(response)"
   ]
  },
  {
   "cell_type": "code",
   "execution_count": 13,
   "id": "e2440d60",
   "metadata": {},
   "outputs": [
    {
     "data": {
      "text/markdown": [
       "The camera specs of the Samsung Galaxy S23 Ultra are:\n",
       "\n",
       "* Main Camera: Quad camera with:\n",
       "\t+ 200 MP, f/1.7, 24mm (wide), 1/1.3\", 0.6µm, multi-directional PDAF, OIS\n",
       "\t+ 10 MP, f/2.4, 70mm (telephoto), 1/3.52\", 1.12µm, PDAF, OIS, 3x optical zoom\n",
       "\t+ 10 MP, f/4.9, 230mm (periscope telephoto), 1/3.52\", 1.12µm, PDAF, OIS, 10x optical zoom\n",
       "\t+ 12 MP, f/2.2, 13mm, 120˚ (ultrawide), 1/2.55\", 1.4µm, dual pixel PDAF, Super Steady video\n",
       "* Features: Laser AF, LED flash, auto-HDR, panorama\n",
       "* Video: 8K@24/30fps, 4K@30/60fps, 1080p@30/60/120/240fps, HDR10+, stereo sound rec., gyro-EIS\n",
       "\n",
       "* Selfie camera: \n",
       "\t+ 12 MP, f/2.2, 26mm (wide), 1/3.2\", 1.12µm, dual pixel PDAF\n",
       "\t+ Features: HDR, HDR10+\n",
       "\t+ Video: 4K@30/60fps, 1080p@30fps"
      ],
      "text/plain": [
       "<IPython.core.display.Markdown object>"
      ]
     },
     "execution_count": 13,
     "metadata": {},
     "output_type": "execute_result"
    }
   ],
   "source": [
    "question = \"What are the camera specs of the Samsung Galaxy S23 Ultra?\"\n",
    "response = rag_chain.invoke(question)\n",
    "Markdown(response)"
   ]
  },
  {
   "cell_type": "markdown",
   "id": "1502865e",
   "metadata": {},
   "source": [
    "# **Multi Agent Review Systems**"
   ]
  },
  {
   "cell_type": "markdown",
   "id": "ea6be370",
   "metadata": {},
   "source": [
    "### ***Connect With `MySQL` DB***"
   ]
  },
  {
   "cell_type": "code",
   "execution_count": 19,
   "id": "8ca4300a",
   "metadata": {},
   "outputs": [],
   "source": [
    "import mysql.connector\n",
    "conn = mysql.connector.connect(\n",
    "    host='localhost',\n",
    "    user='root',\n",
    "    password='',\n",
    "    database='user_transactions_db'\n",
    ")"
   ]
  },
  {
   "cell_type": "code",
   "execution_count": 20,
   "id": "e0b40d12",
   "metadata": {},
   "outputs": [],
   "source": [
    "from sqlalchemy import create_engine\n",
    "\n",
    "engine = create_engine('mysql+pymysql://root:@localhost/user_transactions_db')"
   ]
  },
  {
   "cell_type": "code",
   "execution_count": 21,
   "id": "486102ce",
   "metadata": {},
   "outputs": [
    {
     "data": {
      "text/plain": [
       "'id                                                     1\\ntransaction_id      9bd18208-4563-463a-b5af-5b918ee5ecd3\\naccount_number              IL15 0296 7021 4187 0864 259\\naccount_holder                          Lanette McVittie\\nemail                                 lmcvittie0@hud.gov\\nphone_number                                563-220-6899\\ntransaction_type                                  refund\\namount                                          24685.53\\ncurrency                                             EUR\\nstatus                                            failed\\ntimestamp                                     0000-00-00\\nbranch                                             Dhaka\\ncategory                                        shopping\\nbank_name                                    Brainlounge\\ncity                                           Matsumoto\\nip_address                                159.131.116.69\\ndevice_type                                       travel'"
      ]
     },
     "execution_count": 21,
     "metadata": {},
     "output_type": "execute_result"
    }
   ],
   "source": [
    "from sqlalchemy import text\n",
    "import pandas as pd\n",
    "\n",
    "# Your target account holder name\n",
    "account_holder = \"Lanette McVittie\"\n",
    "\n",
    "# Updated query (table: transactions, column: account_holder)\n",
    "query = text(\"SELECT * FROM transactions WHERE account_holder = :account_holder\")\n",
    "\n",
    "# Run the query using SQLAlchemy engine\n",
    "df = pd.read_sql(query, con=engine, params={\"account_holder\": account_holder})\n",
    "\n",
    "# Extract the first result as string context (optional)\n",
    "context_str = df.iloc[0].to_string()\n",
    "context_str\n"
   ]
  },
  {
   "cell_type": "markdown",
   "id": "df13f754",
   "metadata": {},
   "source": [
    "## **Phone Name extraction From User Query**"
   ]
  },
  {
   "cell_type": "code",
   "execution_count": 53,
   "id": "6fb171c1",
   "metadata": {},
   "outputs": [],
   "source": [
    "from pydantic import BaseModel, Field\n",
    "from typing import Annotated\n",
    "\n",
    "from pydantic import BaseModel, Field\n",
    "from typing import Annotated\n",
    "\n",
    "class SqlQuery(BaseModel):\n",
    "    \"\"\"This class is responsible for writing SQL queries for user_transactions_db.\"\"\"\n",
    "    sql_query: Annotated[str, Field(description=\"Based on the user question, convert into the SQL query.\")]\n"
   ]
  },
  {
   "cell_type": "code",
   "execution_count": 36,
   "id": "0360716e",
   "metadata": {},
   "outputs": [],
   "source": [
    "from langchain_core.output_parsers import PydanticOutputParser\n",
    "sql_query_parser = PydanticOutputParser(pydantic_object=SqlQuery)"
   ]
  },
  {
   "cell_type": "markdown",
   "id": "0be7b692",
   "metadata": {},
   "source": [
    "## **Phone Name extraction Prompt**"
   ]
  },
  {
   "cell_type": "code",
   "execution_count": 54,
   "id": "b642bba3",
   "metadata": {},
   "outputs": [],
   "source": [
    "from langchain_core.prompts import PromptTemplate\n",
    "\n",
    "sql_query_prompt = PromptTemplate(\n",
    "    template=\"\"\"\n",
    "You are a **Database Query Expert**. Your task is to write an optimized SQL query based on the user's natural language question.\n",
    "\n",
    "## Database Information:\n",
    "- Database name: `user_transactions_db`\n",
    "- Table name: `transactions`\n",
    "- Table schema:\n",
    "\n",
    "id INT,\n",
    "transaction_id VARCHAR(40),\n",
    "account_number VARCHAR(50),\n",
    "account_holder VARCHAR(50),\n",
    "email VARCHAR(50),\n",
    "phone_number VARCHAR(50),\n",
    "transaction_type VARCHAR(8),\n",
    "amount DECIMAL(8,2),\n",
    "currency VARCHAR(3),\n",
    "status VARCHAR(9),\n",
    "timestamp DATE,\n",
    "branch VARCHAR(10),\n",
    "category VARCHAR(9),\n",
    "bank_name VARCHAR(50),\n",
    "city VARCHAR(50),\n",
    "ip_address VARCHAR(20),\n",
    "device_type VARCHAR(9)\n",
    "\n",
    "\n",
    "## Sample one Row from the database:\n",
    "\n",
    "INSERT INTO transactions\n",
    "(id, transaction_id, account_number, account_holder, email, phone_number, transaction_type, amount, currency, status, timestamp, branch, category, bank_name, city, ip_address, device_type)\n",
    "VALUES\n",
    "(1, '9bd18208-4563-463a-b5af-5b918ee5ecd3', 'IL15 0296 7021 4187 0864 259', 'Lanette McVittie', 'lmcvittie0@hud.gov', '563-220-6899', 'refund', 24685.53, 'EUR', 'failed', '2025-03-03', 'Dhaka', 'shopping', 'Brainlounge', 'Matsumoto', '159.131.116.69', 'travel');\n",
    "\n",
    "\n",
    "## Instructions:\n",
    "- Carefully analyze the user query.\n",
    "- Determine the relevant columns and conditions.\n",
    "- Write an optimized and syntactically correct **SQL query** using the `transactions` table.\n",
    "- Do not use JOINs unless absolutely necessary.\n",
    "- Use `WHERE`, `LIKE`, `GROUP BY`, `ORDER BY`, `LIMIT`, etc., as needed.\n",
    "- Your SQL must be valid for **MySQL**.\n",
    "\n",
    "## Example SQL Queries:\n",
    "\n",
    "- Find all transactions made by a user named \"Lanette McVittie\":\n",
    "\n",
    "sql query example:\n",
    "\n",
    "SELECT * FROM transactions WHERE account_holder = 'Lanette McVittie';\n",
    "Get the top 5 highest transactions:\n",
    "\n",
    "SELECT * FROM transactions ORDER BY amount DESC LIMIT 5;\n",
    "\n",
    "Count of transactions by status:\n",
    "\n",
    "SELECT status, COUNT(*) AS total FROM transactions GROUP BY status;\n",
    "\n",
    "\n",
    "Now based on the following user query, generate the SQL query:\n",
    "\n",
    "User query:\n",
    "{question}\n",
    "\n",
    "Return your answer in this output format:\n",
    "{format_instruction}\n",
    "\"\"\",\n",
    "input_variables=[\"question\"],\n",
    "partial_variables={\n",
    "\"format_instruction\": sql_query_parser.get_format_instructions()\n",
    "}\n",
    ")"
   ]
  },
  {
   "cell_type": "code",
   "execution_count": 58,
   "id": "c8875749",
   "metadata": {},
   "outputs": [
    {
     "data": {
      "text/plain": [
       "\"SELECT * FROM transactions WHERE account_holder = 'Abie Brikner';\""
      ]
     },
     "execution_count": 58,
     "metadata": {},
     "output_type": "execute_result"
    }
   ],
   "source": [
    "sql_query_writer_chain = sql_query_prompt | llm | sql_query_parser\n",
    "\n",
    "## Test query\n",
    "response = sql_query_writer_chain.invoke(\"Find all transactions made by a user named Abie Brikner\")\n",
    "response.sql_query"
   ]
  },
  {
   "cell_type": "markdown",
   "id": "5ae0892f",
   "metadata": {},
   "source": [
    "## Build the Agent State"
   ]
  },
  {
   "cell_type": "code",
   "execution_count": 60,
   "id": "af736340",
   "metadata": {},
   "outputs": [],
   "source": [
    "from typing import TypedDict, Sequence\n",
    "from langchain_core.messages import BaseMessage\n",
    "from pydantic import Field\n",
    "import operator\n",
    "\n",
    "class State(TypedDict):\n",
    "    \"\"\"This is is my graph state where store all conversations.\"\"\"\n",
    "    messages: Annotated[Sequence[BaseMessage], operator.add]\n",
    "    transaction_data: Annotated[str, Field(description=\"This raw data extract form MySQL DB\")]"
   ]
  },
  {
   "cell_type": "markdown",
   "id": "156935e2",
   "metadata": {},
   "source": [
    "## **Data extraction Node**"
   ]
  },
  {
   "cell_type": "code",
   "execution_count": 61,
   "id": "185873b6",
   "metadata": {},
   "outputs": [],
   "source": [
    "def data_extraction(state: State):\n",
    "    print(\"--Data extraction--\")\n",
    "    \n",
    "    # Get the latest user message\n",
    "    question = state[\"messages\"][-1]\n",
    "    \n",
    "    # Generate SQL query from user input using the LLM chain\n",
    "    response = sql_query_writer_chain.invoke(question)\n",
    "    query = response.sql_query\n",
    "    print(f\"Generated SQL Query: {query}\")\n",
    "\n",
    "    try:\n",
    "        # Execute the generated SQL query\n",
    "        df = pd.read_sql(query, con=engine)\n",
    "\n",
    "        if df.empty:\n",
    "            context_str = \"No transaction data found for this query.\"\n",
    "        else:\n",
    "            # Convert first row to string as context\n",
    "            context_str = df.iloc[0].to_string()\n",
    "    except Exception as e:\n",
    "        context_str = f\"Error while querying the database: {str(e)}\"\n",
    "\n",
    "    print(\"---Data extraction done---\")\n",
    "    \n",
    "    return {\n",
    "        \"transaction_data\": context_str\n",
    "    }\n"
   ]
  },
  {
   "cell_type": "markdown",
   "id": "d8b6e745",
   "metadata": {},
   "source": [
    "## **Review Generate Prompt**"
   ]
  },
  {
   "cell_type": "code",
   "execution_count": 62,
   "id": "3f986d07",
   "metadata": {},
   "outputs": [],
   "source": [
    "from langchain_core.prompts import PromptTemplate\n",
    "\n",
    "review_prompt = PromptTemplate(\n",
    "    template=\"\"\"\n",
    "You are a professional data analyst answering user questions based strictly on provided transaction data.\n",
    "\n",
    "## Instructions:\n",
    "- Answer the user question using only the context.\n",
    "- Do not explain anything.\n",
    "- Do not include extra sentences.\n",
    "- Do not make up any information.\n",
    "- If the context is empty or does not contain the answer, respond with:\n",
    "**\"No data available for this query.\"**\n",
    "- Output in clean **Markdown** format.\n",
    "---\n",
    "\n",
    "User Question:  \n",
    "{question}\n",
    "\n",
    "Context:  \n",
    "{context}\n",
    "\"\"\",\n",
    "    input_variables=[\"question\", \"context\"]\n",
    ")\n"
   ]
  },
  {
   "cell_type": "code",
   "execution_count": 65,
   "id": "075b8015",
   "metadata": {},
   "outputs": [
    {
     "name": "stdout",
     "output_type": "stream",
     "text": [
      "meta-llama/llama-4-scout-17b-16e-instruct\n"
     ]
    },
    {
     "data": {
      "text/plain": [
       "AIMessage(content=\"It looks like you're testing something!\\n\\nThis conversation just started. What's on your mind? Want to chat or test something specific? I'm here to help!\", additional_kwargs={}, response_metadata={'token_usage': {'completion_tokens': 31, 'prompt_tokens': 12, 'total_tokens': 43, 'completion_time': 0.073222987, 'prompt_time': 0.002550888, 'queue_time': 3.979105063, 'total_time': 0.075773875}, 'model_name': 'meta-llama/llama-4-scout-17b-16e-instruct', 'system_fingerprint': 'fp_37da608fc1', 'finish_reason': 'stop', 'logprobs': None}, id='run--760e1190-59b1-4320-a5d7-bf7bd51f5bf5-0', usage_metadata={'input_tokens': 12, 'output_tokens': 31, 'total_tokens': 43})"
      ]
     },
     "execution_count": 65,
     "metadata": {},
     "output_type": "execute_result"
    }
   ],
   "source": [
    "load_dotenv()\n",
    "os.environ[\"GROQ_API_KEY\"] = os.getenv(\"GROQ_API_KEY\")\n",
    "print(os.getenv(\"LLAMA_MODEL\"))\n",
    "llm = ChatGroq(model=os.getenv(\"LLAMA_MODEL\"))\n",
    "\n",
    "llm.invoke(\"test line\")"
   ]
  },
  {
   "cell_type": "markdown",
   "id": "b4d5a852",
   "metadata": {},
   "source": [
    "## **Review Generate Node**"
   ]
  },
  {
   "cell_type": "code",
   "execution_count": 67,
   "id": "417c611b",
   "metadata": {},
   "outputs": [],
   "source": [
    "from langchain_core.output_parsers import StrOutputParser\n",
    "\n",
    "def answer_generate(state: State):\n",
    "    print(\"--Review generate--\")\n",
    "    question = state['messages'][-1]\n",
    "    phone_context = state[\"transaction_data\"]\n",
    "    print(question)\n",
    "    # print(phone_context)\n",
    "    \n",
    "    review_chain = review_prompt | llm | StrOutputParser()\n",
    "    # response = llm.invoke(question)\n",
    "    \n",
    "    response = review_chain.invoke(\n",
    "        {\n",
    "            \"question\": question,\n",
    "            \"context\": phone_context\n",
    "        }\n",
    "    )\n",
    "    \n",
    "    return {\n",
    "        \"messages\": [response]\n",
    "    }"
   ]
  },
  {
   "cell_type": "markdown",
   "id": "5fa52f66",
   "metadata": {},
   "source": [
    "## **Multi Agent Graph Workflow**"
   ]
  },
  {
   "cell_type": "code",
   "execution_count": 68,
   "id": "37d4100d",
   "metadata": {},
   "outputs": [
    {
     "data": {
      "image/png": "[encoded data removed]",
      "text/plain": [
       "<IPython.core.display.Image object>"
      ]
     },
     "metadata": {},
     "output_type": "display_data"
    }
   ],
   "source": [
    "from langgraph.graph import START, END, StateGraph\n",
    "from IPython.display import display, Image, Markdown\n",
    "\n",
    "builder = StateGraph(State)\n",
    "\n",
    "## define node\n",
    "builder.add_node(\"Data_Gether\", data_extraction)\n",
    "builder.add_node(\"Answer_Writer\", answer_generate)\n",
    "\n",
    "## Define edges\n",
    "builder.add_edge(START, \"Data_Gether\")\n",
    "builder.add_edge(\"Data_Gether\", \"Answer_Writer\")\n",
    "builder.add_edge(\"Answer_Writer\", END)\n",
    "\n",
    "app = builder.compile()\n",
    "\n",
    "display(Image(app.get_graph().draw_mermaid_png()))"
   ]
  },
  {
   "cell_type": "code",
   "execution_count": 69,
   "id": "05b4f164",
   "metadata": {},
   "outputs": [
    {
     "name": "stdout",
     "output_type": "stream",
     "text": [
      "--Data extraction--\n",
      "Generated SQL Query: SELECT * FROM user_transactions_db.transactions WHERE account_holder = 'Abie Brikner';\n",
      "---Data extraction done---\n",
      "--Review generate--\n",
      "Find all transactions made by a user named Abie Brikner\n"
     ]
    }
   ],
   "source": [
    "output = app.invoke(\n",
    "    {\n",
    "        \"messages\": [\"Find all transactions made by a user named Abie Brikner\"]\n",
    "    }\n",
    ")"
   ]
  },
  {
   "cell_type": "code",
   "execution_count": 70,
   "id": "927b607b",
   "metadata": {},
   "outputs": [
    {
     "data": {
      "text/markdown": [
       "### Transactions by Abie Brikner\n",
       "| transaction_id | account_number | account_holder | transaction_type | amount | currency | status | timestamp | branch | category | bank_name | city | ip_address | device_type |\n",
       "| --- | --- | --- | --- | --- | --- | --- | --- | --- | --- | --- | --- | --- | --- |\n",
       "| a53dcc94-c947-4401-a3ef-2ad8645b5ea3 | KZ32353J4JLE LB9M8SN0 | Abie Brikner | debit | 75355.44 | BDT | pending | 0000-00-00 | Chattogram | travel | Fanoodle | Banatska Topola | 92.46.109.119 | utility |"
      ],
      "text/plain": [
       "<IPython.core.display.Markdown object>"
      ]
     },
     "execution_count": 70,
     "metadata": {},
     "output_type": "execute_result"
    }
   ],
   "source": [
    "Markdown(output[\"messages\"][-1])"
   ]
  },
  {
   "cell_type": "code",
   "execution_count": 76,
   "id": "cf357d18",
   "metadata": {},
   "outputs": [
    {
     "name": "stdout",
     "output_type": "stream",
     "text": [
      "--Data extraction--\n",
      "Generated SQL Query: SELECT status FROM transactions WHERE transaction_id = 'a53dcc94-c947-4401-a3ef-2ad8645b5ea3';\n",
      "---Data extraction done---\n",
      "--Review generate--\n",
      "can you tell me the status of this transaction id : a53dcc94-c947-4401-a3ef-2ad8645b5ea3\n"
     ]
    }
   ],
   "source": [
    "output = app.invoke(\n",
    "    {\n",
    "        \"messages\": [\"can you tell me the status of this transaction id : a53dcc94-c947-4401-a3ef-2ad8645b5ea3\"]\n",
    "    }\n",
    ")"
   ]
  },
  {
   "cell_type": "code",
   "execution_count": 77,
   "id": "b436d8bc",
   "metadata": {},
   "outputs": [
    {
     "data": {
      "text/markdown": [
       "### Transaction Status\n",
       "* **Transaction ID:** a53dcc94-c947-4401-a3ef-2ad8645b5ea3\n",
       "* **Status:** pending"
      ],
      "text/plain": [
       "<IPython.core.display.Markdown object>"
      ]
     },
     "execution_count": 77,
     "metadata": {},
     "output_type": "execute_result"
    }
   ],
   "source": [
    "Markdown(output[\"messages\"][-1])"
   ]
  },
  {
   "cell_type": "code",
   "execution_count": 78,
   "id": "5b21a033",
   "metadata": {},
   "outputs": [
    {
     "name": "stdout",
     "output_type": "stream",
     "text": [
      "--Data extraction--\n",
      "Generated SQL Query: SELECT currency FROM user_transactions_db.transactions WHERE account_holder = 'Lanette McVittie' AND category = 'shopping';\n",
      "---Data extraction done---\n",
      "--Review generate--\n",
      "What is the currency used in the shopping transaction by Lanette McVittie?\n"
     ]
    },
    {
     "data": {
      "text/markdown": [
       "**EUR**"
      ],
      "text/plain": [
       "<IPython.core.display.Markdown object>"
      ]
     },
     "execution_count": 78,
     "metadata": {},
     "output_type": "execute_result"
    }
   ],
   "source": [
    "\n",
    "output = app.invoke(\n",
    "    {\n",
    "        \"messages\": [\"What is the currency used in the shopping transaction by Lanette McVittie?\"]\n",
    "    }\n",
    ")\n",
    "\n",
    "Markdown(output[\"messages\"][-1])"
   ]
  },
  {
   "cell_type": "markdown",
   "id": "ebac21c0",
   "metadata": {},
   "source": [
    "# ***Combine Two System Together***"
   ]
  },
  {
   "cell_type": "code",
   "execution_count": 74,
   "id": "0743d02e",
   "metadata": {},
   "outputs": [],
   "source": [
    "from pydantic import BaseModel, Field\n",
    "from typing import Annotated, Literal\n",
    "\n",
    "class SelectPath(BaseModel):\n",
    "    \"\"\"Decides the path for query handling: either through RAG (Vector DB) or direct DB (MySQL).\"\"\"\n",
    "    \n",
    "    path: Annotated[\n",
    "        Literal[\"RAG_CALL\", \"DB_CALL\"],\n",
    "        Field(\n",
    "            description=(\n",
    "                \"Select 'RAG_CALL' if Context_data is 'Vector DB'. \"\n",
    "                \"Select 'DB_CALL' if Context_data is 'MySQL DB'.\"\n",
    "            )\n",
    "        )\n",
    "    ]\n",
    "    \n",
    "    reason: Annotated[\n",
    "        str,\n",
    "        Field(\n",
    "            description=(\n",
    "                \"A short explanation for selecting this path based on the Context_data type.\"\n",
    "            )\n",
    "        )\n",
    "    ]\n",
    "\n",
    "# Output parser\n",
    "from langchain_core.output_parsers import PydanticOutputParser\n",
    "path_parser = PydanticOutputParser(pydantic_object=SelectPath)\n"
   ]
  },
  {
   "cell_type": "code",
   "execution_count": 75,
   "id": "dabe602d",
   "metadata": {},
   "outputs": [],
   "source": [
    "context_data = \"DB_CALL\""
   ]
  },
  {
   "cell_type": "code",
   "execution_count": null,
   "id": "3bd138e4",
   "metadata": {},
   "outputs": [],
   "source": [
    "from langchain_core.prompts import PromptTemplate\n",
    "\n",
    "path_prompt = PromptTemplate(\n",
    "    template=\"\"\"\n",
    "You are an intelligent query router in a LangGraph-based system.\n",
    "\n",
    "## Task:\n",
    "Based on the `Context_data` selected by the user, decide which processing path should be used.\n",
    "\n",
    "- If the user selected `Context_data: Vector DB`, then select `\"RAG_CALL\"`\n",
    "- If the user selected `Context_data: MySQL DB`, then select `\"DB_CALL\"`\n",
    "\n",
    "Do not analyze the question content. Your decision must be based only on the `Context_data`.\n",
    "\n",
    "## Input:\n",
    "- Context_data: {context_data}\n",
    "- User Question: {question}\n",
    "\n",
    "⚠️ Very Important:\n",
    "- Do NOT guess.\n",
    "- Follow the rule exactly.\n",
    "- Your response must strictly follow this output format:\n",
    "{format_instruction}\n",
    "\"\"\",\n",
    "    input_variables=[\"question\", \"context_data\"],\n",
    "    partial_variables={\n",
    "        \"format_instruction\": path_parser.get_format_instructions()\n",
    "    }\n",
    ")\n"
   ]
  },
  {
   "cell_type": "code",
   "execution_count": 78,
   "id": "0f1afd29",
   "metadata": {},
   "outputs": [
    {
     "data": {
      "text/plain": [
       "'REVIEW_CALL'"
      ]
     },
     "execution_count": 78,
     "metadata": {},
     "output_type": "execute_result"
    }
   ],
   "source": [
    "test_chain = path_prompt | llm | path_parser\n",
    "response = test_chain.invoke(\"Please write review to samsung galaxy s25 ultra phone\")\n",
    "response.path"
   ]
  },
  {
   "cell_type": "code",
   "execution_count": 79,
   "id": "2dd79b71",
   "metadata": {},
   "outputs": [
    {
     "data": {
      "text/plain": [
       "'The user is explicitly asking for a review of the Samsung Galaxy S25 Ultra phone.'"
      ]
     },
     "execution_count": 79,
     "metadata": {},
     "output_type": "execute_result"
    }
   ],
   "source": [
    "response.reason"
   ]
  },
  {
   "cell_type": "markdown",
   "id": "c6bf8ccc",
   "metadata": {},
   "source": [
    "## Graph State"
   ]
  },
  {
   "cell_type": "code",
   "execution_count": 80,
   "id": "f7f29fe8",
   "metadata": {},
   "outputs": [],
   "source": [
    "from typing import TypedDict, Sequence\n",
    "from langchain_core.messages import BaseMessage\n",
    "import operator\n",
    "\n",
    "class State(TypedDict):\n",
    "    \"\"\"This is is my graph state where store all conversations.\"\"\"\n",
    "    messages: Annotated[Sequence[BaseMessage], operator.add]\n",
    "    path: Annotated[str, Field(description=\"based one user question select which node will be execute.\")]\n",
    "    ph_raw_data: Annotated[str, Field(description=\"This raw data extract form MySQL DB\")]\n",
    "    "
   ]
  },
  {
   "cell_type": "markdown",
   "id": "32fe9274",
   "metadata": {},
   "source": [
    "## **Super visor**"
   ]
  },
  {
   "cell_type": "code",
   "execution_count": 81,
   "id": "4c8cd0df",
   "metadata": {},
   "outputs": [],
   "source": [
    "## Supervisor node\n",
    "def supervisor(state: State):\n",
    "    \"\"\"This node is responsible for to select the correct path based on the user query.\"\"\"\n",
    "    question = state['messages'][-1]\n",
    "    print(question)\n",
    "    chain = path_prompt | llm | path_parser\n",
    "    response = chain.invoke(question)\n",
    "    print(response.path, response.reason)\n",
    "    \n",
    "    return {\n",
    "        \"path\": response.path\n",
    "    }"
   ]
  },
  {
   "cell_type": "markdown",
   "id": "d4202e4a",
   "metadata": {},
   "source": [
    "## **Router**"
   ]
  },
  {
   "cell_type": "code",
   "execution_count": 82,
   "id": "e1f72002",
   "metadata": {},
   "outputs": [],
   "source": [
    "def router(state: State):\n",
    "    print(\"--Router--\")\n",
    "    next_path = state[\"path\"]\n",
    "    print(next_path)\n",
    "    \n",
    "    if next_path == \"RAG_CALL\":\n",
    "        return \"RAG_CALL\"\n",
    "    elif next_path == \"REVIEW_CALL\":\n",
    "        return \"REVIEW_CALL\"\n",
    "    else:\n",
    "        return \"LLM_CALL\""
   ]
  },
  {
   "cell_type": "markdown",
   "id": "b6a22a1b",
   "metadata": {},
   "source": [
    "## **LLM Call**"
   ]
  },
  {
   "cell_type": "code",
   "execution_count": 88,
   "id": "c913ce3e",
   "metadata": {},
   "outputs": [],
   "source": [
    "def llm_node(state: State):\n",
    "    print(\"--LLM Call--\")\n",
    "    question = state['messages'][0]\n",
    "    prompt = PromptTemplate(\n",
    "        template=\"\"\"\n",
    "        You are a helpful ai assistant as samsung Phon shop. You mostly know about phone related query and response as you can. Response to user very professional and politely. \\n\n",
    "        the user query is: {question}\n",
    "        \"\"\",\n",
    "        input_variables=[\"question\"]\n",
    "    )\n",
    "    chain = prompt | llm | StrOutputParser()\n",
    "    response = chain.invoke(\n",
    "        {\n",
    "            \"question\": question\n",
    "        }\n",
    "    )\n",
    "    print(response)\n",
    "    return {\n",
    "        \"messages\": [response]\n",
    "    }"
   ]
  },
  {
   "cell_type": "markdown",
   "id": "1f4841dc",
   "metadata": {},
   "source": [
    "## **RAG CALL**"
   ]
  },
  {
   "cell_type": "code",
   "execution_count": 84,
   "id": "b9cfc36c",
   "metadata": {},
   "outputs": [],
   "source": [
    "from langchain_core.prompts import PromptTemplate\n",
    "\n",
    "rag_prompt = PromptTemplate(\n",
    "    template=\"\"\"\n",
    "You are a helpful AI assistant and an expert at answering Samsung phone-related questions.\n",
    "Your job is to provide **clear and direct answers** using the correct document.\n",
    "\n",
    "do not mention this type of response:\n",
    "\n",
    "example:\n",
    "\n",
    "    The user is asking about the camera specs of the Samsung Galaxy S23 Ultra.\n",
    "\n",
    "    After checking the metadata of the retrieved documents, I found an exact match: `samsung_galaxy_s23_ultra`.\n",
    "Answer clear and direct way like normally answer the user question according the context.\n",
    "\n",
    "- You will receive two documents as context.\n",
    "- Only use the document where the metadata `phone_name` exactly matches the phone model in the user's question.\n",
    "- If no document matches, say: \"Sorry, I do not know the answer because the correct phone model was not found in the retrieved context.\"\n",
    "- Do not explain how you found the information. Just provide the final answer clearly and concisely.\n",
    "\n",
    "⚠ Example of phone name matching:  \n",
    "If the user question mentions **\"Samsung Galaxy S23 Ultra\"**  \n",
    "and a document metadata has **phone_name: samsung_galaxy_s23_ultra**  \n",
    "→ this is an exact match.\n",
    "\n",
    "---\n",
    "\n",
    "User question:  \n",
    "{question}\n",
    "\n",
    "---\n",
    "\n",
    "Retrieved documents:  \n",
    "{context}\n",
    "\"\"\",\n",
    "    input_variables=[\"question\", \"context\"]\n",
    ")"
   ]
  },
  {
   "cell_type": "code",
   "execution_count": 85,
   "id": "fc59cd50",
   "metadata": {},
   "outputs": [],
   "source": [
    "def rag_node(state: State):\n",
    "    print(\"--Rag call--\")\n",
    "    question = state['messages'][0]\n",
    "    print(question)\n",
    "    \n",
    "    \n",
    "    print(\"im hare-1\")\n",
    "    rag_chain = (\n",
    "        {\n",
    "            \"context\": retriever | format_docs,\n",
    "            \"question\": RunnablePassthrough()\n",
    "        }\n",
    "        | rag_prompt\n",
    "        | llm\n",
    "        | StrOutputParser()\n",
    "    )\n",
    "    print(\"im hare-2\")\n",
    "    response = rag_chain.invoke(question)\n",
    "    print(\"rag-response\", response)\n",
    "    \n",
    "    return {\n",
    "        \"messages\": [response]\n",
    "    }"
   ]
  },
  {
   "cell_type": "markdown",
   "id": "584ebc60",
   "metadata": {},
   "source": [
    "## **Build The Graph**"
   ]
  },
  {
   "cell_type": "code",
   "execution_count": 89,
   "id": "efbc9bfe",
   "metadata": {},
   "outputs": [
    {
     "data": {
      "image/png": "[encoded data removed]",
      "text/plain": [
       "<IPython.core.display.Image object>"
      ]
     },
     "metadata": {},
     "output_type": "display_data"
    }
   ],
   "source": [
    "from langgraph.graph import START, StateGraph\n",
    "from IPython.display import display, Image\n",
    "\n",
    "builder = StateGraph(State)\n",
    "builder.add_node(\"Supervisor\", supervisor)\n",
    "builder.add_node(\"RAG\", rag_node)\n",
    "builder.add_node(\"LLM\", llm_node)\n",
    "builder.add_node(\"Data_Gether\", data_extraction)\n",
    "builder.add_node(\"Review_Writer\", review_generate)\n",
    "\n",
    "## define the edges\n",
    "builder.add_edge(START, \"Supervisor\")\n",
    "builder.add_conditional_edges(\n",
    "    \"Supervisor\",\n",
    "    router,\n",
    "    {\n",
    "        \"RAG_CALL\": \"RAG\",\n",
    "        \"REVIEW_CALL\": \"Data_Gether\",\n",
    "        \"LLM_CALL\": \"LLM\"\n",
    "    }\n",
    ")\n",
    "builder.add_edge(\"Data_Gether\", \"Review_Writer\")\n",
    "builder.add_edge(\"Review_Writer\", END)\n",
    "builder.add_edge(\"LLM\", END)\n",
    "builder.add_edge(\"RAG\", END)\n",
    "\n",
    "graph = builder.compile()\n",
    "\n",
    "display(Image(graph.get_graph().draw_mermaid_png()))\n"
   ]
  },
  {
   "cell_type": "code",
   "execution_count": 59,
   "id": "e2b936e7",
   "metadata": {},
   "outputs": [
    {
     "name": "stdout",
     "output_type": "stream",
     "text": [
      "Please write review to samsung galaxy s25 ultra phone\n",
      "REVIEW_CALL The user is asking to write a review of the Samsung Galaxy S25 Ultra phone, indicating they want an opinion or review of the phone.\n",
      "--Router--\n",
      "REVIEW_CALL\n",
      "--Data extraction--\n",
      "---Data extraction done---\n",
      "--Review generate--\n",
      "Please write review to samsung galaxy s25 ultra phone\n"
     ]
    }
   ],
   "source": [
    "response = graph.invoke(\n",
    "    {\n",
    "        \"messages\": [\"Please write review to samsung galaxy s25 ultra phone\"]\n",
    "    }\n",
    ")"
   ]
  },
  {
   "cell_type": "code",
   "execution_count": 60,
   "id": "f4b27dd9",
   "metadata": {},
   "outputs": [
    {
     "data": {
      "text/markdown": [
       "# Samsung Galaxy S25 Ultra Review: A Powerhouse of Innovation\n",
       "The Samsung Galaxy S25 Ultra is the latest flagship device from the tech giant, boasting an impressive array of features, top-notch specs, and a sleek design. As the world's best phone reviewer, I'm excited to dive into the details of this powerhouse and see if it lives up to the hype.\n",
       "\n",
       "## Design and Display\n",
       "\n",
       "The Galaxy S25 Ultra exudes premium quality with its glass front and back, complemented by a titanium frame that adds a touch of sophistication. The device measures 162.8 x 77.6 x 8.2 mm and weighs 218g, making it comfortable to hold and use. The Dynamic LTPO AMOLED 2X display is a stunner, offering a massive 6.9-inch screen with a 1440 x 3120 pixel resolution and a 19.5:9 aspect ratio. With a pixel density of ~498 ppi, the visuals are crisp and vibrant. The screen also supports a 120Hz refresh rate and 480Hz PWM, ensuring a smooth and responsive user experience.\n",
       "\n",
       "## Performance\n",
       "\n",
       "Under the hood, the Galaxy S25 Ultra is powered by the Qualcomm SM8750-AB Snapdragon 8 Elite chipset, built on a 3nm process. This powerful processor is paired with an octa-core CPU, featuring two 4.47 GHz Oryon V2 Phoenix L cores and six 3.0 GHz cores, along with the Adreno 830 GPU. This potent combination delivers lightning-fast performance, making it perfect for demanding tasks, gaming, and multitasking. The device comes in various storage and RAM configurations: 256GB with 12GB RAM, 512GB with 12GB RAM, 1TB with 12GB RAM, and no option for expandable storage.\n",
       "\n",
       "## Cameras\n",
       "\n",
       "The camera system on the Galaxy S25 Ultra is nothing short of impressive. The main camera features a high-resolution sensor with Laser AF, Best Face, LED flash, auto-HDR, and panorama capabilities. It can record 8K video at 24/30fps and 4K at 30/60/120fps, making it a videographer's dream. The selfie camera is a 12 MP, f/2.2 sensor with a 26mm wide lens, capable of recording 4K video at 30/60fps.\n",
       "\n",
       "## Battery and Charging\n",
       "\n",
       "The device is fueled by a 5000mAh Li-Ion battery, which supports 45W wired charging (PD3.0), allowing for 65% charge in just 30 minutes. It also offers 15W wireless charging and reverse wireless charging. This battery life and fast charging capability make the Galaxy S25 Ultra a reliable companion for a full day's use.\n",
       "\n",
       "## Connectivity and Features\n",
       "\n",
       "The Galaxy S25 Ultra supports a wide range of network technologies, including GSM, CDMA, HSPA, EVDO, LTE, and 5G. With its versatile connectivity options, including Wi-Fi 802.11 a/b/g/n/ac/6e/7, Bluetooth 5.4, NFC, and USB Type-C 3.2, staying connected has never been easier. The device also features an under-display ultrasonic fingerprint sensor, accelerometer, gyro, proximity sensor, and compass.\n",
       "\n",
       "## Software\n",
       "\n",
       "Running on Android 15, the Galaxy S25 Ultra promises up to 7 major Android upgrades, ensuring it stays current and secure for years to come.\n",
       "\n",
       "## Conclusion\n",
       "\n",
       "The Samsung Galaxy S25 Ultra is a powerhouse of a smartphone, offering top-of-the-line specs, a stunning display, and impressive performance. Its camera capabilities, battery life, and fast charging support make it a well-rounded device suitable for a wide range of users. While the lack of a 3.5mm jack and microSD card slot might be drawbacks for some, the device's many strengths far outweigh these omissions.\n",
       "\n",
       "If you're in the market for a flagship device that checks all the boxes and then some, the Samsung Galaxy S25 Ultra is an excellent choice.\n",
       "\n",
       "**Rating:** 4.8/5\n",
       "\n",
       "**Recommendation:** For anyone looking for a premium Android experience with cutting-edge features and performance, the Galaxy S25 Ultra is highly recommended."
      ],
      "text/plain": [
       "<IPython.core.display.Markdown object>"
      ]
     },
     "execution_count": 60,
     "metadata": {},
     "output_type": "execute_result"
    }
   ],
   "source": [
    "\n",
    "Markdown(response[\"messages\"][-1])"
   ]
  },
  {
   "cell_type": "code",
   "execution_count": 61,
   "id": "e549e35c",
   "metadata": {},
   "outputs": [
    {
     "name": "stdout",
     "output_type": "stream",
     "text": [
      "what is the camera of samsung galaxy s25 ultra phone\n",
      "RAG_CALL The user is asking for specific information about the camera of the Samsung Galaxy S25 Ultra phone, which indicates they are looking for phone specs/details.\n",
      "--Router--\n",
      "RAG_CALL\n",
      "--Rag call--\n",
      "what is the camera of samsung galaxy s25 ultra phone\n",
      "im hare-1\n",
      "im hare-2\n",
      "rag-response The Samsung Galaxy S25 Ultra has a quad-camera setup with:\n",
      "\n",
      "* 200 MP, f/1.7, 24mm (wide), 1/1.3\", 0.6µm, multi-directional PDAF, OIS\n",
      "* 10 MP, f/2.4, 67mm (telephoto), 1/3.52\", 1.12µm, PDAF, OIS, 3x optical zoom\n",
      "* 50 MP, f/3.4, 111mm (periscope telephoto), 1/2.52\", 0.7µm, PDAF, OIS, 5x optical zoom\n",
      "* 50 MP, f/1.9, 120˚ (ultrawide), 1/2.5\", 0.7µm, dual pixel PDAF, Super Steady video\n",
      "\n",
      "It can record videos up to 8K@24/30fps, 4K@30/60/120fps, and 1080p@30/60/120/240fps. The front camera is 12 MP, f/2.2, 26mm (wide), 1/3.2\", 1.12µm, dual pixel PDAF.\n"
     ]
    },
    {
     "data": {
      "text/markdown": [
       "The Samsung Galaxy S25 Ultra has a quad-camera setup with:\n",
       "\n",
       "* 200 MP, f/1.7, 24mm (wide), 1/1.3\", 0.6µm, multi-directional PDAF, OIS\n",
       "* 10 MP, f/2.4, 67mm (telephoto), 1/3.52\", 1.12µm, PDAF, OIS, 3x optical zoom\n",
       "* 50 MP, f/3.4, 111mm (periscope telephoto), 1/2.52\", 0.7µm, PDAF, OIS, 5x optical zoom\n",
       "* 50 MP, f/1.9, 120˚ (ultrawide), 1/2.5\", 0.7µm, dual pixel PDAF, Super Steady video\n",
       "\n",
       "It can record videos up to 8K@24/30fps, 4K@30/60/120fps, and 1080p@30/60/120/240fps. The front camera is 12 MP, f/2.2, 26mm (wide), 1/3.2\", 1.12µm, dual pixel PDAF."
      ],
      "text/plain": [
       "<IPython.core.display.Markdown object>"
      ]
     },
     "execution_count": 61,
     "metadata": {},
     "output_type": "execute_result"
    }
   ],
   "source": [
    "response = graph.invoke(\n",
    "    {\n",
    "        \"messages\": [\"what is the camera of samsung galaxy s25 ultra phone\"]\n",
    "    }\n",
    ")\n",
    "\n",
    "Markdown(response[\"messages\"][-1])"
   ]
  },
  {
   "cell_type": "code",
   "execution_count": 90,
   "id": "2722d7b9",
   "metadata": {},
   "outputs": [
    {
     "name": "stdout",
     "output_type": "stream",
     "text": [
      "Hi, i'm alamin, how are you?\n",
      "LLM_CALL The user is asking a normal greeting question that is not related to phone specs or review.\n",
      "--Router--\n",
      "LLM_CALL\n",
      "--LLM Call--\n",
      "Hello Alamin, it's a pleasure to assist you! I'm doing great, thank you for asking. Welcome to Samsung Phone Shop! How can I help you today? Do you have any questions about our Samsung phones or perhaps you're looking for assistance with a specific model? I'm here to help!\n"
     ]
    },
    {
     "data": {
      "text/markdown": [
       "Hello Alamin, it's a pleasure to assist you! I'm doing great, thank you for asking. Welcome to Samsung Phone Shop! How can I help you today? Do you have any questions about our Samsung phones or perhaps you're looking for assistance with a specific model? I'm here to help!"
      ],
      "text/plain": [
       "<IPython.core.display.Markdown object>"
      ]
     },
     "execution_count": 90,
     "metadata": {},
     "output_type": "execute_result"
    }
   ],
   "source": [
    "response = graph.invoke(\n",
    "    {\n",
    "        \"messages\": [\"Hi, i'm alamin, how are you?\"]\n",
    "    }\n",
    ")\n",
    "\n",
    "Markdown(response[\"messages\"][-1])"
   ]
  },
  {
   "cell_type": "code",
   "execution_count": null,
   "id": "3d5d2101",
   "metadata": {},
   "outputs": [],
   "source": []
  }
 ],
 "metadata": {
  "kernelspec": {
   "display_name": "Python 3",
   "language": "python",
   "name": "python3"
  },
  "language_info": {
   "codemirror_mode": {
    "name": "ipython",
    "version": 3
   },
   "file_extension": ".py",
   "mimetype": "text/x-python",
   "name": "python",
   "nbconvert_exporter": "python",
   "pygments_lexer": "ipython3",
   "version": "3.12.0"
  }
 },
 "nbformat": 4,
 "nbformat_minor": 5
}
