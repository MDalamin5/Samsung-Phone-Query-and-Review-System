{
 "cells": [
  {
   "cell_type": "markdown",
   "id": "ce4b0a97",
   "metadata": {},
   "source": [
    "## **Multi agent implement using `LangGraph` on `airflow_etltest` Database**"
   ]
  },
  {
   "cell_type": "code",
   "execution_count": 1,
   "id": "455c0c43",
   "metadata": {},
   "outputs": [],
   "source": [
    "import warnings\n",
    "warnings.filterwarnings(\"ignore\")"
   ]
  },
  {
   "cell_type": "code",
   "execution_count": 2,
   "id": "e33ff4b9",
   "metadata": {},
   "outputs": [],
   "source": [
    "from langchain_groq import ChatGroq\n",
    "import os\n",
    "from dotenv import load_dotenv\n",
    "load_dotenv()\n",
    "\n",
    "os.environ[\"HF_TOKEN\"] = os.getenv(\"HF_TOKEN\")\n",
    "os.environ[\"GROQ_API_KEY\"] = os.getenv(\"GROQ_API_KEY\")\n",
    "\n",
    "from langchain_huggingface import HuggingFaceEmbeddings"
   ]
  },
  {
   "cell_type": "markdown",
   "id": "0cd3fde6",
   "metadata": {},
   "source": [
    "## **Importing `Embedding` and `ChatGroq llm`**"
   ]
  },
  {
   "cell_type": "code",
   "execution_count": 14,
   "id": "0be5a0a7",
   "metadata": {},
   "outputs": [
    {
     "data": {
      "text/plain": [
       "AIMessage(content='<think>\\nOkay, the user sent \"test line\". I need to respond appropriately. Since it\\'s a test, maybe they just want to see how I react. I should acknowledge their test message and offer help. Let me check if there\\'s any specific context, but there\\'s none. So a simple, friendly response should work. Maybe something like, \"Hello! It looks like you\\'re testing. How can I assist you today?\" That\\'s open-ended and invites them to ask a real question if they have one.\\n</think>\\n\\nHello! It looks like you\\'re testing. How can I assist you today? Feel free to ask any questions or let me know if you need help with anything specific! 😊', additional_kwargs={}, response_metadata={'token_usage': {'completion_tokens': 144, 'prompt_tokens': 10, 'total_tokens': 154, 'completion_time': 0.276949577, 'prompt_time': 0.000204698, 'queue_time': 0.048727252, 'total_time': 0.277154275}, 'model_name': 'qwen/qwen3-32b', 'system_fingerprint': 'fp_f17c2eb555', 'finish_reason': 'stop', 'logprobs': None}, id='run--9a65261e-7a85-4f69-9b72-0eac7637f4fc-0', usage_metadata={'input_tokens': 10, 'output_tokens': 144, 'total_tokens': 154})"
      ]
     },
     "execution_count": 14,
     "metadata": {},
     "output_type": "execute_result"
    }
   ],
   "source": [
    "# embeddings = HuggingFaceEmbeddings(model_name=\"sentence-transformers/all-mpnet-base-v2\")\n",
    "\n",
    "llm = ChatGroq(model=os.getenv(\"QWEN_MODEL\"))\n",
    "\n",
    "## Test llm\n",
    "llm.invoke(\"test line\")"
   ]
  },
  {
   "cell_type": "markdown",
   "id": "734d4dd4",
   "metadata": {},
   "source": [
    "# **Multi Agent Workflow Start**\n",
    "\n",
    "### **Connect To database using `pands read_sql`**"
   ]
  },
  {
   "cell_type": "code",
   "execution_count": 4,
   "id": "d9f0f1a3",
   "metadata": {},
   "outputs": [],
   "source": [
    "import mysql.connector\n",
    "conn = mysql.connector.connect(\n",
    "    host='localhost',\n",
    "    user='root',\n",
    "    password='',\n",
    "    database='airflow_etltest'\n",
    ")"
   ]
  },
  {
   "cell_type": "markdown",
   "id": "1ad77a0c",
   "metadata": {},
   "source": [
    "## **Create sql engine**"
   ]
  },
  {
   "cell_type": "code",
   "execution_count": 5,
   "id": "3254408c",
   "metadata": {},
   "outputs": [],
   "source": [
    "from sqlalchemy import create_engine\n",
    "\n",
    "engine = create_engine('mysql+pymysql://root:@localhost/airflow_etltest')"
   ]
  },
  {
   "cell_type": "markdown",
   "id": "78ded026",
   "metadata": {},
   "source": [
    "## **Testing Query Run On the Database**"
   ]
  },
  {
   "cell_type": "code",
   "execution_count": 6,
   "id": "0c31a8cc",
   "metadata": {},
   "outputs": [
    {
     "data": {
      "text/plain": [
       "'employee_id                        1\\nfirst_name                      John\\nlast_name                        Doe\\nemail           john.doe@example.com\\nphone_number            123-456-7890\\nhire_date                 2023-01-15\\njob_title          Software Engineer\\nsalary                       75000.0'"
      ]
     },
     "execution_count": 6,
     "metadata": {},
     "output_type": "execute_result"
    }
   ],
   "source": [
    "from sqlalchemy import text\n",
    "import pandas as pd\n",
    "\n",
    "# Your target account holder name\n",
    "first_name = \"John\"\n",
    "\n",
    "# Updated query (table: Employee, column: first_name)\n",
    "query = text(\"SELECT * FROM employee WHERE first_name = :first_name\")\n",
    "\n",
    "# Run the query using SQLAlchemy engine\n",
    "df = pd.read_sql(query, con=engine, params={\"first_name\": first_name})\n",
    "\n",
    "# Extract the first result as string context (optional)\n",
    "context_str = df.iloc[0].to_string()\n",
    "context_str\n"
   ]
  },
  {
   "cell_type": "markdown",
   "id": "47923901",
   "metadata": {},
   "source": [
    "## **SQL Query Generation based on user Question**"
   ]
  },
  {
   "cell_type": "code",
   "execution_count": 7,
   "id": "a8c96acf",
   "metadata": {},
   "outputs": [],
   "source": [
    "from pydantic import BaseModel, Field\n",
    "from typing import Optional\n",
    "\n",
    "class QueryAnalysis(BaseModel):\n",
    "    \"\"\"\n",
    "    Analyzes the user's question to determine if a SQL query can be generated\n",
    "    and provides the query if possible.\n",
    "    \"\"\"\n",
    "    query_is_possible: bool = Field(\n",
    "        ..., # ... means this field is required\n",
    "        description=\"Set to true if the question can be answered with a SQL query based on the schema, false otherwise.\"\n",
    "    )\n",
    "    sql_query: Optional[str] = Field(\n",
    "        default=None,\n",
    "        description=\"The generated MySQL query. This MUST be null or empty if query_is_possible is false.\"\n",
    "    )\n",
    "    reason: str = Field(\n",
    "        ...,\n",
    "        description=\"A brief, user-facing explanation of why the query is or is not possible. E.g., 'The user is engaging in a general greeting.' or 'The query is possible and targets customer outstanding balances.'\"\n",
    "    )\n",
    "\n",
    "# And update the parser\n"
   ]
  },
  {
   "cell_type": "code",
   "execution_count": 8,
   "id": "1e2d8eb9",
   "metadata": {},
   "outputs": [],
   "source": [
    "from langchain_core.output_parsers import PydanticOutputParser\n",
    "query_analysis_parser = PydanticOutputParser(pydantic_object=QueryAnalysis)"
   ]
  },
  {
   "cell_type": "markdown",
   "id": "ec0290a2",
   "metadata": {},
   "source": [
    "### **Query Generation Prompt**"
   ]
  },
  {
   "cell_type": "code",
   "execution_count": 9,
   "id": "302a4fee",
   "metadata": {},
   "outputs": [],
   "source": [
    "from langchain_core.prompts import PromptTemplate\n",
    "\n",
    "sql_query_prompt = PromptTemplate(\n",
    "    template=\"\"\"\n",
    "You are an expert MySQL developer and a helpful assistant. Your primary task is to first analyze a user's question to determine if it can be answered using the provided database schema. Then, if and only if it's possible, you must convert the question into an accurate and efficient MySQL query.\n",
    "\n",
    "---\n",
    "### DATABASE SCHEMA AND TABLE GUIDE\n",
    "[... The entire \"DATABASE SCHEMA\" and \"QUERYING INSTRUCTIONS\" sections from the previous prompt remain exactly the same here ...]\n",
    "---\n",
    "### ANALYSIS AND RESPONSE INSTRUCTIONS\n",
    "\n",
    "You must first analyze the user's question and then respond in the required JSON format.\n",
    "\n",
    "1.  **Analyze Intent:** Read the user's question. Is it a request for data that exists in the database schema (customers, vendors, invoices, payments, etc.)? Or is it a general greeting, a nonsensical question, or a request for information outside the database's scope?\n",
    "\n",
    "2.  **Set `query_is_possible` flag:**\n",
    "    - Set to `true` if the question is a valid request for data.\n",
    "    - Set to `false` if it's a greeting, unrelated, or cannot be answered from the schema.\n",
    "\n",
    "3.  **Generate `sql_query`:**\n",
    "    - If `query_is_possible` is `true`, generate the correct MySQL query.\n",
    "    - If `query_is_possible` is `false`, the `sql_query` field MUST be `null`.\n",
    "\n",
    "4.  **Provide a `reason`:**\n",
    "    - Briefly explain your decision. This helps in understanding the context.\n",
    "\n",
    "---\n",
    "### EXAMPLES\n",
    "\n",
    "**Example 1: Valid Question**\n",
    "- **User question:** \"Show me the aging details for all customers located in Colombo\"\n",
    "- **Your JSON output:**\n",
    "  ```json\n",
    "  {{\n",
    "    \"query_is_possible\": true,\n",
    "    \"sql_query\": \"SELECT * FROM CustomerSiteListingUpdated c JOIN Modified_Debtors_Statement d ON c.site_number = d.account_number WHERE c.city = 'Colombo';\",\n",
    "    \"reason\": \"The user is asking for customer aging data for a specific city, which can be found by joining the customer and debtor tables.\"\n",
    "  }}\n",
    "  \n",
    "Example 2: Invalid Question\n",
    "User question: \"Hey, what's up?\"\n",
    "Your JSON output:\n",
    "  \n",
    "  {{\n",
    "  \"query_is_possible\": false,\n",
    "  \"sql_query\": null,\n",
    "  \"reason\": \"The user is engaging in a general greeting, not asking a question about the database.\"\n",
    "  }}\n",
    "Example 3: Unanswerable Question\n",
    "User question: \"Who is the CEO of United Parcel Service?\"\n",
    "Your JSON output:\n",
    "  {{\n",
    "  \"query_is_possible\": false,\n",
    "  \"sql_query\": null,\n",
    "  \"reason\": \"The database contains invoice and vendor information for 'United Parcel Service' but does not include details about their corporate structure like CEO names.\"\n",
    "  }}\n",
    "  \n",
    "Now, based on all the information above, analyze the following user question and provide your response in the specified JSON format.\n",
    "User question:\n",
    "{question}\n",
    "{format_instruction}\n",
    "\"\"\",\n",
    "input_variables=[\"question\"],\n",
    "partial_variables={\n",
    "\"format_instruction\": query_analysis_parser.get_format_instructions()\n",
    "}\n",
    ")"
   ]
  },
  {
   "cell_type": "code",
   "execution_count": 10,
   "id": "4a0681f8",
   "metadata": {},
   "outputs": [],
   "source": [
    "from pydantic import BaseModel, Field\n",
    "from typing import Annotated\n",
    "\n",
    "from pydantic import BaseModel, Field\n",
    "from typing import Annotated\n",
    "\n",
    "class SqlQuery(BaseModel):\n",
    "    \"\"\"This class is responsible for writing SQL queries for airflow_etltest Database.\"\"\"\n",
    "    sql_query: Annotated[str, Field(description=\"Based on the user question, convert into the SQL query.\")]"
   ]
  },
  {
   "cell_type": "code",
   "execution_count": 11,
   "id": "df8e8503",
   "metadata": {},
   "outputs": [],
   "source": [
    "from langchain_core.output_parsers import PydanticOutputParser\n",
    "sql_query_parser = PydanticOutputParser(pydantic_object=SqlQuery)"
   ]
  },
  {
   "cell_type": "code",
   "execution_count": 12,
   "id": "03b919dc",
   "metadata": {},
   "outputs": [],
   "source": [
    "from langchain_core.prompts import PromptTemplate\n",
    "sql_query_prompt = PromptTemplate(\n",
    "    template=\"\"\"\n",
    "You are an expert MySQL developer specializing in financial and business data analysis. Your primary task is to convert a user's natural language question into an accurate and efficient MySQL query based on the database schema provided below.\n",
    "\n",
    "The database contains information about customers, suppliers, invoices, payments, and debit memos. It is a relational database, and you **must** use JOINs to connect tables to answer questions comprehensively.\n",
    "\n",
    "---\n",
    "### DATABASE SCHEMA AND TABLE GUIDE\n",
    "\n",
    "\n",
    "**1. Customer & Site Information**\n",
    "   - **Primary Table:** `customersitelistingupdated`\n",
    "   - **Purpose:** Contains the master list of customers and their site details. PREFER this table over `customersitelisting`.\n",
    "   - **Key Columns:** `maincustomer_name`, `site_number`, `customer_type`, `city`, `address1`.\n",
    "   - **Note:** This table contains standardized columns like `maincustomer_name_lower`. Use these for case-insensitive matching.\n",
    "\n",
    "**2. Debtor / Accounts Receivable (AR) Information**\n",
    "   - **Primary Table:** `Modified_Debtors_Statement`\n",
    "   - **Purpose:** Provides a customer aging report, showing outstanding amounts in different time buckets. PREFER this over `debtors_statement_aging_query`.\n",
    "   - **Key Columns:** `account_number`, `account_name`, `outstanding_amount`, `d0_30`, `d31_45`, `d46_60`, etc.\n",
    "   - **Other Relevant Tables:** `debitmemolisting` (for debit memos), `debtorsstatementreportQ4` (for credit notes).\n",
    "\n",
    "**3. Supplier & Invoice Information**\n",
    "   - **Primary Table:** `supplierdetails`\n",
    "   - **Purpose:** Contains detailed information about supplier invoices. It has many useful standardized columns.\n",
    "   - **Key Columns:** `vendor_name`, `invoice_id`, `invoice_num`, `invoice_date`, `invoice_amount`, `amount_paid`, `balance_remaining`.\n",
    "   - **Other Relevant Tables:** `supplierinvoicepaymentdetails` is also a key table for invoice data.\n",
    "\n",
    "**4. Supplier Payment Information**\n",
    "   - **Primary Table:** `supplierspaymenthistoryupdated`\n",
    "   - **Purpose:** Details about payments made against supplier invoices. PREFER this over other `supplierpaymenthistory` tables.\n",
    "   - **Key Columns:** `c_invoice_number`, `c_payment_amount`, `c_invoice_date`.\n",
    "\n",
    "---\n",
    "### QUERYING INSTRUCTIONS AND BEST PRACTICES\n",
    "\n",
    "1.  **JOINs are Essential:** You MUST use JOINs to link data across tables. Here are the most common join keys:\n",
    "    - **Customer to Debtor:** `customersitelistingupdated.site_number` = `modified_debtors_statement.account_number`\n",
    "    - **Supplier Invoices to Payments:** `supplierdetails.invoice_num` = `supplierspaymenthistoryupdated.c_invoice_number`\n",
    "    - You can also join on name fields like `maincustomer_name` and `account_name` if needed, but IDs are preferred.\n",
    "\n",
    "2.  **Table Preference:** When multiple similar tables exist, **always prefer the 'Updated' or 'Modified' version** (e.g., use `customersitelistingupdated`, not `customersitelisting`).\n",
    "\n",
    "3.  **Column Selection:** To provide maximum context for the final answer, **always use `SELECT *`**. The downstream application will handle the formatting of the results. Do not try to select specific columns unless the user explicitly asks for a count or a sum of a single column.\n",
    "\n",
    "4.  **String/Name Matching:** For queries involving customer or supplier names, perform a case-insensitive search. Use the lowercase standardized columns (e.g., `maincustomer_name_lower`, `vendor_name_lower`) and the `LIKE` operator. Convert the name from the user's query to lowercase. For example: `WHERE maincustomer_name_lower LIKE '%acme corp%'`.\n",
    "\n",
    "5.  **Dates:** When a user asks for a specific date or date range, use the relevant date columns (`trx_date`, `invoice_date`, etc.). Assume dates are in 'YYYY-MM-DD' format.\n",
    "\n",
    "6.  **Analyze the Question:** Carefully read the user's question to determine the core intent.\n",
    "    - If it's about a \"customer\" and \"outstanding balance\", you'll need to join `customersitelistingupdated` and `modified_debtors_statement`.\n",
    "    - If it's about a \"supplier\" and \"payments\", you'll need to join `supplierdetails` and `SuppliersPaymentHistoryUpdated`.\n",
    "    - If it's just about \"invoice details\", `supplierdetails` alone might be sufficient.\n",
    "\n",
    "---\n",
    "### EXAMPLES\n",
    "\n",
    "- **User question:** \"Find all sites for customer 'Global Trade Inc'\" \n",
    "    \n",
    "\n",
    "- **User Query:** \"Find all sites for customer 'Global Trade Inc'\"\n",
    "- **SQL Query:** `SELECT * FROM customersitelistingupdated WHERE maincustomer_name_lower LIKE '%global trade inc%';`\n",
    "\n",
    "\n",
    "\n",
    "- **User Query:** \"What is the total outstanding amount for customer account number 112233?\"\n",
    "- **SQL Query:** `SELECT * FROM modified_debtors_statement WHERE account_number = '112233';`\n",
    "\n",
    "- **User Query:** \"Show me the aging details for all customers located in Colombo\"\n",
    "- **SQL Query:** `SELECT * FROM customersitelistingupdated c JOIN modified_debtors_statement d ON c.site_number = d.account_number WHERE c.city = 'Colombo';`\n",
    "\n",
    "- **User Query:** \"List all invoices and their payment status for the supplier 'Innovate Supplies'\"\n",
    "- **SQL Query:** `SELECT * FROM supplierdetails s LEFT JOIN supplierspaymenthistoryupdated p ON s.invoice_num = p.c_invoice_number WHERE s.vendor_name_lower LIKE '%innovate supplies%';`\n",
    "\n",
    "---\n",
    "\n",
    "Now, based on all the information above, generate the MySQL query for the following user question.\n",
    "## one more things is in my database all table and column name is lowercase.\n",
    "\n",
    "**User question:**\n",
    "{question}\n",
    "\n",
    "{format_instruction}\n",
    "\"\"\",\n",
    "    input_variables=[\"question\"],\n",
    "    partial_variables={\n",
    "        \"format_instruction\": sql_query_parser.get_format_instructions()\n",
    "    }\n",
    ")"
   ]
  },
  {
   "cell_type": "markdown",
   "id": "b908c54f",
   "metadata": {},
   "source": [
    "## **Chain forming**"
   ]
  },
  {
   "cell_type": "code",
   "execution_count": 17,
   "id": "e9957b76",
   "metadata": {},
   "outputs": [
    {
     "data": {
      "text/plain": [
       "\"SELECT * FROM supplierdetails WHERE invoice_id = '10070';\""
      ]
     },
     "execution_count": 17,
     "metadata": {},
     "output_type": "execute_result"
    }
   ],
   "source": [
    "sql_query_writer_chain = sql_query_prompt | llm | sql_query_parser\n",
    "\n",
    "## Test query\n",
    "response = sql_query_writer_chain.invoke(\"What is the invoice amount for the invoice with ID 10070?\")\n",
    "response.sql_query"
   ]
  },
  {
   "cell_type": "markdown",
   "id": "8bd58d5a",
   "metadata": {},
   "source": [
    "## **Test Query**"
   ]
  },
  {
   "cell_type": "code",
   "execution_count": 18,
   "id": "5ce3f81b",
   "metadata": {},
   "outputs": [],
   "source": [
    "df = pd.read_sql(response.sql_query, con=engine)"
   ]
  },
  {
   "cell_type": "code",
   "execution_count": 19,
   "id": "c934fcc5",
   "metadata": {},
   "outputs": [
    {
     "data": {
      "text/html": [
       "<div>\n",
       "<style scoped>\n",
       "    .dataframe tbody tr th:only-of-type {\n",
       "        vertical-align: middle;\n",
       "    }\n",
       "\n",
       "    .dataframe tbody tr th {\n",
       "        vertical-align: top;\n",
       "    }\n",
       "\n",
       "    .dataframe thead th {\n",
       "        text-align: right;\n",
       "    }\n",
       "</style>\n",
       "<table border=\"1\" class=\"dataframe\">\n",
       "  <thead>\n",
       "    <tr style=\"text-align: right;\">\n",
       "      <th></th>\n",
       "      <th>invoice_id</th>\n",
       "      <th>invoice_num</th>\n",
       "      <th>invoice_num_standard</th>\n",
       "      <th>invoice_num_upper</th>\n",
       "      <th>invoice_num_lower</th>\n",
       "      <th>last_update_date</th>\n",
       "      <th>last_updated_by</th>\n",
       "      <th>vendor_id</th>\n",
       "      <th>set_of_books_id</th>\n",
       "      <th>invoice_currency_code</th>\n",
       "      <th>...</th>\n",
       "      <th>remit_to_supplier_site_lower</th>\n",
       "      <th>remit_to_supplier_site_id</th>\n",
       "      <th>vendor_name</th>\n",
       "      <th>vendor_name_standard</th>\n",
       "      <th>vendor_name_upper</th>\n",
       "      <th>vendor_name_lower</th>\n",
       "      <th>segment1</th>\n",
       "      <th>invoice_amount</th>\n",
       "      <th>amount_paid</th>\n",
       "      <th>balance_remaining</th>\n",
       "    </tr>\n",
       "  </thead>\n",
       "  <tbody>\n",
       "    <tr>\n",
       "      <th>0</th>\n",
       "      <td>10070</td>\n",
       "      <td>6181-1</td>\n",
       "      <td>6181-1</td>\n",
       "      <td>6181-1</td>\n",
       "      <td>6181-1</td>\n",
       "      <td>1996-01-07 11:31:41</td>\n",
       "      <td>1006</td>\n",
       "      <td>1</td>\n",
       "      <td>1</td>\n",
       "      <td>USD</td>\n",
       "      <td>...</td>\n",
       "      <td>ge plastics</td>\n",
       "      <td>1</td>\n",
       "      <td>GE Plastics</td>\n",
       "      <td>GE Plastics</td>\n",
       "      <td>GE PLASTICS</td>\n",
       "      <td>ge plastics</td>\n",
       "      <td>1000</td>\n",
       "      <td>900.0</td>\n",
       "      <td>900.0</td>\n",
       "      <td>0.0</td>\n",
       "    </tr>\n",
       "  </tbody>\n",
       "</table>\n",
       "<p>1 rows × 63 columns</p>\n",
       "</div>"
      ],
      "text/plain": [
       "   invoice_id invoice_num invoice_num_standard invoice_num_upper  \\\n",
       "0       10070      6181-1               6181-1            6181-1   \n",
       "\n",
       "  invoice_num_lower    last_update_date  last_updated_by  vendor_id  \\\n",
       "0            6181-1 1996-01-07 11:31:41             1006          1   \n",
       "\n",
       "   set_of_books_id invoice_currency_code  ... remit_to_supplier_site_lower  \\\n",
       "0                1                   USD  ...                  ge plastics   \n",
       "\n",
       "   remit_to_supplier_site_id  vendor_name vendor_name_standard  \\\n",
       "0                          1  GE Plastics          GE Plastics   \n",
       "\n",
       "  vendor_name_upper vendor_name_lower segment1 invoice_amount  amount_paid  \\\n",
       "0       GE PLASTICS       ge plastics     1000          900.0        900.0   \n",
       "\n",
       "   balance_remaining  \n",
       "0                0.0  \n",
       "\n",
       "[1 rows x 63 columns]"
      ]
     },
     "execution_count": 19,
     "metadata": {},
     "output_type": "execute_result"
    }
   ],
   "source": [
    "df"
   ]
  },
  {
   "cell_type": "markdown",
   "id": "0a049212",
   "metadata": {},
   "source": [
    "## **Now building the Multi Agent**"
   ]
  },
  {
   "cell_type": "code",
   "execution_count": 20,
   "id": "55744781",
   "metadata": {},
   "outputs": [],
   "source": [
    "from typing import TypedDict, Sequence\n",
    "from langchain_core.messages import BaseMessage\n",
    "from pydantic import Field\n",
    "import operator\n",
    "\n",
    "class State(TypedDict):\n",
    "    \"\"\"This is is my graph state where store all conversations.\"\"\"\n",
    "    messages: Annotated[Sequence[BaseMessage], operator.add]\n",
    "    raw_data: Annotated[str, Field(description=\"This raw data extract form MySQL DB\")]"
   ]
  },
  {
   "cell_type": "code",
   "execution_count": 21,
   "id": "2a3559cd",
   "metadata": {},
   "outputs": [],
   "source": [
    "def data_extraction(state: State):\n",
    "    print(\"--Data extraction--\")\n",
    "    \n",
    "    # Get the latest user message\n",
    "    question = state[\"messages\"][-1]\n",
    "    \n",
    "    # Generate SQL query from user input using the LLM chain\n",
    "    print(\"--Generate sql query--\")\n",
    "    response = sql_query_writer_chain.invoke(question)\n",
    "    query = response.sql_query\n",
    "    print(\"--SQL query generation done--\")\n",
    "    \n",
    "    ## sql query transformation\n",
    "    if '%' in query:\n",
    "        query = query.replace('%', '%%')\n",
    "        \n",
    "    print(f\"Generated SQL Query: {query}\")\n",
    "\n",
    "    print(\"--data extracting from Database--\")\n",
    "    try:\n",
    "        # Execute the generated SQL query\n",
    "        df = pd.read_sql(query, con=engine)\n",
    "\n",
    "        if df.empty:\n",
    "            context_str = \"No transaction data found for this query.\"\n",
    "        else:\n",
    "            # Convert first row to string as context\n",
    "            context_str = df.iloc[0].to_string()\n",
    "    except Exception as e:\n",
    "        context_str = f\"Error while querying the database: {str(e)}\"\n",
    "\n",
    "    print(\"---Data extraction done---\")\n",
    "    \n",
    "    return {\n",
    "        \"raw_data\": context_str\n",
    "    }\n"
   ]
  },
  {
   "cell_type": "code",
   "execution_count": 22,
   "id": "a007f148",
   "metadata": {},
   "outputs": [
    {
     "name": "stdout",
     "output_type": "stream",
     "text": [
      "SELECT SUM(invoice_amount) AS total_invoice_amount FROM supplierdetails WHERE vendor_name_lower LIKE '%%ge plastics%%';\n"
     ]
    },
    {
     "data": {
      "text/html": [
       "<div>\n",
       "<style scoped>\n",
       "    .dataframe tbody tr th:only-of-type {\n",
       "        vertical-align: middle;\n",
       "    }\n",
       "\n",
       "    .dataframe tbody tr th {\n",
       "        vertical-align: top;\n",
       "    }\n",
       "\n",
       "    .dataframe thead th {\n",
       "        text-align: right;\n",
       "    }\n",
       "</style>\n",
       "<table border=\"1\" class=\"dataframe\">\n",
       "  <thead>\n",
       "    <tr style=\"text-align: right;\">\n",
       "      <th></th>\n",
       "      <th>total_invoice_amount</th>\n",
       "    </tr>\n",
       "  </thead>\n",
       "  <tbody>\n",
       "    <tr>\n",
       "      <th>0</th>\n",
       "      <td>7848159.0</td>\n",
       "    </tr>\n",
       "  </tbody>\n",
       "</table>\n",
       "</div>"
      ],
      "text/plain": [
       "   total_invoice_amount\n",
       "0             7848159.0"
      ]
     },
     "execution_count": 22,
     "metadata": {},
     "output_type": "execute_result"
    }
   ],
   "source": [
    "query = \"SELECT SUM(invoice_amount) AS total_invoice_amount FROM supplierdetails WHERE vendor_name_lower LIKE '%ge plastics%';\"\n",
    "\n",
    "\n",
    "if '%' in query:\n",
    "    query = query.replace('%', '%%')  # escape % for pandas.read_sql\n",
    "print(query)\n",
    "\n",
    "\n",
    "df = pd.read_sql(query, con=engine)\n",
    "\n",
    "df"
   ]
  },
  {
   "cell_type": "markdown",
   "id": "78284b88",
   "metadata": {},
   "source": [
    "## **Output Generation Prompt**"
   ]
  },
  {
   "cell_type": "code",
   "execution_count": 23,
   "id": "bd4e2ca5",
   "metadata": {},
   "outputs": [],
   "source": [
    "from langchain_core.prompts import PromptTemplate\n",
    "\n",
    "output_prompt = PromptTemplate(\n",
    "    template=\"\"\"\n",
    "You are a professional data analyst answering user questions based strictly on provided raw data.\n",
    "\n",
    "## Instructions:\n",
    "- Answer the user question using only the context.\n",
    "- Do not explain anything.\n",
    "- Do not include extra sentences.\n",
    "- Do not make up any information.\n",
    "- If the context is empty or does not contain the answer, respond with:\n",
    "**\"No data available for this query.\"**\n",
    "- Output in clean **Markdown** format.\n",
    "---\n",
    "\n",
    "User Question:  \n",
    "{question}\n",
    "\n",
    "Context:  \n",
    "{context}\n",
    "\"\"\",\n",
    "    input_variables=[\"question\", \"context\"]\n",
    ")\n"
   ]
  },
  {
   "cell_type": "markdown",
   "id": "95f333ce",
   "metadata": {},
   "source": [
    "## ***import small `llm` for response generate***"
   ]
  },
  {
   "cell_type": "code",
   "execution_count": 24,
   "id": "a41705ec",
   "metadata": {},
   "outputs": [
    {
     "name": "stdout",
     "output_type": "stream",
     "text": [
      "meta-llama/llama-4-scout-17b-16e-instruct\n"
     ]
    },
    {
     "data": {
      "text/plain": [
       "AIMessage(content=\"This conversation just started. What's up?\", additional_kwargs={}, response_metadata={'token_usage': {'completion_tokens': 9, 'prompt_tokens': 12, 'total_tokens': 21, 'completion_time': 0.017940005, 'prompt_time': 0.002171936, 'queue_time': 0.046069513, 'total_time': 0.020111941}, 'model_name': 'meta-llama/llama-4-scout-17b-16e-instruct', 'system_fingerprint': 'fp_5d3e4e58e1', 'finish_reason': 'stop', 'logprobs': None}, id='run--726146b5-78c2-48cc-a91e-b3a11d7dab36-0', usage_metadata={'input_tokens': 12, 'output_tokens': 9, 'total_tokens': 21})"
      ]
     },
     "execution_count": 24,
     "metadata": {},
     "output_type": "execute_result"
    }
   ],
   "source": [
    "load_dotenv()\n",
    "os.environ[\"GROQ_API_KEY\"] = os.getenv(\"GROQ_API_KEY\")\n",
    "print(os.getenv(\"LLAMA_MODEL\"))\n",
    "sml_llm = ChatGroq(model=os.getenv(\"LLAMA_MODEL\"))\n",
    "\n",
    "sml_llm.invoke(\"test line\")"
   ]
  },
  {
   "cell_type": "markdown",
   "id": "d277a809",
   "metadata": {},
   "source": [
    "## **Output Generation Node**"
   ]
  },
  {
   "cell_type": "code",
   "execution_count": 25,
   "id": "cbc8dabf",
   "metadata": {},
   "outputs": [],
   "source": [
    "from langchain_core.output_parsers import StrOutputParser\n",
    "\n",
    "def answer_generate(state: State):\n",
    "    print(\"--Output generate Start--\")\n",
    "    question = state['messages'][-1]\n",
    "    phone_context = state[\"raw_data\"]\n",
    "    print(question)\n",
    "    # print(phone_context)\n",
    "    \n",
    "    review_chain = output_prompt | sml_llm | StrOutputParser()\n",
    "    \n",
    "    print(\"--Output Generation Done--\")\n",
    "    # response = llm.invoke(question)\n",
    "    \n",
    "    response = review_chain.invoke(\n",
    "        {\n",
    "            \"question\": question,\n",
    "            \"context\": phone_context\n",
    "        }\n",
    "    )\n",
    "    \n",
    "    return {\n",
    "        \"messages\": [response]\n",
    "    }"
   ]
  },
  {
   "cell_type": "markdown",
   "id": "cedb29e9",
   "metadata": {},
   "source": [
    "## **Multi agent Workflow**"
   ]
  },
  {
   "cell_type": "code",
   "execution_count": 26,
   "id": "4716b7f4",
   "metadata": {},
   "outputs": [
    {
     "data": {
      "image/png": "[encoded data removed]",
      "text/plain": [
       "<IPython.core.display.Image object>"
      ]
     },
     "metadata": {},
     "output_type": "display_data"
    }
   ],
   "source": [
    "from langgraph.graph import START, END, StateGraph\n",
    "from IPython.display import display, Image, Markdown\n",
    "\n",
    "builder = StateGraph(State)\n",
    "\n",
    "## define node\n",
    "builder.add_node(\"Data_Gether\", data_extraction)\n",
    "builder.add_node(\"Answer_Writer\", answer_generate)\n",
    "\n",
    "## Define edges\n",
    "builder.add_edge(START, \"Data_Gether\")\n",
    "builder.add_edge(\"Data_Gether\", \"Answer_Writer\")\n",
    "builder.add_edge(\"Answer_Writer\", END)\n",
    "\n",
    "app = builder.compile()\n",
    "\n",
    "display(Image(app.get_graph().draw_mermaid_png()))"
   ]
  },
  {
   "cell_type": "code",
   "execution_count": 27,
   "id": "c462af78",
   "metadata": {},
   "outputs": [
    {
     "name": "stdout",
     "output_type": "stream",
     "text": [
      "--Data extraction--\n",
      "--Generate sql query--\n",
      "--SQL query generation done--\n",
      "Generated SQL Query: SELECT * FROM supplierdetails WHERE invoice_id = '10070';\n",
      "--data extracting from Database--\n",
      "---Data extraction done---\n",
      "--Output generate Start--\n",
      "What is the invoice amount for the invoice with ID 10070?\n",
      "--Output Generation Done--\n"
     ]
    }
   ],
   "source": [
    "output = app.invoke(\n",
    "    {\n",
    "        \"messages\": [\"What is the invoice amount for the invoice with ID 10070?\"]\n",
    "    }\n",
    ")"
   ]
  },
  {
   "cell_type": "code",
   "execution_count": 28,
   "id": "b7c9201d",
   "metadata": {},
   "outputs": [
    {
     "data": {
      "text/markdown": [
       "**$900.0**"
      ],
      "text/plain": [
       "<IPython.core.display.Markdown object>"
      ]
     },
     "execution_count": 28,
     "metadata": {},
     "output_type": "execute_result"
    }
   ],
   "source": [
    "Markdown(output[\"messages\"][-1])"
   ]
  },
  {
   "cell_type": "code",
   "execution_count": 30,
   "id": "2228f144",
   "metadata": {},
   "outputs": [
    {
     "name": "stdout",
     "output_type": "stream",
     "text": [
      "--Data extraction--\n",
      "--Generate sql query--\n",
      "--SQL query generation done--\n",
      "Generated SQL Query: SELECT SUM(invoice_amount) FROM supplierdetails WHERE vendor_name_lower LIKE '%%ge plastics%%';\n",
      "--data extracting from Database--\n",
      "---Data extraction done---\n",
      "--Output generate Start--\n",
      "what is the total invoice amount of vendor name ge plastics?\n",
      "--Output Generation Done--\n"
     ]
    },
    {
     "data": {
      "text/markdown": [
       "**$7,848,159.00**"
      ],
      "text/plain": [
       "<IPython.core.display.Markdown object>"
      ]
     },
     "execution_count": 30,
     "metadata": {},
     "output_type": "execute_result"
    }
   ],
   "source": [
    "output = app.invoke(\n",
    "    {\n",
    "        \"messages\": [\"what is the total invoice amount of vendor name ge plastics?\"]\n",
    "    }\n",
    ")\n",
    "\n",
    "Markdown(output[\"messages\"][-1])"
   ]
  },
  {
   "cell_type": "code",
   "execution_count": null,
   "id": "807019c0",
   "metadata": {},
   "outputs": [
    {
     "name": "stdout",
     "output_type": "stream",
     "text": [
      "--Data extraction--\n",
      "--Generate sql query--\n",
      "--SQL query generation done--\n",
      "Generated SQL Query: SELECT COUNT(DISTINCT vendor_name) FROM supplierdetails;\n",
      "--data extracting from Database--\n",
      "---Data extraction done---\n",
      "--Output generate Start--\n",
      "How many distinct vendor names are there?\n",
      "--Output Generation Done--\n"
     ]
    },
    {
     "data": {
      "text/markdown": [
       "## Answer\n",
       "### Distinct Vendor Names\n",
       "**75**"
      ],
      "text/plain": [
       "<IPython.core.display.Markdown object>"
      ]
     },
     "execution_count": 46,
     "metadata": {},
     "output_type": "execute_result"
    }
   ],
   "source": [
    "output = app.invoke(\n",
    "    {\n",
    "        \"messages\": [\"How many distinct vendor names are there?\"]\n",
    "    }\n",
    ")\n",
    "\n",
    "Markdown(output[\"messages\"][-1])"
   ]
  },
  {
   "cell_type": "code",
   "execution_count": null,
   "id": "0fb65425",
   "metadata": {},
   "outputs": [
    {
     "name": "stdout",
     "output_type": "stream",
     "text": [
      "--Data extraction--\n",
      "--Generate sql query--\n",
      "--SQL query generation done--\n",
      "Generated SQL Query: SELECT SUM(balance_remaining) FROM supplierdetails;\n",
      "--data extracting from Database--\n",
      "---Data extraction done---\n",
      "--Output generate Start--\n",
      "What is the total remaining balance?\n",
      "--Output Generation Done--\n"
     ]
    },
    {
     "data": {
      "text/markdown": [
       "**$7,434,848.00**"
      ],
      "text/plain": [
       "<IPython.core.display.Markdown object>"
      ]
     },
     "execution_count": 47,
     "metadata": {},
     "output_type": "execute_result"
    }
   ],
   "source": [
    "output = app.invoke(\n",
    "    {\n",
    "        \"messages\": [\"What is the total remaining balance?\"]\n",
    "    }\n",
    ")\n",
    "\n",
    "Markdown(output[\"messages\"][-1])"
   ]
  },
  {
   "cell_type": "code",
   "execution_count": 32,
   "id": "1f4f120c",
   "metadata": {},
   "outputs": [
    {
     "name": "stdout",
     "output_type": "stream",
     "text": [
      "--Data extraction--\n",
      "--Generate sql query--\n",
      "--SQL query generation done--\n",
      "Generated SQL Query: SELECT * FROM supplierdetails WHERE invoice_id = '10209';\n",
      "--data extracting from Database--\n",
      "---Data extraction done---\n",
      "--Output generate Start--\n",
      "What is the name of the vendor for the invoice ID 10209?\n",
      "--Output Generation Done--\n"
     ]
    },
    {
     "data": {
      "text/markdown": [
       "### Vendor Name for Invoice ID10209\n",
       "* **Vendor Name:** Advantage Corp"
      ],
      "text/plain": [
       "<IPython.core.display.Markdown object>"
      ]
     },
     "execution_count": 32,
     "metadata": {},
     "output_type": "execute_result"
    }
   ],
   "source": [
    "output = app.invoke(\n",
    "    {\n",
    "        \"messages\": [\"What is the name of the vendor for the invoice ID 10209?\"]\n",
    "    }\n",
    ")\n",
    "\n",
    "Markdown(output[\"messages\"][-1])"
   ]
  },
  {
   "cell_type": "code",
   "execution_count": 33,
   "id": "caf8d6b8",
   "metadata": {},
   "outputs": [
    {
     "name": "stdout",
     "output_type": "stream",
     "text": [
      "--Data extraction--\n",
      "--Generate sql query--\n",
      "--SQL query generation done--\n",
      "Generated SQL Query: SELECT * FROM supplierdetails s LEFT JOIN supplierspaymenthistoryupdated p ON s.invoice_num = p.c_invoice_number WHERE s.invoice_id = '10230';\n",
      "--data extracting from Database--\n",
      "---Data extraction done---\n",
      "--Output generate Start--\n",
      "What is the payment method used for the invoice ID 10230?\n",
      "--Output Generation Done--\n"
     ]
    },
    {
     "data": {
      "text/markdown": [
       "### Payment Method for Invoice ID10230\n",
       "* **Payment Method Code:** CHECK\n",
       "* **Payment Method Code Standard:** Check"
      ],
      "text/plain": [
       "<IPython.core.display.Markdown object>"
      ]
     },
     "execution_count": 33,
     "metadata": {},
     "output_type": "execute_result"
    }
   ],
   "source": [
    "output = app.invoke(\n",
    "    {\n",
    "        \"messages\": [\"What is the payment method used for the invoice ID 10230?\"]\n",
    "    }\n",
    ")\n",
    "\n",
    "Markdown(output[\"messages\"][-1])"
   ]
  },
  {
   "cell_type": "code",
   "execution_count": 36,
   "id": "ce8a774c",
   "metadata": {},
   "outputs": [
    {
     "name": "stdout",
     "output_type": "stream",
     "text": [
      "--Data extraction--\n",
      "--Generate sql query--\n",
      "--SQL query generation done--\n",
      "Generated SQL Query: SELECT SUM(invoice_amount) AS total_invoice_amount FROM supplierdetails WHERE vendor_name_lower LIKE '%%united parcel service%%';\n",
      "--data extracting from Database--\n",
      "---Data extraction done---\n",
      "--Output generate Start--\n",
      "What is the total invoice amount for all invoices where the vendor is 'United Parcel Service'?\n",
      "--Output Generation Done--\n"
     ]
    },
    {
     "data": {
      "text/markdown": [
       "## Total Invoice Amount\n",
       "The total invoice amount for all invoices where the vendor is 'United Parcel Service' is not calculable from the provided data.\n",
       "\n",
       "**No data available for this query.**"
      ],
      "text/plain": [
       "<IPython.core.display.Markdown object>"
      ]
     },
     "execution_count": 36,
     "metadata": {},
     "output_type": "execute_result"
    }
   ],
   "source": [
    "output = app.invoke(\n",
    "    {\n",
    "        \"messages\": [\"What is the total invoice amount for all invoices where the vendor is 'United Parcel Service'?\"]\n",
    "    }\n",
    ")\n",
    "\n",
    "Markdown(output[\"messages\"][-1])"
   ]
  },
  {
   "cell_type": "code",
   "execution_count": 37,
   "id": "a2e45430",
   "metadata": {},
   "outputs": [
    {
     "name": "stdout",
     "output_type": "stream",
     "text": [
      "--Data extraction--\n",
      "--Generate sql query--\n",
      "--SQL query generation done--\n",
      "Generated SQL Query: SELECT SUM(invoice_amount) AS total_sum FROM supplierdetails;\n",
      "--data extracting from Database--\n",
      "---Data extraction done---\n",
      "--Output generate Start--\n",
      "What is the total sum of the invoice amounts for all invoices in the dataset?\n",
      "--Output Generation Done--\n"
     ]
    },
    {
     "data": {
      "text/markdown": [
       "**$956,122,127.0**"
      ],
      "text/plain": [
       "<IPython.core.display.Markdown object>"
      ]
     },
     "execution_count": 37,
     "metadata": {},
     "output_type": "execute_result"
    }
   ],
   "source": [
    "output = app.invoke(\n",
    "    {\n",
    "        \"messages\": [\"What is the total sum of the invoice amounts for all invoices in the dataset?\"]\n",
    "    }\n",
    ")\n",
    "\n",
    "Markdown(output[\"messages\"][-1])"
   ]
  },
  {
   "cell_type": "code",
   "execution_count": 40,
   "id": "9ecf4aa2",
   "metadata": {},
   "outputs": [
    {
     "name": "stdout",
     "output_type": "stream",
     "text": [
      "--Data extraction--\n",
      "--Generate sql query--\n",
      "--SQL query generation done--\n",
      "Generated SQL Query: SELECT * FROM supplierdetails s LEFT JOIN supplierspaymenthistoryupdated p ON s.invoice_num = p.c_invoice_number WHERE p.payment_method = 'CHECK';\n",
      "--data extracting from Database--\n",
      "---Data extraction done---\n",
      "--Output generate Start--\n",
      "What is the average invoice amount for invoices where the payment method is 'CHECK'?\n",
      "--Output Generation Done--\n"
     ]
    },
    {
     "data": {
      "text/markdown": [
       "**No data available for this query.**"
      ],
      "text/plain": [
       "<IPython.core.display.Markdown object>"
      ]
     },
     "execution_count": 40,
     "metadata": {},
     "output_type": "execute_result"
    }
   ],
   "source": [
    "output = app.invoke(\n",
    "    {\n",
    "        \"messages\": [\"What is the average invoice amount for invoices where the payment method is 'CHECK'?\"]\n",
    "    }\n",
    ")\n",
    "\n",
    "Markdown(output[\"messages\"][-1])"
   ]
  },
  {
   "cell_type": "code",
   "execution_count": 41,
   "id": "9a88a09f",
   "metadata": {},
   "outputs": [
    {
     "name": "stdout",
     "output_type": "stream",
     "text": [
      "--Data extraction--\n",
      "--Generate sql query--\n",
      "--SQL query generation done--\n",
      "Generated SQL Query: SELECT vendor_name_lower AS vendor_name, SUM(invoice_amount) AS total_invoice_amount FROM supplierdetails GROUP BY vendor_name_lower ORDER BY total_invoice_amount DESC LIMIT 1;\n",
      "--data extracting from Database--\n",
      "---Data extraction done---\n",
      "--Output generate Start--\n",
      "Which vendor has the highest total invoice amount, and what is that amount?\n",
      "--Output Generation Done--\n"
     ]
    },
    {
     "data": {
      "text/markdown": [
       "### Vendor with the Highest Total Invoice Amount\n",
       "\n",
       "* **Vendor Name:** advanced network devices\n",
       "* **Total Invoice Amount:** $349,848,560.00"
      ],
      "text/plain": [
       "<IPython.core.display.Markdown object>"
      ]
     },
     "execution_count": 41,
     "metadata": {},
     "output_type": "execute_result"
    }
   ],
   "source": [
    "output = app.invoke(\n",
    "    {\n",
    "        \"messages\": [\"Which vendor has the highest total invoice amount, and what is that amount?\"]\n",
    "    }\n",
    ")\n",
    "\n",
    "Markdown(output[\"messages\"][-1])"
   ]
  }
 ],
 "metadata": {
  "kernelspec": {
   "display_name": "Python 3",
   "language": "python",
   "name": "python3"
  },
  "language_info": {
   "codemirror_mode": {
    "name": "ipython",
    "version": 3
   },
   "file_extension": ".py",
   "mimetype": "text/x-python",
   "name": "python",
   "nbconvert_exporter": "python",
   "pygments_lexer": "ipython3",
   "version": "3.12.0"
  }
 },
 "nbformat": 4,
 "nbformat_minor": 5
}
