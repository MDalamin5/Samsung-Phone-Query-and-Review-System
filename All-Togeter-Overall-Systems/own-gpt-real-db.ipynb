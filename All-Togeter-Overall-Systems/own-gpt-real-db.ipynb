{
 "cells": [
  {
   "cell_type": "markdown",
   "id": "ce4b0a97",
   "metadata": {},
   "source": [
    "## **Multi agent implement using `LangGraph` on `airflow_etltest` Database**"
   ]
  },
  {
   "cell_type": "code",
   "execution_count": 1,
   "id": "455c0c43",
   "metadata": {},
   "outputs": [],
   "source": [
    "import warnings\n",
    "warnings.filterwarnings(\"ignore\")"
   ]
  },
  {
   "cell_type": "code",
   "execution_count": 2,
   "id": "e33ff4b9",
   "metadata": {},
   "outputs": [],
   "source": [
    "from langchain_groq import ChatGroq\n",
    "import os\n",
    "from dotenv import load_dotenv\n",
    "load_dotenv()\n",
    "\n",
    "os.environ[\"HF_TOKEN\"] = os.getenv(\"HF_TOKEN\")\n",
    "os.environ[\"GROQ_API_KEY\"] = os.getenv(\"GROQ_API_KEY\")\n",
    "\n",
    "from langchain_huggingface import HuggingFaceEmbeddings"
   ]
  },
  {
   "cell_type": "markdown",
   "id": "0cd3fde6",
   "metadata": {},
   "source": [
    "## **Importing `Embedding` and `ChatGroq llm`**"
   ]
  },
  {
   "cell_type": "code",
   "execution_count": 3,
   "id": "0be5a0a7",
   "metadata": {},
   "outputs": [
    {
     "data": {
      "text/plain": [
       "AIMessage(content='<think>\\nOkay, the user sent \"test line\". That\\'s pretty short. I need to figure out what they want. Maybe they\\'re just checking if the system is working. Since there\\'s no specific question, I should ask for more details. Let me make sure to be polite and helpful. Maybe they need help with something but didn\\'t specify. I\\'ll respond by asking how I can assist them. Keep it open-ended so they can explain further.\\n</think>\\n\\nIt seems like you might be testing the system or just starting a conversation. How can I assist you today? Feel free to ask any questions or let me know if you need help with something specific! 😊', additional_kwargs={}, response_metadata={'token_usage': {'completion_tokens': 137, 'prompt_tokens': 10, 'total_tokens': 147, 'completion_time': 0.264216737, 'prompt_time': 0.000274665, 'queue_time': 0.049974588, 'total_time': 0.264491402}, 'model_name': 'qwen/qwen3-32b', 'system_fingerprint': 'fp_f17c2eb555', 'finish_reason': 'stop', 'logprobs': None}, id='run--604d0c23-aed3-49e5-9fc7-44c795cd925a-0', usage_metadata={'input_tokens': 10, 'output_tokens': 137, 'total_tokens': 147})"
      ]
     },
     "execution_count": 3,
     "metadata": {},
     "output_type": "execute_result"
    }
   ],
   "source": [
    "embeddings = HuggingFaceEmbeddings(model_name=\"sentence-transformers/all-mpnet-base-v2\")\n",
    "\n",
    "llm = ChatGroq(model=os.getenv(\"QWEN_MODEL\"))\n",
    "\n",
    "## Test llm\n",
    "llm.invoke(\"test line\")"
   ]
  },
  {
   "cell_type": "markdown",
   "id": "734d4dd4",
   "metadata": {},
   "source": [
    "# **Multi Agent Workflow Start**\n",
    "\n",
    "### **Connect To database using `pands read_sql`**"
   ]
  },
  {
   "cell_type": "code",
   "execution_count": 4,
   "id": "d9f0f1a3",
   "metadata": {},
   "outputs": [],
   "source": [
    "import mysql.connector\n",
    "conn = mysql.connector.connect(\n",
    "    host='localhost',\n",
    "    user='root',\n",
    "    password='',\n",
    "    database='airflow_etltest'\n",
    ")"
   ]
  },
  {
   "cell_type": "markdown",
   "id": "1ad77a0c",
   "metadata": {},
   "source": [
    "## **Create sql engine**"
   ]
  },
  {
   "cell_type": "code",
   "execution_count": 6,
   "id": "3254408c",
   "metadata": {},
   "outputs": [],
   "source": [
    "from sqlalchemy import create_engine\n",
    "\n",
    "engine = create_engine('mysql+pymysql://root:@localhost/airflow_etltest')"
   ]
  },
  {
   "cell_type": "markdown",
   "id": "78ded026",
   "metadata": {},
   "source": [
    "## **Testing Query Run On the Database**"
   ]
  },
  {
   "cell_type": "code",
   "execution_count": null,
   "id": "0c31a8cc",
   "metadata": {},
   "outputs": [
    {
     "data": {
      "text/plain": [
       "'employee_id                        1\\nfirst_name                      John\\nlast_name                        Doe\\nemail           john.doe@example.com\\nphone_number            123-456-7890\\nhire_date                 2023-01-15\\njob_title          Software Engineer\\nsalary                       75000.0'"
      ]
     },
     "execution_count": 7,
     "metadata": {},
     "output_type": "execute_result"
    }
   ],
   "source": [
    "from sqlalchemy import text\n",
    "import pandas as pd\n",
    "\n",
    "# Your target account holder name\n",
    "first_name = \"John\"\n",
    "\n",
    "# Updated query (table: Employee, column: first_name)\n",
    "query = text(\"SELECT * FROM employee WHERE first_name = :first_name\")\n",
    "\n",
    "# Run the query using SQLAlchemy engine\n",
    "df = pd.read_sql(query, con=engine, params={\"first_name\": first_name})\n",
    "\n",
    "# Extract the first result as string context (optional)\n",
    "context_str = df.iloc[0].to_string()\n",
    "context_str\n"
   ]
  }
 ],
 "metadata": {
  "kernelspec": {
   "display_name": "Python 3",
   "language": "python",
   "name": "python3"
  },
  "language_info": {
   "codemirror_mode": {
    "name": "ipython",
    "version": 3
   },
   "file_extension": ".py",
   "mimetype": "text/x-python",
   "name": "python",
   "nbconvert_exporter": "python",
   "pygments_lexer": "ipython3",
   "version": "3.12.0"
  }
 },
 "nbformat": 4,
 "nbformat_minor": 5
}
