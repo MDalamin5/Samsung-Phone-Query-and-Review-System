{
 "cells": [
  {
   "cell_type": "code",
   "execution_count": 1,
   "id": "7db48b6b",
   "metadata": {},
   "outputs": [],
   "source": [
    "from langchain_groq import ChatGroq\n",
    "\n",
    "from dotenv import load_dotenv\n",
    "load_dotenv()\n",
    "import os\n",
    "\n",
    "os.environ[\"GROQ_API_KEY\"] = os.getenv(\"GROQ_API_KEY\")\n",
    "\n",
    "llm = ChatGroq(\n",
    "    model= \"meta-llama/llama-4-scout-17b-16e-instruct\",\n",
    "    temperature=0.5\n",
    ")"
   ]
  },
  {
   "cell_type": "code",
   "execution_count": 4,
   "id": "a4146ae1",
   "metadata": {},
   "outputs": [],
   "source": [
    "response = llm.invoke(\"Hi how are you?\")"
   ]
  },
  {
   "cell_type": "code",
   "execution_count": 5,
   "id": "b03328f9",
   "metadata": {},
   "outputs": [
    {
     "data": {
      "text/plain": [
       "\"I'm doing well, thanks for asking! I'm just a language model, I don't have feelings like humans do, but I'm always happy to chat with you and help with any questions or topics you'd like to discuss. How about you? How's your day going so far?\""
      ]
     },
     "execution_count": 5,
     "metadata": {},
     "output_type": "execute_result"
    }
   ],
   "source": [
    "response.content"
   ]
  },
  {
   "cell_type": "markdown",
   "id": "81e82998",
   "metadata": {},
   "source": [
    "AIMessage(content=\"I'm doing well, thanks for asking! I'm a large language model, so I don't have feelings like humans do, but I'm always happy to chat with you and help with any questions or topics you'd like to discuss. How about you? How's your day going so far?\", additional_kwargs={}, response_metadata={'token_usage': {'completion_tokens': 56, 'prompt_tokens': 15, 'total_tokens': 71, 'completion_time': 0.113457994, 'prompt_time': 0.0026528, 'queue_time': 0.21751798, 'total_time': 0.116110794}, 'model_name': 'meta-llama/llama-4-scout-17b-16e-instruct', 'system_fingerprint': 'fp_5d3e4e58e1', 'finish_reason': 'stop', 'logprobs': None}, id='run--d4c8b2ac-1c58-4539-b5d6-1e198c1dc32d-0', usage_metadata={'input_tokens': 15, 'output_tokens': 56, 'total_tokens': 71})"
   ]
  },
  {
   "cell_type": "code",
   "execution_count": 14,
   "id": "e591c26d",
   "metadata": {},
   "outputs": [],
   "source": [
    "from langchain_core.prompts import PromptTemplate\n",
    "\n",
    "prompt = PromptTemplate(\n",
    "    template= \"\"\"must response in {language} language and {style} way\n",
    "    \n",
    "    and this is user question: {question}\n",
    "    \n",
    "    \"\"\",\n",
    "    input_variables=[\"question\", \"language\", \"style\"]\n",
    ")"
   ]
  },
  {
   "cell_type": "code",
   "execution_count": 15,
   "id": "54aa0073",
   "metadata": {},
   "outputs": [],
   "source": [
    "chain = prompt | llm"
   ]
  },
  {
   "cell_type": "code",
   "execution_count": 16,
   "id": "67bd1804",
   "metadata": {},
   "outputs": [
    {
     "name": "stdout",
     "output_type": "stream",
     "text": [
      "ঠিক আছে, শোনো!\n",
      "\n",
      "কাজী নজরুল ইসলাম ছিলেন একজন বাঙালি কবি, যিনি তার ঝাঁঝালো লেখনী আর বিদ্রোহী মনোভাবের জন্য বিখ্যাত।\n",
      "\n",
      "একদিন, কাজী নজরুল ইসলাম সাহেব একটি চায়ের দোকানে বসে আছেন, চা খাচ্ছেন আর কবিতা লিখছেন। হঠাৎ, তার পাশে একজন লোক এসে বসলো।\n",
      "\n",
      "লোকটি বললো, \"কাজী সাহেব, আপনি তো খুব বড় কবি, আমাকে একটি কবিতা শুনান তো!\"\n",
      "\n",
      "কাজী নজরুল ইসলাম সাহেব বললেন, \"ঠিক আছে, শোনো:\n",
      "\n",
      "\"আমি যদি কবি হতাম\n",
      "তাহলে তোমাকে কবিতা লিখতাম\n",
      "কিন্তু আমি তো কবি না\n",
      "তাই তোমাকে চায়ের দাম দিতে হবে\"\n",
      "\n",
      "লোকটি হেসে বললো, \"কাজী সাহেব, আপনি তো খুব মজার কবি!\"\n",
      "\n",
      "কাজী নজরুল ইসলাম সাহেব বললেন, \"হ্যা, আমি তো কবিতার চেয়েও মজার মানুষ!\"\n",
      "\n",
      "আর এইভাবেই, কাজী নজরুল ইসলাম সাহেবের সাথে একটি মজার ঘটনা ঘটে গেল!\n"
     ]
    }
   ],
   "source": [
    "response = chain.invoke(\n",
    "    {\n",
    "        \"question\": \"write a story about kazi nojrul islsam\",\n",
    "        \"language\": \"Bangla\",\n",
    "        \"style\": \"funny\"\n",
    "    }\n",
    ")\n",
    "print(response.content)"
   ]
  },
  {
   "cell_type": "code",
   "execution_count": null,
   "id": "4be6af53",
   "metadata": {},
   "outputs": [],
   "source": []
  },
  {
   "cell_type": "markdown",
   "id": "a115c74b",
   "metadata": {},
   "source": [
    "AIMessage(content=\"কাজী নজরুল ইসলাম: বাঙালির অমর সন্তান\\n\\nবাংলার মাটিতে জন্ম নিয়ে কাজী নজরুল ইসলাম নামে এক কবি আল্লাহর হুকুমে এসেছিলেন পৃথিবীতে। ১৮৯৯ সালের ২৪শে মে চট্টগ্রামের রাউজান থানার বরদ্বমানীয়া গ্রামে জন্মগ্রহণ করেছিলেন এই মহান কবি। \\n\\nকাজী নজরুল ইসলামের পিতা কেরামত আলী খান একজন ধর্মীয় শিক্ষক ছিলেন। মাতা আইশা খাতুন ছিলেন এক সৎ ও ধার্মিক মহিলা। নজরুলের বাবা মারা যান যখন তাঁর বয়স মাত্র ১২ বছর। এরপর থেকে জীবন সংগ্রামে নেমে পড়তে হয় তাঁকে। \\n\\nনজরুল ইসলাম ছোট থেকেই লেখা-পড়ার প্রতি আগ্রহী ছিলেন। চট্টগ্রাম ম্যাড্রাজা স্কুলে পড়াশোনা শুরু করেন তিনি। কিন্তু আর্থিক অনটনের কারণে স্কুল ছাড়তে হয় তাঁকে। এরপর নিজের চেষ্টায় বাংলা, ইংরেজি, ফার্সি ও উর্দু ভাষা আয়ত্ত করেন। \\n\\nনজরুল ইসলাম প্রথমে একজন মুক্তিযোদ্ধা ছিলেন। ভারতের বিভিন্ন স্থানে ঘুরে বেড়াতেন এবং বিভিন্ন কাজে জড়িত ছিলেন। ১৯২১ সালে ঢাকা বিশ্ববিদ্যালয়ের ছাত্র হিসেবে যোগ দেন। কিন্তু পড়াশোনা শেষ করতে পারেননি। \\n\\nকাজী নজরুল ইসলাম একজন কবি, লেখক, সাংবাদিক, রাজনৈতিক কর্মী ও স্বাধীনতা সংগ্রামী ছিলেন। তিনি বাংলা সাহিত্যে এক নতুন যুগের সূচনা করেন। তাঁর কবিতায় ছিল প্রেম, সমাজবিচার ও স্বাধীনতার ডাক। \\n\\n১৯২৫ সালে প্রকাশিত হয় তাঁর প্রথম কাব্যগ্রন্থ 'অধিবাসন'। এরপর একে একে প্রকাশিত হয় 'সৌদামিনী', 'বিদ্রোহী', 'আনন্দময়ী', 'নীলাম্বরা'সহ আরও অনেক কাব্যগ্রন্থ। \\n\\nকাজী নজরুল ইসলাম ১৯৪২ সালে ভারতের পশ্চিমবঙ্গের পাটুলিতে এক রেস্তোরাঁয় অসুস্থ হয়ে পড়েন। এরপর চিকিৎসাধীন অবস্থায় ১৯৪২ সালের ২৮শে আগস্ট সন্ধ্যা ১১টা ৪৫ মিনিটে মৃত্যুবরণ করেন এই মহান কবি। \\n\\nকাজী নজরুল ইসলামের মৃত্যুর পর ১৯৭২ সালে বাংলাদেশ সরকার তাঁর সম্মানে ডাকটিকিট প্রকাশ করে। ১৯৯৯ সালে বাংলাদেশ সরকার তাঁর জন্মশতবর্ষ উপলক্ষ্যে বিশেষ সম্মাননা প্রদান করে। \\n\\nআজও কাজী নজরুল ইসলামের লেখা কবিতা বাঙালির হৃদয়ে ধ্বনিত হচ্ছে। তাঁর কবিতার মাধ্যমে বাঙালি বার বার উদ্বুদ্ধ হচ্ছে। কাজী নজরুল ইসলাম বাঙালির অমর সন্তান হিসেবে ইতিহাসে চিরস্মরণীয় হয়ে থাকবেন।\", additional_kwargs={}, response_metadata={'token_usage': {'completion_tokens': 795, 'prompt_tokens': 34, 'total_tokens': 829, 'completion_time': 1.7514820800000002, 'prompt_time': 0.003417489, 'queue_time': 0.114546511, 'total_time': 1.754899569}, 'model_name': 'meta-llama/llama-4-scout-17b-16e-instruct', 'system_fingerprint': 'fp_79da0e0073', 'finish_reason': 'stop', 'logprobs': None}, id='run--4d13555f-3c9e-49f8-a56d-7e72448b348e-0', usage_metadata={'input_tokens': 34, 'output_tokens': 795, 'total_tokens': 829})"
   ]
  },
  {
   "cell_type": "code",
   "execution_count": null,
   "id": "db33a38c",
   "metadata": {},
   "outputs": [],
   "source": []
  }
 ],
 "metadata": {
  "kernelspec": {
   "display_name": "Python 3",
   "language": "python",
   "name": "python3"
  },
  "language_info": {
   "codemirror_mode": {
    "name": "ipython",
    "version": 3
   },
   "file_extension": ".py",
   "mimetype": "text/x-python",
   "name": "python",
   "nbconvert_exporter": "python",
   "pygments_lexer": "ipython3",
   "version": "3.12.0"
  }
 },
 "nbformat": 4,
 "nbformat_minor": 5
}
