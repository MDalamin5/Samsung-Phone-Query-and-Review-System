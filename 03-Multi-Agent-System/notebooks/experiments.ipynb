{
 "cells": [
  {
   "cell_type": "code",
   "execution_count": 11,
   "id": "83e43faf",
   "metadata": {},
   "outputs": [
    {
     "data": {
      "text/plain": [
       "True"
      ]
     },
     "execution_count": 11,
     "metadata": {},
     "output_type": "execute_result"
    }
   ],
   "source": [
    "import glob, os\n",
    "from dotenv import load_dotenv\n",
    "load_dotenv()"
   ]
  },
  {
   "cell_type": "code",
   "execution_count": 12,
   "id": "55604535",
   "metadata": {},
   "outputs": [
    {
     "name": "stderr",
     "output_type": "stream",
     "text": [
      "C:\\Users\\Lenovo\\AppData\\Roaming\\Python\\Python312\\site-packages\\tqdm\\auto.py:21: TqdmWarning: IProgress not found. Please update jupyter and ipywidgets. See https://ipywidgets.readthedocs.io/en/stable/user_install.html\n",
      "  from .autonotebook import tqdm as notebook_tqdm\n"
     ]
    }
   ],
   "source": [
    "from langchain_groq import ChatGroq\n",
    "\n",
    "os.environ[\"HF_TOKEN\"] = os.getenv(\"HF_TOKEN\")\n",
    "os.environ[\"GROQ_API_KEY\"] = os.getenv(\"GROQ_API_KEY\")\n",
    "\n",
    "from langchain_huggingface import HuggingFaceEmbeddings\n",
    "\n",
    "embeddings = HuggingFaceEmbeddings(model_name=\"sentence-transformers/all-mpnet-base-v2\")\n",
    "llm = ChatGroq(model=\"meta-llama/llama-4-scout-17b-16e-instruct\")"
   ]
  },
  {
   "cell_type": "code",
   "execution_count": 3,
   "id": "5925df23",
   "metadata": {},
   "outputs": [],
   "source": [
    "from pinecone import Pinecone\n",
    "os.environ[\"PINECONE_API_KEY\"] = os.getenv(\"PINECONE_API_KEY\")\n",
    "\n",
    "pinecone_api_key = os.getenv(\"PINECONE_API_KEY\")"
   ]
  },
  {
   "cell_type": "code",
   "execution_count": 4,
   "id": "750c0ee0",
   "metadata": {},
   "outputs": [],
   "source": [
    "pc = Pinecone(api_key=pinecone_api_key)"
   ]
  },
  {
   "cell_type": "code",
   "execution_count": 5,
   "id": "835a0641",
   "metadata": {},
   "outputs": [
    {
     "data": {
      "text/plain": [
       "<pinecone.db_data.index.Index at 0x282fa3d0860>"
      ]
     },
     "execution_count": 5,
     "metadata": {},
     "output_type": "execute_result"
    }
   ],
   "source": [
    "index_name = \"samsung-db\"\n",
    "\n",
    "index = pc.Index(index_name)\n",
    "index"
   ]
  },
  {
   "cell_type": "code",
   "execution_count": 7,
   "id": "b62484fb",
   "metadata": {},
   "outputs": [
    {
     "data": {
      "text/plain": [
       "[Document(id='9c63bf7f-c54f-4087-8f0c-49926e76ed67', metadata={'phone_brand': 'samsung', 'phone_name': 'samsung_galaxy_s23_ultra'}, page_content='--- Name ---\\nSamsung Galaxy S23 Ultra\\n\\n--- Network ---\\nTechnology: GSM / CDMA / HSPA / EVDO / LTE / 5G\\n2G bands: GSM 850 / 900 / 1800 / 1900\\n: 1, 7, 28, 41, 66, 71, 78, 258, 260, 261 SA/NSA/Sub6/mmWave - USA\\n3G bands: HSDPA 850 / 900 / 1700(AWS) / 1900 / 2100\\n4G bands: 1, 2, 3, 4, 5, 7, 8, 12, 13, 17, 18, 19, 20, 25, 26, 28, 32, 38, 39, 40, 41, 66 - International\\n5G bands: 1, 2, 3, 5, 7, 8, 12, 20, 25, 28, 38, 40, 41, 66, 75, 77, 78 SA/NSA/Sub6 - International\\nSpeed: HSPA, LTE (up to 7CA), 5G\\n\\n--- Launch ---\\nAnnounced: 2023, February 01\\nStatus: Available. Released 2023, February 17\\n\\n--- Body ---\\nDimensions: 163.4 x 78.1 x 8.9 mm (6.43 x 3.07 x 0.35 in)\\nWeight: 234 g (8.25 oz)\\nBuild: Glass front (Gorilla Glass Victus 2), glass back (Gorilla Glass Victus 2), aluminum frame\\nSIM: Nano-SIM + eSIMNano-SIM + Nano-SIM + eSIM (max 2 at a time)\\n: IP68 dust tight and water resistant (immersible up to 1.5m for 30 min)\\nArmor aluminum frame\\nStylus (Bluetooth integration, accelerometer, gyro)\\n\\n--- Display ---\\nType: Dynamic AMOLED 2X, 120Hz, HDR10+, 1200 nits (HBM), 1750 nits (peak)\\nSize: 6.8 inches, 114.7 cm2 (~89.9% screen-to-body ratio)\\nResolution: 1440 x 3088 pixels, 19.3:9 ratio (~500 ppi density)\\nProtection: Corning Gorilla Glass Victus 2\\n\\n--- Platform ---\\nOS: Android 13, up to 4 major Android upgrades, One UI 6.1.1\\nChipset: Qualcomm SM8550-AC Snapdragon 8 Gen 2 (4 nm)\\nCPU: Octa-core (1x3.36 GHz Cortex-X3 & 2x2.8 GHz Cortex-A715 & 2x2.8 GHz Cortex-A710 & 3x2.0 GHz Cortex-A510)\\nGPU: Adreno 740\\n\\n--- Memory ---\\nCard slot: No\\nInternal: 256GB 8GB RAM, 256GB 12GB RAM, 512GB 12GB RAM, 1TB 12GB RAM\\n: UFS 4.0\\n\\n--- Main Camera ---\\nQuad: 200 MP, f/1.7, 24mm (wide), 1/1.3\", 0.6µm, multi-directional PDAF, OIS\\n10 MP, f/2.4, 70mm (telephoto), 1/3.52\", 1.12µm, PDAF, OIS, 3x optical zoom\\n10 MP, f/4.9, 230mm (periscope telephoto), 1/3.52\", 1.12µm, PDAF, OIS, 10x optical zoom\\n12 MP, f/2.2, 13mm, 120˚ (ultrawide), 1/2.55\", 1.4µm, dual pixel PDAF, Super Steady video\\nFeatures: Laser AF, LED flash, auto-HDR, panorama\\nVideo: 8K@24/30fps, 4K@30/60fps, 1080p@30/60/120/240fps, HDR10+, stereo sound rec., gyro-EIS\\n\\n--- Selfie camera ---\\nSingle: 12 MP, f/2.2, 26mm (wide), 1/3.2\", 1.12µm, dual pixel PDAF\\nFeatures: HDR, HDR10+\\nVideo: 4K@30/60fps, 1080p@30fps\\n\\n--- Sound ---\\nLoudspeaker: Yes, with stereo speakers\\n3.5mm jack: No\\n: 32-bit/384kHz audio\\nTuned by AKG\\n\\n--- Comms ---\\nWLAN: Wi-Fi 802.11 a/b/g/n/ac/6e, tri-band, Wi-Fi Direct\\nBluetooth: 5.3, A2DP, LE\\nPositioning: GPS, GALILEO, GLONASS, BDS, QZSS\\nNFC: Yes\\nRadio: No\\nUSB: USB Type-C 3.2, OTG\\n\\n--- Features ---\\nSensors: Fingerprint (under display, ultrasonic), accelerometer, gyro, proximity, compass, barometer\\n: Samsung DeX, Samsung Wireless DeX (desktop experience support)\\nUltra Wideband (UWB) support\\nCircle to Search\\n\\n--- Battery ---\\nType: Li-Ion 5000 mAh\\nCharging: 45W wired, PD3.0, 65% in 30 min\\n15W wireless (Qi)\\n4.5W reverse wireless\\n\\n--- Misc ---\\nColors: Phantom Black, Green, Cream, Lavender, Graphite, Sky Blue, Lime, Red, BMW M Edition\\nModels: SM-S918B, SM-S918B/DS, SM-S918U, SM-S918U1, SM-S918W, SM-S918N, SM-S9180, SM-S918E, SM-S918E/DS\\nSAR: 1.12 W/kg (head)     0.92 W/kg (body)\\nSAR EU: 0.96 W/kg (head)     1.40 W/kg (body)\\nPrice: $\\u2009479.95 / C$\\u2009566.99 / £\\u2009359.99 / €\\u2009462.79 / ₹\\u200977,949\\n\\n--- Tests ---\\nPerformance: AnTuTu: 1241531 (v9)\\nGeekBench: 4927 (v5.1)\\n3DMark: 3790 (Wild Life Extreme)\\nDisplay: 1274 nits max brightness (measured)\\nCamera: Photo / Video\\nLoudspeaker: -25.6 LUFS (Very good)\\nBattery (new): Active use score 13:24h\\nBattery (old): Endurance rating 126h\\n'),\n",
       " Document(id='485aace1-9799-43d0-95df-01067a01c8fd', metadata={'phone_brand': 'samsung', 'phone_name': 'samsung_galaxy_s23'}, page_content='--- Name ---\\nSamsung Galaxy S23\\n\\n--- Network ---\\nTechnology: GSM / CDMA / HSPA / EVDO / LTE / 5G\\n2G bands: GSM 850 / 900 / 1800 / 1900\\n: 1, 7, 25, 28, 41, 66, 71, 78, 258, 260, 261 SA/NSA/Sub6/mmWave - USA\\n3G bands: HSDPA 850 / 900 / 1700(AWS) / 1900 / 2100\\n4G bands: 1, 2, 3, 4, 5, 7, 8, 12, 13, 17, 18, 19, 20, 25, 26, 28, 32, 38, 39, 40, 41, 66 - International\\n5G bands: 1, 2, 3, 5, 7, 8, 12, 20, 25, 28, 38, 40, 41, 66, 75, 77, 78 SA/NSA/Sub6 - International\\nSpeed: HSPA, LTE (up to 7CA), 5G\\n\\n--- Launch ---\\nAnnounced: 2023, February 01\\nStatus: Available. Released 2023, February 17\\n\\n--- Body ---\\nDimensions: 146.3 x 70.9 x 7.6 mm (5.76 x 2.79 x 0.30 in)\\nWeight: 168 g (5.93 oz)\\nBuild: Glass front (Gorilla Glass Victus 2), glass back (Gorilla Glass Victus 2), aluminum frame\\nSIM: Nano-SIM + eSIMNano-SIM + Nano-SIM + eSIM (max 2 at a time)\\n: IP68 dust tight and water resistant (immersible up to 1.5m for 30 min)\\nArmor aluminum frame\\n\\n--- Display ---\\nType: Dynamic AMOLED 2X, 120Hz, HDR10+, 1200 nits (HBM), 1750 nits (peak)\\nSize: 6.1 inches, 90.1 cm2 (~86.8% screen-to-body ratio)\\nResolution: 1080 x 2340 pixels, 19.5:9 ratio (~425 ppi density)\\nProtection: Corning Gorilla Glass Victus 2\\n\\n--- Platform ---\\nOS: Android 13, up to 4 major Android upgrades, One UI 6.1.1\\nChipset: Qualcomm SM8550-AC Snapdragon 8 Gen 2 (4 nm)\\nCPU: Octa-core (1x3.36 GHz Cortex-X3 & 2x2.8 GHz Cortex-A715 & 2x2.8 GHz Cortex-A710 & 3x2.0 GHz Cortex-A510)\\nGPU: Adreno 740\\n\\n--- Memory ---\\nCard slot: No\\nInternal: 128GB 8GB RAM, 256GB 8GB RAM, 512GB 8GB RAM\\n: UFS 3.1 - 128GB only\\nUFS 4.0\\n\\n--- Main Camera ---\\nTriple: 50 MP, f/1.8, 24mm (wide), 1/1.56\", 1.0µm, dual pixel PDAF, OIS\\n10 MP, f/2.4, 70mm (telephoto), 1/3.94\", 1.0µm, PDAF, OIS, 3x optical zoom\\n12 MP, f/2.2, 13mm, 120˚ (ultrawide), 1/2.55\" 1.4µm, Super Steady video\\nFeatures: LED flash, auto-HDR, panorama\\nVideo: 8K@24/30fps, 4K@30/60fps, 1080p@30/60/120/240fps, HDR10+, stereo sound rec., gyro-EIS\\n\\n--- Selfie camera ---\\nSingle: 12 MP, f/2.2, 26mm (wide), 1/3.2\", 1.12µm, dual pixel PDAF\\nFeatures: HDR, HDR10+\\nVideo: 4K@30/60fps, 1080p@30fps\\n\\n--- Sound ---\\nLoudspeaker: Yes, with stereo speakers\\n3.5mm jack: No\\n: 32-bit/384kHz audio\\nTuned by AKG\\n\\n--- Comms ---\\nWLAN: Wi-Fi 802.11 a/b/g/n/ac/6e, tri-band, Wi-Fi Direct\\nBluetooth: 5.3, A2DP, LE\\nPositioning: GPS, GLONASS, BDS, GALILEO\\nNFC: Yes\\nRadio: No\\nUSB: USB Type-C 3.2, OTG\\n\\n--- Features ---\\nSensors: Fingerprint (under display, ultrasonic), accelerometer, gyro, proximity, compass, barometer\\n: Samsung DeX, Samsung Wireless DeX (desktop experience support)\\nCircle to Search\\n\\n--- Battery ---\\nType: Li-Ion 3900 mAh\\nCharging: 25W wired, PD3.0, 50% in 30 min\\n15W wireless (Qi)\\n4.5W reverse wireless\\n\\n--- Misc ---\\nColors: Phantom Black, Cream, Green, Lavender, Graphite, Lime\\nModels: SM-S911B, SM-S911B/DS, SM-S911U, SM-S911U1, SM-S911W, SM-S911N, SM-S9110, SM-S911E, SM-S911E/DS\\nSAR: 0.95 W/kg (head)     0.88 W/kg (body)\\nSAR EU: 0.96 W/kg (head)     1.30 W/kg (body)\\nPrice: $\\u2009244.95 / C$\\u2009409.74 / £\\u2009239.99 / €\\u2009342.00 / ₹\\u200947,500\\n\\n--- Tests ---\\nPerformance: AnTuTu: 1231075 (v9)\\nGeekBench: 4950 (v5.1)\\nGFXBench: 110fps (ES 3.1 onscreen)\\nDisplay: 1198 nits max brightness (measured)\\nCamera: Photo / Video\\nLoudspeaker: -27.0 LUFS (Good)\\nBattery (new): Active use score 11:27h\\nBattery (old): Endurance rating 101h\\n'),\n",
       " Document(id='29bf7be5-e4f2-4df0-8cf3-566aee86b040', metadata={'phone_brand': 'samsung', 'phone_name': 'samsung_galaxy_s25_ultra'}, page_content='--- Name ---\\nSamsung Galaxy S25 Ultra\\n\\n--- Network ---\\nTechnology: GSM / CDMA / HSPA / EVDO / LTE / 5G\\n2G bands: GSM 850 / 900 / 1800 / 1900\\n: 1, 2, 5, 7, 25, 28, 41, 66, 71, 77, 78, 257, 258, 260, 261 SA/NSA/Sub6/mmWave - USA unlocked\\n3G bands: HSDPA 850 / 900 / 1700(AWS) / 1900 / 2100\\n4G bands: 1, 2, 3, 4, 5, 7, 8, 12, 13, 17, 18, 19, 20, 25, 26, 28, 32, 38, 39, 40, 41, 66 - International\\n5G bands: 1, 2, 3, 5, 7, 8, 12, 20, 25, 26, 28, 38, 40, 41, 66, 75, 77, 78 SA/NSA/Sub6 - International\\nSpeed: HSPA, LTE (up to 7CA), 5G\\n\\n--- Launch ---\\nAnnounced: 2025, January 22\\nStatus: Available. Released 2025, February 03\\n\\n--- Body ---\\nDimensions: 162.8 x 77.6 x 8.2 mm (6.41 x 3.06 x 0.32 in)\\nWeight: 218 g (7.69 oz)\\nBuild: Glass front (Corning Gorilla Armor 2), glass back (Gorilla Glass Victus 2), titanium frame (grade 5)\\nSIM: Nano-SIM + Nano-SIM + eSIM + eSIM (max 2 at a time) - INT Nano-SIM + eSIM + eSIM (max 2 at a time) - USA Nano-SIM + Nano-SIM - CN\\n: IP68 dust tight and water resistant (immersible up to 1.5m for 30 min)\\nStylus\\n\\n--- Display ---\\nType: Dynamic LTPO AMOLED 2X, 120Hz, 480Hz PWM, HDR10+, 2600 nits (peak)\\nSize: 6.9 inches, 116.9 cm2 (~92.5% screen-to-body ratio)\\nResolution: 1440 x 3120 pixels, 19.5:9 ratio (~498 ppi density)\\nProtection: Corning Gorilla Armor 2\\n: DX anti-reflective coating\\n\\n--- Platform ---\\nOS: Android 15, up to 7 major Android upgrades, One UI 7\\nChipset: Qualcomm SM8750-AB Snapdragon 8 Elite (3 nm)\\nCPU: Octa-core (2x4.47 GHz Oryon V2 Phoenix L + 6x3.53 GHz Oryon V2 Phoenix M)\\nGPU: Adreno 830\\n\\n--- Memory ---\\nCard slot: No\\nInternal: 256GB 12GB RAM, 512GB 12GB RAM, 1TB 12GB RAM, 1TB 16GB RAM\\n: UFS 4.0\\n\\n--- Main Camera ---\\nQuad: 200 MP, f/1.7, 24mm (wide), 1/1.3\", 0.6µm, multi-directional PDAF, OIS\\n10 MP, f/2.4, 67mm (telephoto), 1/3.52\", 1.12µm, PDAF, OIS, 3x optical zoom\\n50 MP, f/3.4, 111mm (periscope telephoto), 1/2.52\", 0.7µm, PDAF, OIS, 5x optical zoom\\n50 MP, f/1.9, 120˚ (ultrawide), 1/2.5\", 0.7µm, dual pixel PDAF, Super Steady video\\nFeatures: Laser AF, Best Face, LED flash, auto-HDR, panorama\\nVideo: 8K@24/30fps, 4K@30/60/120fps, 1080p@30/60/120/240fps, 10-bit HDR, HDR10+, stereo sound rec., gyro-EIS\\n\\n--- Selfie camera ---\\nSingle: 12 MP, f/2.2, 26mm (wide), 1/3.2\", 1.12µm, dual pixel PDAF\\nFeatures: HDR, HDR10+\\nVideo: 4K@30/60fps, 1080p@30fps\\n\\n--- Sound ---\\nLoudspeaker: Yes, with stereo speakers\\n3.5mm jack: No\\n: 32-bit/384kHz audio\\nTuned by AKG\\n\\n--- Comms ---\\nWLAN: Wi-Fi 802.11 a/b/g/n/ac/6e/7, tri-band, Wi-Fi Direct\\nBluetooth: 5.4, A2DP, LE\\nPositioning: GPS, GLONASS, BDS, GALILEO, QZSS\\nNFC: Yes\\nRadio: No\\nUSB: USB Type-C 3.2, DisplayPort 1.2, OTG\\n\\n--- Features ---\\nSensors: Fingerprint (under display, ultrasonic), accelerometer, gyro, proximity, compass, barometer\\n: Samsung DeX, Samsung Wireless DeX (desktop experience support)\\nUltra Wideband (UWB) support\\nCircle to Search\\n\\n--- Battery ---\\nType: Li-Ion 5000 mAh\\nCharging: 45W wired, PD3.0, 65% in 30 min\\n15W wireless (Qi2 Ready)\\n4.5W reverse wireless\\n\\n--- Misc ---\\nColors: Titanium Silver Blue, Titanium Black, Titanium White Silver, Titanium Gray, Titanium Jade Green, Titanium Jet Black, Titanium Pink Gold\\nModels: SM-S938B, SM-S938B/DS, SM-S938U, SM-S938U1, SM-S938W, SM-S938N, SM-S9380, SM-S938E, SM-S938E/DS\\nSAR: 1.26 W/kg (head)     0.64 W/kg (body)\\nSAR EU: 1.25 W/kg (head)     1.42 W/kg (body)\\nPrice: €\\u2009927.00 / $\\u2009858.95 / £\\u2009859.00 / ₹\\u2009117,999\\n\\n--- Tests ---\\nPerformance: AnTuTu: 2207809 (v10)\\nGeekBench: 9846 (v6)\\n3DMark: 6687 (Wild Life Extreme)\\nDisplay: 1417 nits max brightness (measured)\\nLoudspeaker: -24.6 LUFS (Very good)\\nBattery (new): Active use score 14:49h\\n'),\n",
       " Document(id='6e63d6ed-fec2-436e-911e-a4355e2775df', metadata={'phone_brand': 'samsung', 'phone_name': 'samsung_galaxy_s24'}, page_content='--- Name ---\\nSamsung Galaxy S24\\n\\n--- Network ---\\nTechnology: GSM / CDMA / HSPA / EVDO / LTE / 5G\\n2G bands: GSM 850 / 900 / 1800 / 1900\\n: 1, 7, 25, 28, 41, 66, 71, 78, 257, 258, 260, 261 SA/NSA/Sub6/mmWave - USA\\n3G bands: HSDPA 850 / 900 / 1700(AWS) / 1900 / 2100\\n4G bands: 1, 2, 3, 4, 5, 7, 8, 12, 13, 17, 18, 19, 20, 25, 26, 28, 32, 38, 39, 40, 41, 66 - International\\n5G bands: 1, 2, 3, 5, 7, 8, 12, 20, 25, 26, 28, 38, 40, 41, 66, 75, 77, 78 SA/NSA/Sub6 - International\\nSpeed: HSPA, LTE (up to 7CA), 5G\\n\\n--- Launch ---\\nAnnounced: 2024, January 17\\nStatus: Available. Released 2024, January 24\\n\\n--- Body ---\\nDimensions: 147 x 70.6 x 7.6 mm (5.79 x 2.78 x 0.30 in)\\nWeight: 167 g or 168 g (5.89 oz)\\nBuild: Glass front (Gorilla Glass Victus 2), glass back (Gorilla Glass Victus 2), aluminum frame\\nSIM: Nano-SIM + Nano-SIM + eSIM + eSIM (max 2 at a time) - INT Nano-SIM + eSIM + eSIM (max 2 at a time) - USA Nano-SIM + Nano-SIM - CN\\n: IP68 dust tight and water resistant (immersible up to 1.5m for 30 min)\\nArmor aluminum 2 frame\\n\\n--- Display ---\\nType: Dynamic LTPO AMOLED 2X, 120Hz, 480Hz PWM, HDR10+, 2600 nits (peak)\\nSize: 6.2 inches, 94.4 cm2 (~90.9% screen-to-body ratio)\\nResolution: 1080 x 2340 pixels, 19.5:9 ratio (~416 ppi density)\\nProtection: Corning Gorilla Glass Victus 2\\n\\n--- Platform ---\\nOS: Android 14, up to 7 major Android upgrades, One UI 6.1.1\\nChipset: Qualcomm SM8650-AC Snapdragon 8 Gen 3 (4 nm) - USA/Canada/ChinaExynos 2400 (4 nm) - International\\nCPU: 8-core (1x3.39GHz Cortex-X4 & 3x3.1GHz Cortex-A720 & 2x2.9GHz Cortex-A720 & 2x2.2GHz Cortex-A520)10-core (1x3.2GHz Cortex-X4 & 2x2.9GHz Cortex-A720 & 3x2.6GHz Cortex-A720 & 4x1.95GHz Cortex-A520)\\nGPU: Adreno 750 (1 GHz) - USA/Canada/ChinaXclipse 940 - International\\n\\n--- Memory ---\\nCard slot: No\\nInternal: 128GB 8GB RAM, 256GB 8GB RAM, 256GB 12GB RAM, 512GB 8GB RAM\\n: UFS 3.1 - 128GB only\\nUFS 4.0\\n\\n--- Main Camera ---\\nTriple: 50 MP, f/1.8, 24mm (wide), 1/1.56\", 1.0µm, dual pixel PDAF, OIS\\n10 MP, f/2.4, 67mm (telephoto), 1/3.94\", 1.0µm, PDAF, OIS, 3x optical zoom\\n12 MP, f/2.2, 13mm, 120˚ (ultrawide), 1/2.55\" 1.4µm, Super Steady video\\nFeatures: LED flash, auto-HDR, panorama\\nVideo: 8K@24/30fps, 4K@30/60fps, 1080p@30/60/120/240fps, HDR10+, stereo sound rec., gyro-EIS\\n\\n--- Selfie camera ---\\nSingle: 12 MP, f/2.2, 26mm (wide), 1/3.2\", 1.12µm, dual pixel PDAF\\nFeatures: HDR, HDR10+\\nVideo: 4K@30/60fps, 1080p@30fps\\n\\n--- Sound ---\\nLoudspeaker: Yes, with stereo speakers\\n3.5mm jack: No\\n: 32-bit/384kHz audio\\nTuned by AKG\\n\\n--- Comms ---\\nWLAN: Wi-Fi 802.11 a/b/g/n/ac/6e, tri-band, Wi-Fi Direct\\nBluetooth: 5.3, A2DP, LE\\nPositioning: GPS, GLONASS, BDS, GALILEO, QZSS\\nNFC: Yes\\nRadio: No\\nUSB: USB Type-C 3.2, DisplayPort 1.2, OTG\\n\\n--- Features ---\\nSensors: Fingerprint (under display, ultrasonic), accelerometer, gyro, proximity, compass, barometer\\n: Samsung DeX, Samsung Wireless DeX (desktop experience support)\\nCircle to Search\\n\\n--- Battery ---\\nType: Li-Ion 4000 mAh\\nCharging: 25W wired, PD3.0, 50% in 30 min\\n15W wireless (Qi)\\n4.5W reverse wireless\\n\\n--- Misc ---\\nColors: Onyx Black, Marble Grey, Cobalt Violet, Amber Yellow, Jade Green, Sandstone Orange, Sapphire Blue\\nModels: SM-S921B, SM-S921B/DS, SM-S921U, SM-S921U1, SM-S921W, SM-S921N, SM-S9210, SM-S921E, SM-S921E/DS\\nSAR: 1.23 W/kg (head)     1.10 W/kg (body)\\nSAR EU: 0.87 W/kg (head)     1.35 W/kg (body)\\nPrice: €\\u2009407.69 / $\\u2009303.95 / £\\u2009383.60 / ₹\\u200943,440\\n\\n--- Tests ---\\nPerformance: AnTuTu: 1218977 (v9), 1696727 \\n(v10)\\nGeekBench: 5833 (v5), 6747 (v6)\\n3DMark: 4183 (Wild Life Extreme)\\nDisplay: 1401 nits max brightness (measured)\\nCamera: Photo / Video\\nLoudspeaker: -25.2 LUFS (Very good)\\nBattery (new): Active use score 12:06h\\n')]"
      ]
     },
     "execution_count": 7,
     "metadata": {},
     "output_type": "execute_result"
    }
   ],
   "source": [
    "from langchain_pinecone import PineconeVectorStore\n",
    "\n",
    "vector_store = PineconeVectorStore(index=index, embedding=embeddings)\n",
    "vector_store.similarity_search(\"tell me about samsung s23 ultra\")"
   ]
  },
  {
   "cell_type": "markdown",
   "id": "c6f2a17a",
   "metadata": {},
   "source": [
    "## Data extraction from MySQL database"
   ]
  },
  {
   "cell_type": "code",
   "execution_count": 1,
   "id": "0f432b4e",
   "metadata": {},
   "outputs": [],
   "source": [
    "import mysql.connector\n",
    "conn = mysql.connector.connect(\n",
    "    host='localhost',\n",
    "    user='root',\n",
    "    password='',\n",
    "    database='device_specs_db'\n",
    ")"
   ]
  },
  {
   "cell_type": "code",
   "execution_count": 2,
   "id": "6c3160c6",
   "metadata": {},
   "outputs": [],
   "source": [
    "from sqlalchemy import create_engine\n",
    "\n",
    "engine = create_engine('mysql+pymysql://root:@localhost/device_specs_db')"
   ]
  },
  {
   "cell_type": "code",
   "execution_count": 3,
   "id": "7f3f5aed",
   "metadata": {},
   "outputs": [
    {
     "name": "stdout",
     "output_type": "stream",
     "text": [
      "              phone_name     network_technology             network_2g_bands  \\\n",
      "0  Samsung Galaxy A06 5G  GSM / HSPA / LTE / 5G  GSM 850 / 900 / 1800 / 1900   \n",
      "\n",
      "                            network_3g_bands  \\\n",
      "0  HSDPA 850 / 900 / 1700(AWS) / 1900 / 2100   \n",
      "\n",
      "                                    network_4g_bands  \\\n",
      "0  1, 2, 3, 4, 5, 7, 8, 12, 17, 20, 26, 28, 38, 4...   \n",
      "\n",
      "                                    network_5g_bands  network_speed  \\\n",
      "0  1, 3, 5, 7, 8, 26, 28, 40, 41, 66, 77, 78 SA/N...  HSPA, LTE, 5G   \n",
      "\n",
      "    launch_announced                          launch_status  \\\n",
      "0  2025, February 19  Available. Released 2025, February 19   \n",
      "\n",
      "                               body_dimensions  ... comms_bluetooth  \\\n",
      "0  167.3 x 77.3 x 8 mm (6.59 x 3.04 x 0.31 in)  ...   5.3, A2DP, LE   \n",
      "\n",
      "            comms_positioning comms_nfc  comms_radio       comms_usb  \\\n",
      "0  GPS, GLONASS, GALILEO, BDS        No  Unspecified  USB Type-C 2.0   \n",
      "\n",
      "                                    features_sensors battery_type  \\\n",
      "0  Fingerprint (side-mounted), accelerometer, gyr...     5000 mAh   \n",
      "\n",
      "  battery_charging               misc_colors            misc_models  \n",
      "0        25W wired  Black, Gray, Light Green  SM-A066B, SM-A066B/DS  \n",
      "\n",
      "[1 rows x 39 columns]\n"
     ]
    }
   ],
   "source": [
    "from sqlalchemy import text\n",
    "import pandas as pd\n",
    "\n",
    "phone_name = \"Samsung Galaxy A06 5G\"\n",
    "query = text(\"SELECT * FROM samsung_phone WHERE phone_name = :phone_name\")\n",
    "df = pd.read_sql(query, con=engine, params={\"phone_name\": phone_name})\n",
    "\n",
    "print(df.head())"
   ]
  },
  {
   "cell_type": "code",
   "execution_count": 16,
   "id": "f52b4a51",
   "metadata": {},
   "outputs": [
    {
     "data": {
      "text/plain": [
       "'phone_name                                          Samsung Galaxy A06 5G\\nnetwork_technology                                  GSM / HSPA / LTE / 5G\\nnetwork_2g_bands                              GSM 850 / 900 / 1800 / 1900\\nnetwork_3g_bands                HSDPA 850 / 900 / 1700(AWS) / 1900 / 2100\\nnetwork_4g_bands        1, 2, 3, 4, 5, 7, 8, 12, 17, 20, 26, 28, 38, 4...\\nnetwork_5g_bands        1, 3, 5, 7, 8, 26, 28, 40, 41, 66, 77, 78 SA/N...\\nnetwork_speed                                               HSPA, LTE, 5G\\nlaunch_announced                                        2025, February 19\\nlaunch_status                       Available. Released 2025, February 19\\nbody_dimensions               167.3 x 77.3 x 8 mm (6.59 x 3.04 x 0.31 in)\\nbody_weight                                               191 g (6.74 oz)\\nbody_build                       Glass front, plastic back, plastic frame\\nbody_sim                                              Nano-SIM + Nano-SIM\\ndisplay_type                                                PLS LCD, 90Hz\\ndisplay_size            6.7 inches, 108.4 cm2 (~83.8% screen-to-body r...\\ndisplay_resolution       720 x 1600 pixels, 20:9 ratio (~262 ppi density)\\nplatform_os             Android 15, up to 4 major Android upgrades, On...\\nplatform_chipset                           Mediatek Dimensity 6300 (6 nm)\\nplatform_cpu            Octa-core (2x2.4 GHz Cortex-A76 & 6x2.0 GHz Co...\\nplatform_gpu                                                 Mali-G57 MC2\\nmemory_card_slot                         microSDXC (uses shared SIM slot)\\nmemory_internal                64GB 4GB RAM, 128GB 4GB RAM, 128GB 6GB RAM\\nmain_camera_features                                            LED flash\\nmain_camera_video                                          1080p@30/60fps\\nselfie_camera_single                  8 MP, f/2.0, (wide), 1/4.0\", 1.12µm\\nselfie_camera_video                                                   Yes\\nsound_loudspeaker                                                     Yes\\nsound_3.5mm_jack                                                      Yes\\ncomms_wlan               Wi-Fi 802.11 a/b/g/n/ac, dual-band, Wi-Fi Direct\\ncomms_bluetooth                                             5.3, A2DP, LE\\ncomms_positioning                              GPS, GLONASS, GALILEO, BDS\\ncomms_nfc                                                              No\\ncomms_radio                                                   Unspecified\\ncomms_usb                                                  USB Type-C 2.0\\nfeatures_sensors        Fingerprint (side-mounted), accelerometer, gyr...\\nbattery_type                                                     5000 mAh\\nbattery_charging                                                25W wired\\nmisc_colors                                      Black, Gray, Light Green\\nmisc_models                                         SM-A066B, SM-A066B/DS'"
      ]
     },
     "execution_count": 16,
     "metadata": {},
     "output_type": "execute_result"
    }
   ],
   "source": [
    "context_str = df.iloc[0].to_string()\n",
    "context_str"
   ]
  },
  {
   "cell_type": "code",
   "execution_count": 53,
   "id": "ed0fdfb0",
   "metadata": {},
   "outputs": [
    {
     "data": {
      "text/plain": [
       "str"
      ]
     },
     "execution_count": 53,
     "metadata": {},
     "output_type": "execute_result"
    }
   ],
   "source": [
    "type(context_str)"
   ]
  },
  {
   "cell_type": "code",
   "execution_count": 4,
   "id": "9e7c91e5",
   "metadata": {},
   "outputs": [],
   "source": [
    "from pydantic import BaseModel, Field\n",
    "from typing import Annotated\n",
    "\n",
    "class PhoneName(BaseModel):\n",
    "    \"\"\"This class is responsible for extract the phone name form the user query.\"\"\"\n",
    "    \n",
    "    phone_name: Annotated[str, Field(description=\"Extract the phone name only form the user query and follow this rule: each word starts with a capital letter, numbers and suffixes are as in model name\")]"
   ]
  },
  {
   "cell_type": "code",
   "execution_count": 7,
   "id": "2b29c40d",
   "metadata": {},
   "outputs": [],
   "source": [
    "from langchain_core.output_parsers import PydanticOutputParser\n",
    "phone_name_parser = PydanticOutputParser(pydantic_object=PhoneName)"
   ]
  },
  {
   "cell_type": "code",
   "execution_count": 8,
   "id": "b880d9fb",
   "metadata": {},
   "outputs": [],
   "source": [
    "from langchain_core.prompts import PromptTemplate\n",
    "\n",
    "\n",
    "phone_name_prompt = PromptTemplate(\n",
    "    template=\"\"\"\n",
    "You are an AI assistant responsible for extracting phone names from user queries about Samsung phones.\n",
    "\n",
    "Your task:\n",
    "- Extract the exact phone name mentioned in the user's query.\n",
    "- The phone name must follow this style: each word starts with a capital letter, numbers and suffixes are as in the model name.\n",
    "- Return only the phone name in the structured format expected by the system (do not include any extra text or explanation).\n",
    "\n",
    "Examples:\n",
    "\n",
    "User query: \"Tell me about the samsung galaxy s23 ultra\"\n",
    "Extracted phone_name: \"Samsung Galaxy S23 Ultra\"\n",
    "\n",
    "User query: \"What is the battery life of the galaxy a06 5g?\"\n",
    "Extracted phone_name: \"Samsung Galaxy A06 5G\"\n",
    "\n",
    "User query: \"Give specs for samsung galaxy m15\"\n",
    "Extracted phone_name: \"Samsung Galaxy M15\"\n",
    "\n",
    "---\n",
    "\n",
    "Now extract the phone name from this user query:\n",
    "\n",
    "User query: {question}\n",
    "\n",
    "Return the result as a this output format instruction: {format_instruction}\n",
    "\"\"\",\n",
    "    input_variables=[\"question\"],\n",
    "    partial_variables={\n",
    "            \"format_instruction\": phone_name_parser.get_format_instructions()\n",
    "        }\n",
    ")\n",
    "\n",
    "\n"
   ]
  },
  {
   "cell_type": "code",
   "execution_count": 13,
   "id": "43b2b019",
   "metadata": {},
   "outputs": [
    {
     "data": {
      "text/plain": [
       "PhoneName(phone_name='Samsung Galaxy S23 Ultra')"
      ]
     },
     "execution_count": 13,
     "metadata": {},
     "output_type": "execute_result"
    }
   ],
   "source": [
    "chain = phone_name_prompt | llm | phone_name_parser\n",
    "response = chain.invoke(\"Tell me about the samsung galaxy s23 ultra\")\n",
    "response"
   ]
  },
  {
   "cell_type": "code",
   "execution_count": 14,
   "id": "57761c67",
   "metadata": {},
   "outputs": [
    {
     "data": {
      "text/plain": [
       "'Samsung Galaxy S23 Ultra'"
      ]
     },
     "execution_count": 14,
     "metadata": {},
     "output_type": "execute_result"
    }
   ],
   "source": [
    "response.phone_name"
   ]
  },
  {
   "cell_type": "markdown",
   "id": "0861a314",
   "metadata": {},
   "source": [
    "## Now time to build the Multi Agent Workflow"
   ]
  },
  {
   "cell_type": "code",
   "execution_count": 62,
   "id": "018a82a1",
   "metadata": {},
   "outputs": [],
   "source": [
    "from langgraph.graph import MessagesState\n",
    "from sqlalchemy import text\n",
    "import pandas as pd\n",
    "\n",
    "from typing import TypedDict, Sequence\n",
    "from langchain_core.messages import BaseMessage\n",
    "import operator\n",
    "\n",
    "class State(TypedDict):\n",
    "    \"\"\"This is is my graph state where store all conversations.\"\"\"\n",
    "    messages: Annotated[Sequence[BaseMessage], operator.add]\n",
    "    phone_name: str"
   ]
  },
  {
   "cell_type": "code",
   "execution_count": 63,
   "id": "2bff820f",
   "metadata": {},
   "outputs": [],
   "source": [
    "def data_extraction(state: State):\n",
    "    print(\"--Data extraction--\")\n",
    "    question = state[\"messages\"][-1]\n",
    "    \n",
    "    ## query into the db\n",
    "    response = chain.invoke(question)\n",
    "\n",
    "    phone_name = response.phone_name\n",
    "    \n",
    "    query = text(\"SELECT * FROM samsung_phone WHERE phone_name = :phone_name\")\n",
    "    df = pd.read_sql(query, con=engine, params={\"phone_name\": phone_name})\n",
    "    context_str = df.iloc[0].to_string()\n",
    "    print(\"---Data extraction done---\")\n",
    "    \n",
    "    # print(context_str)\n",
    "    return {\n",
    "        \"phone_name\": context_str\n",
    "    }\n",
    "\n",
    "    "
   ]
  },
  {
   "cell_type": "code",
   "execution_count": 64,
   "id": "dcb11b16",
   "metadata": {},
   "outputs": [],
   "source": [
    "from langchain_core.prompts import PromptTemplate\n",
    "\n",
    "review_prompt = PromptTemplate(\n",
    "    template=\"\"\"\n",
    "You are the world's best phone reviewer, known for writing engaging, insightful, and professional reviews that captivate readers.\n",
    "\n",
    "Your task:\n",
    "- Use the provided phone context to generate a detailed, interesting, and natural-sounding review as a professional reviewer would write.\n",
    "- The review should directly address the user's question when possible.\n",
    "- Highlight key specs, features, and notable aspects that would matter to buyers (e.g., network, display, battery, camera, design).\n",
    "- Make the review flow smoothly — not as a list of specs but as a narrative that excites readers.\n",
    "- If the context is empty or missing important information, simply say:  \n",
    "**\"This phone is not available in our store.\"**  \n",
    "Do not attempt to guess or generate fake details.\n",
    "\n",
    "---\n",
    "\n",
    "📌 **User Question:**  \n",
    "{question}\n",
    "\n",
    "📌 **Phone Context (use this for your review):**  \n",
    "{context}\n",
    "\"\"\",\n",
    "    input_variables=[\"question\", \"context\"]\n",
    ")\n"
   ]
  },
  {
   "cell_type": "code",
   "execution_count": 47,
   "id": "f1825062",
   "metadata": {},
   "outputs": [],
   "source": [
    "from langchain_core.output_parsers import StrOutputParser"
   ]
  },
  {
   "cell_type": "code",
   "execution_count": null,
   "id": "6888cbd4",
   "metadata": {},
   "outputs": [],
   "source": []
  },
  {
   "cell_type": "code",
   "execution_count": 74,
   "id": "2e2dde50",
   "metadata": {},
   "outputs": [],
   "source": [
    "def review_generate(state: State):\n",
    "    print(\"--Review generate--\")\n",
    "    question = state['messages'][-1]\n",
    "    phone_context = state[\"phone_name\"]\n",
    "    print(question)\n",
    "    # print(phone_context)\n",
    "    \n",
    "    review_chain = review_prompt | llm | StrOutputParser()\n",
    "    # response = llm.invoke(question)\n",
    "    \n",
    "    response = review_chain.invoke(\n",
    "        {\n",
    "            \"question\": question,\n",
    "            \"context\": phone_context\n",
    "        }\n",
    "    )\n",
    "    \n",
    "    return {\n",
    "        \"messages\": [response]\n",
    "    }\n",
    "    "
   ]
  },
  {
   "cell_type": "code",
   "execution_count": null,
   "id": "a924d36f",
   "metadata": {},
   "outputs": [],
   "source": []
  },
  {
   "cell_type": "markdown",
   "id": "a5781042",
   "metadata": {},
   "source": [
    "## Define the Graph"
   ]
  },
  {
   "cell_type": "code",
   "execution_count": 79,
   "id": "ae8439ae",
   "metadata": {},
   "outputs": [
    {
     "data": {
      "image/png": "[encoded data removed]",
      "text/plain": [
       "<IPython.core.display.Image object>"
      ]
     },
     "metadata": {},
     "output_type": "display_data"
    }
   ],
   "source": [
    "from langgraph.graph import START, END, StateGraph\n",
    "from IPython.display import display, Image, Markdown\n",
    "\n",
    "builder = StateGraph(State)\n",
    "\n",
    "builder.add_node(\"Data_Gether\", data_extraction)\n",
    "builder.add_node(\"Review_Writer\", review_generate)\n",
    "\n",
    "## Define edges\n",
    "builder.add_edge(START, \"Data_Gether\")\n",
    "builder.add_edge(\"Data_Gether\", \"Review_Writer\")\n",
    "builder.add_edge(\"Review_Writer\", END)\n",
    "\n",
    "app = builder.compile()\n",
    "\n",
    "display(Image(app.get_graph().draw_mermaid_png()))"
   ]
  },
  {
   "cell_type": "code",
   "execution_count": 77,
   "id": "310ba79a",
   "metadata": {},
   "outputs": [
    {
     "name": "stdout",
     "output_type": "stream",
     "text": [
      "--Data extraction--\n",
      "---Data extraction done---\n",
      "--Review generate--\n",
      "Please write review to samsung galaxy s23 ultra phone\n"
     ]
    }
   ],
   "source": [
    "output = app.invoke(\n",
    "    {\n",
    "        \"messages\": [\"Please write review to samsung galaxy s23 ultra phone\"]\n",
    "    }\n",
    ")"
   ]
  },
  {
   "cell_type": "code",
   "execution_count": 80,
   "id": "d9361a05",
   "metadata": {},
   "outputs": [
    {
     "data": {
      "text/markdown": [
       "**Samsung Galaxy S23 Ultra Review: A Powerhouse of Innovation**\n",
       "\n",
       "In the world of smartphones, the Samsung Galaxy S23 Ultra stands out as a behemoth of technology and innovation. Released on February 17, 2023, this device has been making waves with its impressive specs and features that cater to both power users and those seeking a premium mobile experience. Let's dive into what makes the Galaxy S23 Ultra a top contender in the flagship market.\n",
       "\n",
       "**Design and Display**\n",
       "\n",
       "The Galaxy S23 Ultra boasts a stunning 6.8-inch Dynamic AMOLED 2X display, capable of reaching 120Hz refresh rates and an astonishing 1200 nits of peak brightness. This HDR10+ certified screen offers vivid colors, deep blacks, and an overall viewing experience that's hard to match. The phone's glass front and back, protected by Gorilla Glass Victus 2, give it a premium feel, while its IP67 rating ensures it can withstand dust and water. At 234g, the device feels substantial but not overly heavy, considering the powerhouse within.\n",
       "\n",
       "**Performance**\n",
       "\n",
       "Under the hood, the Qualcomm SM8550-AC Snapdragon 8 Gen2 chipset, built on a 4nm process, provides the brains and the brawn. This octa-core processor, coupled with Adreno 740 GPU, handles everything from demanding games to multitasking with ease. With up to 12GB of RAM and options ranging from 256GB to 512GB of internal storage, the Galaxy S23 Ultra is well-equipped to handle any task you throw at it. And with Android 13 out of the box, along with a promise of up to four major Android upgrades, users can enjoy the latest software features for years to come.\n",
       "\n",
       "**Camera Capabilities**\n",
       "\n",
       "The camera system on the Galaxy S23 Ultra is nothing short of spectacular. The main sensor boasts an impressive setup with Laser AF, LED flash, auto-HDR, and panorama features. It can record 8K video at 24/30fps, 4K at 30/60fps, and slow-motion videos up to 240fps. The 12MP front camera doesn't disappoint either, offering 4K video recording and a wide-angle lens perfect for selfies and video calls.\n",
       "\n",
       "**Battery Life and Charging**\n",
       "\n",
       "A 5000mAh battery powers the Galaxy S23 Ultra, and with 45W wired charging (reaching 65% in just 30 minutes), 15W wireless charging, and reverse wireless charging, staying powered up is quick and convenient.\n",
       "\n",
       "**Connectivity and Extras**\n",
       "\n",
       "In terms of connectivity, this phone has it all: 5G and 4G support across a wide range of bands, Wi-Fi 6e, tri-band, Bluetooth 5.3, NFC, and a USB Type-C 3.2 port. The under-display ultrasonic fingerprint sensor provides fast and secure biometric authentication.\n",
       "\n",
       "**Conclusion**\n",
       "\n",
       "The Samsung Galaxy S23 Ultra is more than just a smartphone; it's a statement of what mobile technology can achieve. With its top-of-the-line specs, exceptional display, versatile camera system, and robust battery life, it's a device that's hard to beat. Whether you're a professional looking for a reliable workhorse, a gamer seeking high-performance, or simply someone who wants the best of the best, the Galaxy S23 Ultra is an excellent choice.\n",
       "\n",
       "**Rating:** 5/5\n",
       "\n",
       "**Recommendation:** If you're due for an upgrade or are in the market for a premium Android device that ticks all the boxes, the Samsung Galaxy S23 Ultra is undoubtedly worth considering. Its price may reflect its high-end status, but for those who value performance, camera quality, and future-proof features, it's an investment that will serve well for years to come."
      ],
      "text/plain": [
       "<IPython.core.display.Markdown object>"
      ]
     },
     "execution_count": 80,
     "metadata": {},
     "output_type": "execute_result"
    }
   ],
   "source": [
    "Markdown(output[\"messages\"][-1])"
   ]
  },
  {
   "cell_type": "code",
   "execution_count": null,
   "id": "d9e6525f",
   "metadata": {},
   "outputs": [],
   "source": []
  }
 ],
 "metadata": {
  "kernelspec": {
   "display_name": "Python 3",
   "language": "python",
   "name": "python3"
  },
  "language_info": {
   "codemirror_mode": {
    "name": "ipython",
    "version": 3
   },
   "file_extension": ".py",
   "mimetype": "text/x-python",
   "name": "python",
   "nbconvert_exporter": "python",
   "pygments_lexer": "ipython3",
   "version": "3.12.0"
  }
 },
 "nbformat": 4,
 "nbformat_minor": 5
}
